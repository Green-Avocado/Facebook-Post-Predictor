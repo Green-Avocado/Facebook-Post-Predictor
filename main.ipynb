{
 "cells": [
  {
   "cell_type": "markdown",
   "metadata": {},
   "source": [
    "## A Rough Skeleton of Working Draft\n",
    "---------------------------------------------------------------------------------------------------------\n",
    "\n",
    "\n",
    "### Table of Contents:\n",
    "1. Sypnosis\n",
    "    - Research Question\n",
    "    - Summary\n",
    "<p></p>\n",
    "2. Our Data Set \n",
    "    - Packages Used\n",
    "    - Loading and Cleansing\n",
    "    \n",
    "---------------------------------------------------------------------------------------------------------"
   ]
  },
  {
   "cell_type": "markdown",
   "metadata": {},
   "source": [
    "### 1.) Sypnosis: "
   ]
  },
  {
   "cell_type": "markdown",
   "metadata": {},
   "source": [
    "##### Research Question:\n",
    "How can an author increase engagement from users on Facebook and can we predict the success of a post using insights from an author's page?\n"
   ]
  },
  {
   "cell_type": "markdown",
   "metadata": {},
   "source": [
    "##### Overview:\n",
    "<p></p>\n",
    "The market utility of social media platforms such as Facebook, which are able to generate mass revenues for cosmetic brands, has been an established and exploited advertising strategy in the digital age (Moro et. al, 2016). The goal of this project is to take a predictive analytical approach to determine which type of Facebook post (i.e., photo, video, status, or link) will engage the most internet-user engagement, determined through variables such as likes, post consumptions, and post total reach. The dataset which will be used for this analysis was acquired through an experimental data mining technique which included scraping data from the Facebook page of an internationally renowned cosmetics company on posts made between January 1st and December 31st (Moro et. al., 2016).\n",
    "<p></p>\n",
    "For the methodology, we will use the variables of the continuous numerical variables of total reaches (Lifetime_Post_Total_Reach) and the number of total impressions (Lifetime_Post_Total_Impressions), and the categorical variable of Facebook post (Type). First, we will look at the relationship between these variables in a scatter plot graph that will help us to formulate our hypothesis. Then, as we are trying to predict the type of post that will be the most successful, we will use a K-nearest neighbour classification analysis. To do so, we must determine the K value using cross-validation of the training data. Then, we will need to test the accuracy of the classifier with the testing data.\n",
    "<p></p>\n",
    "We expect to find that posts which include media, such as photos and videos, are more likely to engage users than other posts, such as statuses and links. This is based on the assumption that the former types of posts might be more likely to be shared and thus will have more exposure.\n",
    "It is beneficial for social media platforms to increase user engagement, as this is likely to increase revenue through advertising. Therefore, these findings may be used to choose what type of posts are prioritized to maximize user engagement.\n",
    "<p></p>\n",
    "These findings may lead to further exploration of how the contents of these posts impact user engagement. This may include the duration of a video, content of an image, length of a status, or details about the contents of a link. "
   ]
  },
  {
   "cell_type": "markdown",
   "metadata": {},
   "source": [
    "---------------------------------------------------------------------------------------------------------"
   ]
  },
  {
   "cell_type": "markdown",
   "metadata": {},
   "source": [
    "### 2.) Dataset"
   ]
  },
  {
   "cell_type": "markdown",
   "metadata": {},
   "source": [
    "##### Packages Used:"
   ]
  },
  {
   "cell_type": "code",
   "execution_count": 131,
   "metadata": {},
   "outputs": [
    {
     "name": "stderr",
     "output_type": "stream",
     "text": [
      "Updating HTML index of packages in '.Library'\n",
      "\n",
      "Making 'packages.html' ...\n",
      " done\n",
      "\n"
     ]
    }
   ],
   "source": [
    "install.packages(\"caTools\")\n",
    "library(caTools)\n",
    "\n",
    "library(tidyverse)\n",
    "library(repr)\n",
    "library(tidymodels)\n",
    "library(kknn)\n",
    "library(MASS)\n",
    "options(repr.matrix.max.rows = 8)"
   ]
  },
  {
   "cell_type": "code",
   "execution_count": 136,
   "metadata": {},
   "outputs": [
    {
     "name": "stderr",
     "output_type": "stream",
     "text": [
      "Using ',' as decimal and '.' as grouping mark. Use read_delim() for more control.\n",
      "\n",
      "Parsed with column specification:\n",
      "cols(\n",
      "  `Page total likes` = \u001b[32mcol_double()\u001b[39m,\n",
      "  Type = \u001b[31mcol_character()\u001b[39m,\n",
      "  Category = \u001b[32mcol_double()\u001b[39m,\n",
      "  `Post Month` = \u001b[32mcol_double()\u001b[39m,\n",
      "  `Post Weekday` = \u001b[32mcol_double()\u001b[39m,\n",
      "  `Post Hour` = \u001b[32mcol_double()\u001b[39m,\n",
      "  Paid = \u001b[32mcol_double()\u001b[39m,\n",
      "  `Lifetime Post Total Reach` = \u001b[32mcol_double()\u001b[39m,\n",
      "  `Lifetime Post Total Impressions` = \u001b[32mcol_double()\u001b[39m,\n",
      "  `Lifetime Engaged Users` = \u001b[32mcol_double()\u001b[39m,\n",
      "  `Lifetime Post Consumers` = \u001b[32mcol_double()\u001b[39m,\n",
      "  `Lifetime Post Consumptions` = \u001b[32mcol_double()\u001b[39m,\n",
      "  `Lifetime Post Impressions by people who have liked your Page` = \u001b[32mcol_double()\u001b[39m,\n",
      "  `Lifetime Post reach by people who like your Page` = \u001b[32mcol_double()\u001b[39m,\n",
      "  `Lifetime People who have liked your Page and engaged with your post` = \u001b[32mcol_double()\u001b[39m,\n",
      "  comment = \u001b[32mcol_double()\u001b[39m,\n",
      "  like = \u001b[32mcol_double()\u001b[39m,\n",
      "  share = \u001b[32mcol_double()\u001b[39m,\n",
      "  `Total Interactions` = \u001b[32mcol_double()\u001b[39m\n",
      ")\n",
      "\n"
     ]
    }
   ],
   "source": [
    "facebook <- read_csv2(\"https://raw.githubusercontent.com/calamari99/Facebook-Post-Predictor/main/data/dataset_Facebook.csv\")"
   ]
  },
  {
   "cell_type": "code",
   "execution_count": 137,
   "metadata": {},
   "outputs": [
    {
     "name": "stdout",
     "output_type": "stream",
     "text": [
      "Rows: 500\n",
      "Columns: 19\n",
      "$ Page_total_likes                                                    \u001b[3m\u001b[90m<dbl>\u001b[39m\u001b[23m 1…\n",
      "$ Type                                                                \u001b[3m\u001b[90m<fct>\u001b[39m\u001b[23m P…\n",
      "$ Category                                                            \u001b[3m\u001b[90m<fct>\u001b[39m\u001b[23m 2…\n",
      "$ Post_Month                                                          \u001b[3m\u001b[90m<fct>\u001b[39m\u001b[23m 1…\n",
      "$ Post_Weekday                                                        \u001b[3m\u001b[90m<fct>\u001b[39m\u001b[23m 4…\n",
      "$ Post_Hour                                                           \u001b[3m\u001b[90m<fct>\u001b[39m\u001b[23m 3…\n",
      "$ Paid                                                                \u001b[3m\u001b[90m<fct>\u001b[39m\u001b[23m 0…\n",
      "$ Lifetime_Post_Total_Reach                                           \u001b[3m\u001b[90m<dbl>\u001b[39m\u001b[23m 2…\n",
      "$ Lifetime_Post_Total_Impressions                                     \u001b[3m\u001b[90m<dbl>\u001b[39m\u001b[23m 5…\n",
      "$ Lifetime_Engaged_Users                                              \u001b[3m\u001b[90m<dbl>\u001b[39m\u001b[23m 1…\n",
      "$ Lifetime_Post_Consumers                                             \u001b[3m\u001b[90m<dbl>\u001b[39m\u001b[23m 1…\n",
      "$ Lifetime_Post_Consumptions                                          \u001b[3m\u001b[90m<dbl>\u001b[39m\u001b[23m 1…\n",
      "$ Lifetime_Post_Impressions_by_people_who_have_liked_your_Page        \u001b[3m\u001b[90m<dbl>\u001b[39m\u001b[23m 3…\n",
      "$ Lifetime_Post_reach_by_people_who_like_your_Page                    \u001b[3m\u001b[90m<dbl>\u001b[39m\u001b[23m 1…\n",
      "$ Lifetime_People_who_have_liked_your_Page_and_engaged_with_your_post \u001b[3m\u001b[90m<dbl>\u001b[39m\u001b[23m 1…\n",
      "$ comment                                                             \u001b[3m\u001b[90m<dbl>\u001b[39m\u001b[23m 4…\n",
      "$ like                                                                \u001b[3m\u001b[90m<dbl>\u001b[39m\u001b[23m 7…\n",
      "$ share                                                               \u001b[3m\u001b[90m<dbl>\u001b[39m\u001b[23m 1…\n",
      "$ Total_Interactions                                                  \u001b[3m\u001b[90m<dbl>\u001b[39m\u001b[23m 1…\n"
     ]
    }
   ],
   "source": [
    "# Replacing specified columns to categorical factors\n",
    "cols <- c(\"Type\", \"Category\", \"Post Month\", \"Paid\", \"Post Weekday\", \"Post Hour\")\n",
    "facebook[cols] <- lapply(facebook[cols], as.factor)\n",
    "\n",
    "# Renaming column headers without spaces\n",
    "facebook_colname_fix <- facebook\n",
    "\n",
    "facebook_col_name_vec <- gsub(\" \", \"_\", colnames(facebook))\n",
    "colnames(facebook) <- facebook_col_name_vec\n",
    "\n",
    "glimpse(facebook)"
   ]
  },
  {
   "cell_type": "markdown",
   "metadata": {},
   "source": [
    "### Let us select only the data values relevant to our case scenario\n",
    "\n",
    "We want to explain the best type of post possible and thus we should first explore the relationship between the metrics produced by a post and the individual post type. The following key performance indicators describe a post's success:\n",
    "- comments\n",
    "- likes\n",
    "- shares\n",
    "- total interactions (summation of the 3 observations above)\n",
    "\n",
    "We have 500 data points collected, of which me must remove observations with NA; we will consider removing data points that are missing values if enough data is present.  We will first filter our data into paid / unpaid data frames and see if there is enough data to persist. After which we will explore the various summary statistics within each group. "
   ]
  },
  {
   "cell_type": "code",
   "execution_count": 141,
   "metadata": {},
   "outputs": [
    {
     "name": "stderr",
     "output_type": "stream",
     "text": [
      "`summarise()` ungrouping output (override with `.groups` argument)\n",
      "\n",
      "`summarise()` ungrouping output (override with `.groups` argument)\n",
      "\n",
      "Joining, by = \"Type\"\n",
      "\n"
     ]
    },
    {
     "data": {
      "text/html": [
       "<table>\n",
       "<caption>A tibble: 4 × 3</caption>\n",
       "<thead>\n",
       "\t<tr><th scope=col>Type</th><th scope=col>unpaid</th><th scope=col>paid</th></tr>\n",
       "\t<tr><th scope=col>&lt;fct&gt;</th><th scope=col>&lt;int&gt;</th><th scope=col>&lt;int&gt;</th></tr>\n",
       "</thead>\n",
       "<tbody>\n",
       "\t<tr><td>Link  </td><td> 16</td><td>  6</td></tr>\n",
       "\t<tr><td>Photo </td><td>302</td><td>119</td></tr>\n",
       "\t<tr><td>Status</td><td> 35</td><td> 10</td></tr>\n",
       "\t<tr><td>Video </td><td>  3</td><td>  4</td></tr>\n",
       "</tbody>\n",
       "</table>\n"
      ],
      "text/latex": [
       "A tibble: 4 × 3\n",
       "\\begin{tabular}{lll}\n",
       " Type & unpaid & paid\\\\\n",
       " <fct> & <int> & <int>\\\\\n",
       "\\hline\n",
       "\t Link   &  16 &   6\\\\\n",
       "\t Photo  & 302 & 119\\\\\n",
       "\t Status &  35 &  10\\\\\n",
       "\t Video  &   3 &   4\\\\\n",
       "\\end{tabular}\n"
      ],
      "text/markdown": [
       "\n",
       "A tibble: 4 × 3\n",
       "\n",
       "| Type &lt;fct&gt; | unpaid &lt;int&gt; | paid &lt;int&gt; |\n",
       "|---|---|---|\n",
       "| Link   |  16 |   6 |\n",
       "| Photo  | 302 | 119 |\n",
       "| Status |  35 |  10 |\n",
       "| Video  |   3 |   4 |\n",
       "\n"
      ],
      "text/plain": [
       "  Type   unpaid paid\n",
       "1 Link    16      6 \n",
       "2 Photo  302    119 \n",
       "3 Status  35     10 \n",
       "4 Video    3      4 "
      ]
     },
     "metadata": {},
     "output_type": "display_data"
    }
   ],
   "source": [
    "facebook_clean <- dplyr::select(facebook, Type, comment,\n",
    "                                like, share, Total_Interactions,\n",
    "                                Paid, Lifetime_Post_Total_Impressions, Lifetime_Post_Total_Reach) %>% na.omit(df)\n",
    "\n",
    "facebook_clean_unpaid <- facebook_clean %>% filter(Paid == 0)\n",
    "facebook_clean_paid <- facebook_clean %>% filter(Paid == 1)\n",
    "\n",
    "unpaid_summary <- facebook_clean_unpaid %>% group_by(Type) %>% \n",
    "  summarise(unpaid = n()) \n",
    "\n",
    "paid_summary <- facebook_clean_paid %>% group_by(Type) %>% \n",
    "  summarise(paid = n())\n",
    "\n",
    "Reduce(dplyr::full_join, list(unpaid_summary, paid_summary))"
   ]
  },
  {
   "cell_type": "markdown",
   "metadata": {},
   "source": [
    "Social media algorithms that adjust prioritizations between paid and non-paid posts can heavily factor into our metrics received and should be considered in this analysis. To control for this potential source of uncertainty, we further isolate our data into paid and unpaid categories. This allows us to explore the relationship between post type and our defined success metric."
   ]
  },
  {
   "cell_type": "markdown",
   "metadata": {},
   "source": [
    "## Compartmentalization of our data into Training, Validation, and Testing Sets \n",
    "\n"
   ]
  },
  {
   "cell_type": "markdown",
   "metadata": {},
   "source": [
    "With our acquired data, we must first compartmentalize into training and testing sets before performing an exploratory data analysis on our dataset. We chose to approach our training data by creating a 80:20 ratio between testing and training data meaning 80% of our total data will be labeled as the “general training set” and the remainder as our “test set”. The general training set will be further partitioned into a “validation set” and “training set” in order to reduce bias within our model data and testing data. Now that we’ve labeled our training data, we can further explore the summary statistics within each set.\n",
    "\n",
    "-----\n",
    "**METHOD 1: Training and Testing set**\n",
    "<br>\n",
    "Testing set will be 20% of data collected\n",
    "<br>\n",
    "Validation set will be 10% of data collected\n",
    "<br>\n",
    "Training data set be 70% of data collected\n",
    "\n",
    "**METHOD 2: Cross-validation technique**\n",
    "<br>\n",
    "let us split our data into 4 total groups with a 1:5 ratio of testing and training data. \n",
    "<br>\n",
    "(~25 points tested, 100 points for training)"
   ]
  },
  {
   "cell_type": "code",
   "execution_count": 7,
   "metadata": {},
   "outputs": [],
   "source": [
    "# Preliminary Steps\n",
    "# Method 1:\n",
    "set.seed(99)\n",
    "partitionTrain = 0.8\n",
    "ratioTrainValidation = 7/8"
   ]
  },
  {
   "cell_type": "markdown",
   "metadata": {},
   "source": [
    "#### Total Posts:"
   ]
  },
  {
   "cell_type": "code",
   "execution_count": 18,
   "metadata": {},
   "outputs": [
    {
     "data": {
      "text/html": [
       "<table>\n",
       "<caption>A tibble: 346 × 8</caption>\n",
       "<thead>\n",
       "\t<tr><th scope=col>Type</th><th scope=col>comment</th><th scope=col>like</th><th scope=col>share</th><th scope=col>Total_Interactions</th><th scope=col>Paid</th><th scope=col>Lifetime_Post_Total_Impressions</th><th scope=col>Lifetime_Post_Total_Reach</th></tr>\n",
       "\t<tr><th scope=col>&lt;fct&gt;</th><th scope=col>&lt;dbl&gt;</th><th scope=col>&lt;dbl&gt;</th><th scope=col>&lt;dbl&gt;</th><th scope=col>&lt;dbl&gt;</th><th scope=col>&lt;fct&gt;</th><th scope=col>&lt;dbl&gt;</th><th scope=col>&lt;dbl&gt;</th></tr>\n",
       "</thead>\n",
       "<tbody>\n",
       "\t<tr><td>Status</td><td> 5</td><td> 130</td><td> 29</td><td> 164</td><td>0</td><td>19057</td><td>10460</td></tr>\n",
       "\t<tr><td>Photo </td><td> 0</td><td>  66</td><td> 14</td><td>  80</td><td>0</td><td> 4373</td><td> 2413</td></tr>\n",
       "\t<tr><td>Photo </td><td>58</td><td>1572</td><td>147</td><td>1777</td><td>1</td><td>87991</td><td>50128</td></tr>\n",
       "\t<tr><td>Photo </td><td>19</td><td> 325</td><td> 49</td><td> 393</td><td>0</td><td>13594</td><td> 7244</td></tr>\n",
       "\t<tr><td>⋮</td><td>⋮</td><td>⋮</td><td>⋮</td><td>⋮</td><td>⋮</td><td>⋮</td><td>⋮</td></tr>\n",
       "\t<tr><td>Photo</td><td>10</td><td>125</td><td>41</td><td>176</td><td>0</td><td>9218</td><td>5400</td></tr>\n",
       "\t<tr><td>Photo</td><td> 5</td><td> 53</td><td>26</td><td> 84</td><td>0</td><td>7536</td><td>4684</td></tr>\n",
       "\t<tr><td>Photo</td><td> 0</td><td> 53</td><td>22</td><td> 75</td><td>0</td><td>6229</td><td>3480</td></tr>\n",
       "\t<tr><td>Photo</td><td> 7</td><td> 91</td><td>38</td><td>136</td><td>0</td><td>7564</td><td>4156</td></tr>\n",
       "</tbody>\n",
       "</table>\n"
      ],
      "text/latex": [
       "A tibble: 346 × 8\n",
       "\\begin{tabular}{llllllll}\n",
       " Type & comment & like & share & Total\\_Interactions & Paid & Lifetime\\_Post\\_Total\\_Impressions & Lifetime\\_Post\\_Total\\_Reach\\\\\n",
       " <fct> & <dbl> & <dbl> & <dbl> & <dbl> & <fct> & <dbl> & <dbl>\\\\\n",
       "\\hline\n",
       "\t Status &  5 &  130 &  29 &  164 & 0 & 19057 & 10460\\\\\n",
       "\t Photo  &  0 &   66 &  14 &   80 & 0 &  4373 &  2413\\\\\n",
       "\t Photo  & 58 & 1572 & 147 & 1777 & 1 & 87991 & 50128\\\\\n",
       "\t Photo  & 19 &  325 &  49 &  393 & 0 & 13594 &  7244\\\\\n",
       "\t ⋮ & ⋮ & ⋮ & ⋮ & ⋮ & ⋮ & ⋮ & ⋮\\\\\n",
       "\t Photo & 10 & 125 & 41 & 176 & 0 & 9218 & 5400\\\\\n",
       "\t Photo &  5 &  53 & 26 &  84 & 0 & 7536 & 4684\\\\\n",
       "\t Photo &  0 &  53 & 22 &  75 & 0 & 6229 & 3480\\\\\n",
       "\t Photo &  7 &  91 & 38 & 136 & 0 & 7564 & 4156\\\\\n",
       "\\end{tabular}\n"
      ],
      "text/markdown": [
       "\n",
       "A tibble: 346 × 8\n",
       "\n",
       "| Type &lt;fct&gt; | comment &lt;dbl&gt; | like &lt;dbl&gt; | share &lt;dbl&gt; | Total_Interactions &lt;dbl&gt; | Paid &lt;fct&gt; | Lifetime_Post_Total_Impressions &lt;dbl&gt; | Lifetime_Post_Total_Reach &lt;dbl&gt; |\n",
       "|---|---|---|---|---|---|---|---|\n",
       "| Status |  5 |  130 |  29 |  164 | 0 | 19057 | 10460 |\n",
       "| Photo  |  0 |   66 |  14 |   80 | 0 |  4373 |  2413 |\n",
       "| Photo  | 58 | 1572 | 147 | 1777 | 1 | 87991 | 50128 |\n",
       "| Photo  | 19 |  325 |  49 |  393 | 0 | 13594 |  7244 |\n",
       "| ⋮ | ⋮ | ⋮ | ⋮ | ⋮ | ⋮ | ⋮ | ⋮ |\n",
       "| Photo | 10 | 125 | 41 | 176 | 0 | 9218 | 5400 |\n",
       "| Photo |  5 |  53 | 26 |  84 | 0 | 7536 | 4684 |\n",
       "| Photo |  0 |  53 | 22 |  75 | 0 | 6229 | 3480 |\n",
       "| Photo |  7 |  91 | 38 | 136 | 0 | 7564 | 4156 |\n",
       "\n"
      ],
      "text/plain": [
       "    Type   comment like share Total_Interactions Paid\n",
       "1   Status  5       130  29    164               0   \n",
       "2   Photo   0        66  14     80               0   \n",
       "3   Photo  58      1572 147   1777               1   \n",
       "4   Photo  19       325  49    393               0   \n",
       "⋮   ⋮      ⋮       ⋮    ⋮     ⋮                  ⋮   \n",
       "343 Photo  10      125  41    176                0   \n",
       "344 Photo   5       53  26     84                0   \n",
       "345 Photo   0       53  22     75                0   \n",
       "346 Photo   7       91  38    136                0   \n",
       "    Lifetime_Post_Total_Impressions Lifetime_Post_Total_Reach\n",
       "1   19057                           10460                    \n",
       "2    4373                            2413                    \n",
       "3   87991                           50128                    \n",
       "4   13594                            7244                    \n",
       "⋮   ⋮                               ⋮                        \n",
       "343 9218                            5400                     \n",
       "344 7536                            4684                     \n",
       "345 6229                            3480                     \n",
       "346 7564                            4156                     "
      ]
     },
     "metadata": {},
     "output_type": "display_data"
    }
   ],
   "source": [
    "# 80/20 ratio TrainingSet:TestingSet\n",
    "split <- sample.split(facebook_clean$like, SplitRatio = partitionTrain)\n",
    "train_val_data <- subset(facebook_clean, split == TRUE)\n",
    "test_set <- subset(facebook_clean, split == FALSE)\n",
    "\n",
    "split <- sample.split(train_val_data$like, SplitRatio = ratioTrainValidation)\n",
    "train_set <- subset(train_val_data, split == TRUE)\n",
    "val_set <- subset(train_val_data, split == FALSE)\n",
    "\n",
    "train_set"
   ]
  },
  {
   "cell_type": "markdown",
   "metadata": {},
   "source": [
    "#### Unpaid Posts:"
   ]
  },
  {
   "cell_type": "code",
   "execution_count": 19,
   "metadata": {},
   "outputs": [
    {
     "data": {
      "text/html": [
       "<table>\n",
       "<caption>A tibble: 248 × 8</caption>\n",
       "<thead>\n",
       "\t<tr><th scope=col>Type</th><th scope=col>comment</th><th scope=col>like</th><th scope=col>share</th><th scope=col>Total_Interactions</th><th scope=col>Paid</th><th scope=col>Lifetime_Post_Total_Impressions</th><th scope=col>Lifetime_Post_Total_Reach</th></tr>\n",
       "\t<tr><th scope=col>&lt;fct&gt;</th><th scope=col>&lt;dbl&gt;</th><th scope=col>&lt;dbl&gt;</th><th scope=col>&lt;dbl&gt;</th><th scope=col>&lt;dbl&gt;</th><th scope=col>&lt;fct&gt;</th><th scope=col>&lt;dbl&gt;</th><th scope=col>&lt;dbl&gt;</th></tr>\n",
       "</thead>\n",
       "<tbody>\n",
       "\t<tr><td>Photo </td><td> 4</td><td> 79</td><td>17</td><td>100</td><td>0</td><td> 5091</td><td> 2752</td></tr>\n",
       "\t<tr><td>Status</td><td> 5</td><td>130</td><td>29</td><td>164</td><td>0</td><td>19057</td><td>10460</td></tr>\n",
       "\t<tr><td>Photo </td><td> 0</td><td> 66</td><td>14</td><td> 80</td><td>0</td><td> 4373</td><td> 2413</td></tr>\n",
       "\t<tr><td>Photo </td><td>19</td><td>325</td><td>49</td><td>393</td><td>0</td><td>13594</td><td> 7244</td></tr>\n",
       "\t<tr><td>⋮</td><td>⋮</td><td>⋮</td><td>⋮</td><td>⋮</td><td>⋮</td><td>⋮</td><td>⋮</td></tr>\n",
       "\t<tr><td>Photo</td><td>17</td><td>185</td><td>55</td><td>257</td><td>0</td><td>13960</td><td>8412</td></tr>\n",
       "\t<tr><td>Photo</td><td>10</td><td>125</td><td>41</td><td>176</td><td>0</td><td> 9218</td><td>5400</td></tr>\n",
       "\t<tr><td>Photo</td><td> 5</td><td> 53</td><td>26</td><td> 84</td><td>0</td><td> 7536</td><td>4684</td></tr>\n",
       "\t<tr><td>Photo</td><td> 7</td><td> 91</td><td>38</td><td>136</td><td>0</td><td> 7564</td><td>4156</td></tr>\n",
       "</tbody>\n",
       "</table>\n"
      ],
      "text/latex": [
       "A tibble: 248 × 8\n",
       "\\begin{tabular}{llllllll}\n",
       " Type & comment & like & share & Total\\_Interactions & Paid & Lifetime\\_Post\\_Total\\_Impressions & Lifetime\\_Post\\_Total\\_Reach\\\\\n",
       " <fct> & <dbl> & <dbl> & <dbl> & <dbl> & <fct> & <dbl> & <dbl>\\\\\n",
       "\\hline\n",
       "\t Photo  &  4 &  79 & 17 & 100 & 0 &  5091 &  2752\\\\\n",
       "\t Status &  5 & 130 & 29 & 164 & 0 & 19057 & 10460\\\\\n",
       "\t Photo  &  0 &  66 & 14 &  80 & 0 &  4373 &  2413\\\\\n",
       "\t Photo  & 19 & 325 & 49 & 393 & 0 & 13594 &  7244\\\\\n",
       "\t ⋮ & ⋮ & ⋮ & ⋮ & ⋮ & ⋮ & ⋮ & ⋮\\\\\n",
       "\t Photo & 17 & 185 & 55 & 257 & 0 & 13960 & 8412\\\\\n",
       "\t Photo & 10 & 125 & 41 & 176 & 0 &  9218 & 5400\\\\\n",
       "\t Photo &  5 &  53 & 26 &  84 & 0 &  7536 & 4684\\\\\n",
       "\t Photo &  7 &  91 & 38 & 136 & 0 &  7564 & 4156\\\\\n",
       "\\end{tabular}\n"
      ],
      "text/markdown": [
       "\n",
       "A tibble: 248 × 8\n",
       "\n",
       "| Type &lt;fct&gt; | comment &lt;dbl&gt; | like &lt;dbl&gt; | share &lt;dbl&gt; | Total_Interactions &lt;dbl&gt; | Paid &lt;fct&gt; | Lifetime_Post_Total_Impressions &lt;dbl&gt; | Lifetime_Post_Total_Reach &lt;dbl&gt; |\n",
       "|---|---|---|---|---|---|---|---|\n",
       "| Photo  |  4 |  79 | 17 | 100 | 0 |  5091 |  2752 |\n",
       "| Status |  5 | 130 | 29 | 164 | 0 | 19057 | 10460 |\n",
       "| Photo  |  0 |  66 | 14 |  80 | 0 |  4373 |  2413 |\n",
       "| Photo  | 19 | 325 | 49 | 393 | 0 | 13594 |  7244 |\n",
       "| ⋮ | ⋮ | ⋮ | ⋮ | ⋮ | ⋮ | ⋮ | ⋮ |\n",
       "| Photo | 17 | 185 | 55 | 257 | 0 | 13960 | 8412 |\n",
       "| Photo | 10 | 125 | 41 | 176 | 0 |  9218 | 5400 |\n",
       "| Photo |  5 |  53 | 26 |  84 | 0 |  7536 | 4684 |\n",
       "| Photo |  7 |  91 | 38 | 136 | 0 |  7564 | 4156 |\n",
       "\n"
      ],
      "text/plain": [
       "    Type   comment like share Total_Interactions Paid\n",
       "1   Photo   4       79  17    100                0   \n",
       "2   Status  5      130  29    164                0   \n",
       "3   Photo   0       66  14     80                0   \n",
       "4   Photo  19      325  49    393                0   \n",
       "⋮   ⋮      ⋮       ⋮    ⋮     ⋮                  ⋮   \n",
       "245 Photo  17      185  55    257                0   \n",
       "246 Photo  10      125  41    176                0   \n",
       "247 Photo   5       53  26     84                0   \n",
       "248 Photo   7       91  38    136                0   \n",
       "    Lifetime_Post_Total_Impressions Lifetime_Post_Total_Reach\n",
       "1    5091                            2752                    \n",
       "2   19057                           10460                    \n",
       "3    4373                            2413                    \n",
       "4   13594                            7244                    \n",
       "⋮   ⋮                               ⋮                        \n",
       "245 13960                           8412                     \n",
       "246  9218                           5400                     \n",
       "247  7536                           4684                     \n",
       "248  7564                           4156                     "
      ]
     },
     "metadata": {},
     "output_type": "display_data"
    }
   ],
   "source": [
    "split <- sample.split(facebook_clean_unpaid$like, SplitRatio = partitionTrain)\n",
    "train_val_data_unpaid <- subset(facebook_clean_unpaid, split == TRUE)\n",
    "test_set_unpaid <- subset(facebook_clean_unpaid, split == FALSE)\n",
    "\n",
    "split <- sample.split(train_val_data_unpaid$like, SplitRatio = ratioTrainValidation)\n",
    "train_set_unpaid <- subset(train_val_data_unpaid, split == TRUE)\n",
    "val_set_unpaid <- subset(train_val_data_unpaid, split == FALSE)\n",
    "\n",
    "#glimpse(train_set_unpaid)\n",
    "train_set_unpaid"
   ]
  },
  {
   "cell_type": "markdown",
   "metadata": {},
   "source": [
    "-----\n",
    "## Training Data Summaries\n",
    "Each Table includes:\n",
    "- Number of observations of each type\n",
    "- Mean and Median of key metrics in each post type\n"
   ]
  },
  {
   "cell_type": "markdown",
   "metadata": {},
   "source": [
    "#### Summary of Unpaid Posts:"
   ]
  },
  {
   "cell_type": "code",
   "execution_count": 9,
   "metadata": {},
   "outputs": [
    {
     "data": {
      "text/html": [
       "<table class=\"dataframe\">\n",
       "<caption>A tibble: 4 × 10</caption>\n",
       "<thead>\n",
       "\t<tr><th scope=col>Type</th><th scope=col>count</th><th scope=col>mean_comment</th><th scope=col>median_comment</th><th scope=col>mean_like</th><th scope=col>median_like</th><th scope=col>mean_Total_Interactions</th><th scope=col>median_Total_Interactions</th><th scope=col>mean_share</th><th scope=col>median_share</th></tr>\n",
       "\t<tr><th scope=col>&lt;fct&gt;</th><th scope=col>&lt;int&gt;</th><th scope=col>&lt;dbl&gt;</th><th scope=col>&lt;dbl&gt;</th><th scope=col>&lt;dbl&gt;</th><th scope=col>&lt;dbl&gt;</th><th scope=col>&lt;dbl&gt;</th><th scope=col>&lt;dbl&gt;</th><th scope=col>&lt;dbl&gt;</th><th scope=col>&lt;dbl&gt;</th></tr>\n",
       "</thead>\n",
       "<tbody>\n",
       "\t<tr><td>Link  </td><td> 10</td><td> 3.100000</td><td>1</td><td>100.9000</td><td> 73.5</td><td>119.8000</td><td> 85</td><td>15.80000</td><td>11</td></tr>\n",
       "\t<tr><td>Photo </td><td>210</td><td> 6.404762</td><td>2</td><td>155.9905</td><td> 93.0</td><td>186.5476</td><td>115</td><td>24.15238</td><td>18</td></tr>\n",
       "\t<tr><td>Status</td><td> 25</td><td> 6.880000</td><td>3</td><td>145.8400</td><td>129.0</td><td>179.4800</td><td>164</td><td>26.76000</td><td>27</td></tr>\n",
       "\t<tr><td>Video </td><td>  3</td><td>10.333333</td><td>6</td><td>216.0000</td><td>204.0</td><td>285.6667</td><td>271</td><td>59.33333</td><td>44</td></tr>\n",
       "</tbody>\n",
       "</table>\n"
      ],
      "text/latex": [
       "A tibble: 4 × 10\n",
       "\\begin{tabular}{llllllllll}\n",
       " Type & count & mean\\_comment & median\\_comment & mean\\_like & median\\_like & mean\\_Total\\_Interactions & median\\_Total\\_Interactions & mean\\_share & median\\_share\\\\\n",
       " <fct> & <int> & <dbl> & <dbl> & <dbl> & <dbl> & <dbl> & <dbl> & <dbl> & <dbl>\\\\\n",
       "\\hline\n",
       "\t Link   &  10 &  3.100000 & 1 & 100.9000 &  73.5 & 119.8000 &  85 & 15.80000 & 11\\\\\n",
       "\t Photo  & 210 &  6.404762 & 2 & 155.9905 &  93.0 & 186.5476 & 115 & 24.15238 & 18\\\\\n",
       "\t Status &  25 &  6.880000 & 3 & 145.8400 & 129.0 & 179.4800 & 164 & 26.76000 & 27\\\\\n",
       "\t Video  &   3 & 10.333333 & 6 & 216.0000 & 204.0 & 285.6667 & 271 & 59.33333 & 44\\\\\n",
       "\\end{tabular}\n"
      ],
      "text/markdown": [
       "\n",
       "A tibble: 4 × 10\n",
       "\n",
       "| Type &lt;fct&gt; | count &lt;int&gt; | mean_comment &lt;dbl&gt; | median_comment &lt;dbl&gt; | mean_like &lt;dbl&gt; | median_like &lt;dbl&gt; | mean_Total_Interactions &lt;dbl&gt; | median_Total_Interactions &lt;dbl&gt; | mean_share &lt;dbl&gt; | median_share &lt;dbl&gt; |\n",
       "|---|---|---|---|---|---|---|---|---|---|\n",
       "| Link   |  10 |  3.100000 | 1 | 100.9000 |  73.5 | 119.8000 |  85 | 15.80000 | 11 |\n",
       "| Photo  | 210 |  6.404762 | 2 | 155.9905 |  93.0 | 186.5476 | 115 | 24.15238 | 18 |\n",
       "| Status |  25 |  6.880000 | 3 | 145.8400 | 129.0 | 179.4800 | 164 | 26.76000 | 27 |\n",
       "| Video  |   3 | 10.333333 | 6 | 216.0000 | 204.0 | 285.6667 | 271 | 59.33333 | 44 |\n",
       "\n"
      ],
      "text/plain": [
       "  Type   count mean_comment median_comment mean_like median_like\n",
       "1 Link    10    3.100000    1              100.9000   73.5      \n",
       "2 Photo  210    6.404762    2              155.9905   93.0      \n",
       "3 Status  25    6.880000    3              145.8400  129.0      \n",
       "4 Video    3   10.333333    6              216.0000  204.0      \n",
       "  mean_Total_Interactions median_Total_Interactions mean_share median_share\n",
       "1 119.8000                 85                       15.80000   11          \n",
       "2 186.5476                115                       24.15238   18          \n",
       "3 179.4800                164                       26.76000   27          \n",
       "4 285.6667                271                       59.33333   44          "
      ]
     },
     "metadata": {},
     "output_type": "display_data"
    }
   ],
   "source": [
    "summ_train_unpaid <- train_set_unpaid %>%\n",
    "    group_by(Type) %>%\n",
    "        summarise(\n",
    "        count = n(),\n",
    "        mean_comment = mean(comment), \n",
    "        median_comment = median(comment), \n",
    "        mean_like = mean(like),\n",
    "        median_like = median(like),\n",
    "        mean_Total_Interactions = mean(Total_Interactions),\n",
    "        median_Total_Interactions = median(Total_Interactions),\n",
    "        mean_share = mean(share),\n",
    "        median_share = median(share),\n",
    "    )\n",
    "\n",
    "summ_train_unpaid"
   ]
  },
  {
   "cell_type": "markdown",
   "metadata": {},
   "source": [
    "-----\n",
    "## PreProcessing "
   ]
  },
  {
   "cell_type": "markdown",
   "metadata": {},
   "source": [
    "We want to be able to identify possible class imbalances as the KNN-classification model is a lazy learning algorithm. Thus we need to ensure that our data set is balanced. We start by reviewing the summary statistics and quickly visualizing the distribution of observations."
   ]
  },
  {
   "cell_type": "code",
   "execution_count": 10,
   "metadata": {},
   "outputs": [
    {
     "data": {
      "text/plain": [
       "     Type        comment             like            share      \n",
       " Link  : 10   Min.   :  0.000   Min.   :   0.0   Min.   :  0.0  \n",
       " Photo :210   1st Qu.:  0.750   1st Qu.:  56.0   1st Qu.: 10.0  \n",
       " Status: 25   Median :  2.000   Median :  96.0   Median : 18.0  \n",
       " Video :  3   Mean   :  6.367   Mean   : 153.5   Mean   : 24.5  \n",
       "              3rd Qu.:  6.000   3rd Qu.: 180.5   3rd Qu.: 32.0  \n",
       "              Max.   :146.000   Max.   :1546.0   Max.   :181.0  \n",
       " Total_Interactions Paid    Lifetime_Post_Total_Impressions\n",
       " Min.   :   0.0     0:248   Min.   :    570                \n",
       " 1st Qu.:  70.0     1:  0   1st Qu.:   5403                \n",
       " Median : 117.0             Median :   8364                \n",
       " Mean   : 184.3             Mean   :  28885                \n",
       " 3rd Qu.: 221.0             3rd Qu.:  17936                \n",
       " Max.   :1873.0             Max.   :1110282                \n",
       " Lifetime_Post_Total_Reach\n",
       " Min.   :   238           \n",
       " 1st Qu.:  3108           \n",
       " Median :  4847           \n",
       " Mean   : 11893           \n",
       " 3rd Qu.: 10256           \n",
       " Max.   :158208           "
      ]
     },
     "metadata": {},
     "output_type": "display_data"
    }
   ],
   "source": [
    "summary(train_set_unpaid)"
   ]
  },
  {
   "cell_type": "code",
   "execution_count": 181,
   "metadata": {},
   "outputs": [
    {
     "name": "stderr",
     "output_type": "stream",
     "text": [
      "Warning message:\n",
      "“Removed 209 rows containing missing values (geom_point).”\n"
     ]
    },
    {
     "data": {
      "image/png": "[encoded data removed]",
      "text/plain": [
       "plot without title"
      ]
     },
     "metadata": {
      "image/png": {
       "height": 480,
       "width": 600
      }
     },
     "output_type": "display_data"
    }
   ],
   "source": [
    "options(repr.plot.width=10, repr.plot.height=8)\n",
    "test_unpaid_plot <- train_set_unpaid %>% mutate(Lifetime_Post_Total_Reach = scale(Lifetime_Post_Total_Reach),\n",
    "                                              Lifetime_Post_Total_Impressions = scale(Lifetime_Post_Total_Impressions)) %>% \n",
    "    ggplot(aes(x = Lifetime_Post_Total_Reach, y = Lifetime_Post_Total_Impressions, color = Type)) +\n",
    "    geom_point(alpha = 0.5, size = 4) +\n",
    "    labs(color = \"Type of Post\", x = \"Lifetime Post Total Reach\", y = \"Lifetime Post Total Impressions\") +\n",
    "    #xlim(NA, 4) + ylim(NA, 4) +\n",
    "    scale_x_continuous(limits=c(0, 4)) +\n",
    "    scale_y_continuous(limits=c(0, 3)) +\n",
    "    theme(text = element_text(size = 16))\n",
    "\n",
    "test_unpaid_plot"
   ]
  },
  {
   "cell_type": "markdown",
   "metadata": {},
   "source": [
    "#### Balancing\n",
    "We see the distribution of the type of posts is not equal so we should consider balancing. However, this introduces potential complications in further parts of our analysis, mainly the cross validation step. We find that balancing our data in this part of our analysis results in overestimated accuracies for our cross validation model later on. Additionally, we are hestitant to balance training set because this alternation is not reflected in our testing set, which can lead to more uncertainty. Because of these factors, we chose to leave our data unbalanced. We believe this will lead to less biased results when using our training data set further in our report. "
   ]
  },
  {
   "cell_type": "code",
   "execution_count": 184,
   "metadata": {},
   "outputs": [],
   "source": [
    "# Scrapped balancing step\n",
    "\n",
    "#ups_recipe <- recipe(Type ~ Lifetime_Post_Total_Reach + Lifetime_Post_Total_Impressions, data = train_set_unpaid) %>%\n",
    "#  step_upsample(Type, over_ratio = 1, skip = FALSE) %>%\n",
    "#  prep()\n",
    "\n",
    "# upsampled_cancer <- bake(ups_recipe, train_set_unpaid)\n",
    "\n",
    "# upsampled_cancer %>%\n",
    "#   group_by(Type) %>%\n",
    "#   summarize(n = n())"
   ]
  },
  {
   "cell_type": "markdown",
   "metadata": {},
   "source": [
    "### Pre-Process (Scale Data) for K-nn Classification\n",
    "We must do this because: ________________"
   ]
  },
  {
   "cell_type": "markdown",
   "metadata": {},
   "source": [
    "### Building our Model"
   ]
  },
  {
   "cell_type": "markdown",
   "metadata": {},
   "source": [
    "We use the upscaled data into our tuning selection process as we need a balanced data set. Then by scaling the data and following the tidymodel recipes workflow, we collect the results from various values of k. Our base value of k is set to 3."
   ]
  },
  {
   "cell_type": "code",
   "execution_count": 13,
   "metadata": {},
   "outputs": [
    {
     "data": {
      "text/html": [
       "<table class=\"dataframe\">\n",
       "<caption>A tibble: 2 × 3</caption>\n",
       "<thead>\n",
       "\t<tr><th scope=col>.metric</th><th scope=col>.estimator</th><th scope=col>.estimate</th></tr>\n",
       "\t<tr><th scope=col>&lt;chr&gt;</th><th scope=col>&lt;chr&gt;</th><th scope=col>&lt;dbl&gt;</th></tr>\n",
       "</thead>\n",
       "<tbody>\n",
       "\t<tr><td>accuracy</td><td>multiclass</td><td>0.75000000</td></tr>\n",
       "\t<tr><td>kap     </td><td>multiclass</td><td>0.06896552</td></tr>\n",
       "</tbody>\n",
       "</table>\n"
      ],
      "text/latex": [
       "A tibble: 2 × 3\n",
       "\\begin{tabular}{lll}\n",
       " .metric & .estimator & .estimate\\\\\n",
       " <chr> & <chr> & <dbl>\\\\\n",
       "\\hline\n",
       "\t accuracy & multiclass & 0.75000000\\\\\n",
       "\t kap      & multiclass & 0.06896552\\\\\n",
       "\\end{tabular}\n"
      ],
      "text/markdown": [
       "\n",
       "A tibble: 2 × 3\n",
       "\n",
       "| .metric &lt;chr&gt; | .estimator &lt;chr&gt; | .estimate &lt;dbl&gt; |\n",
       "|---|---|---|\n",
       "| accuracy | multiclass | 0.75000000 |\n",
       "| kap      | multiclass | 0.06896552 |\n",
       "\n"
      ],
      "text/plain": [
       "  .metric  .estimator .estimate \n",
       "1 accuracy multiclass 0.75000000\n",
       "2 kap      multiclass 0.06896552"
      ]
     },
     "metadata": {},
     "output_type": "display_data"
    }
   ],
   "source": [
    "knn_spec <- nearest_neighbor(weight_func = \"rectangular\", neighbors = 3) %>%\n",
    "  set_engine(\"kknn\") %>%\n",
    "  set_mode(\"classification\")\n",
    "\n",
    "unpaid_recipe <- recipe(Type ~ \n",
    "                        Lifetime_Post_Total_Reach + Lifetime_Post_Total_Impressions,\n",
    "                        data = train_set_unpaid) %>%\n",
    "  step_scale(all_predictors()) %>%\n",
    "  step_center(all_predictors())\n",
    "\n",
    "unpaid_fit <- workflow() %>%\n",
    "      add_recipe(unpaid_recipe) %>%\n",
    "      add_model(knn_spec) %>%\n",
    "      # fit(data = upsampled_cancer)\n",
    "      fit(data = train_set_unpaid)\n",
    "\n",
    "      #fit_resamples(resamples = unpaid_vfold)\n",
    "\n",
    "unpaid_val_predicted <- predict(unpaid_fit, val_set_unpaid) %>%\n",
    "    bind_cols(val_set_unpaid)\n",
    "\n",
    "unpaid_prediction_accuracy <- unpaid_val_predicted %>%\n",
    "    metrics(truth = Type, estimate = .pred_class)\n",
    "    \n",
    "unpaid_prediction_accuracy\n"
   ]
  },
  {
   "cell_type": "markdown",
   "metadata": {},
   "source": [
    "We found that our current accuracy against our validation set is roughly 75%. We will continue to tune our model in the following steps."
   ]
  },
  {
   "cell_type": "markdown",
   "metadata": {},
   "source": [
    "### Tuning our model"
   ]
  },
  {
   "cell_type": "markdown",
   "metadata": {},
   "source": [
    "1. We will perform the cross validation technique with 10 folds to account for randomness."
   ]
  },
  {
   "cell_type": "code",
   "execution_count": 14,
   "metadata": {},
   "outputs": [
    {
     "name": "stderr",
     "output_type": "stream",
     "text": [
      "\u001b[33m!\u001b[39m \u001b[33mFold01: internal: No observations were detected in `truth` for level(s): 'Video'...\u001b[39m\n",
      "\n",
      "\u001b[33m!\u001b[39m \u001b[33mFold02: internal: No observations were detected in `truth` for level(s): 'Video'...\u001b[39m\n",
      "\n",
      "\u001b[33m!\u001b[39m \u001b[33mFold04: internal: No observations were detected in `truth` for level(s): 'Link',...\u001b[39m\n",
      "\n",
      "\u001b[33m!\u001b[39m \u001b[33mFold05: internal: No observations were detected in `truth` for level(s): 'Video'...\u001b[39m\n",
      "\n",
      "\u001b[33m!\u001b[39m \u001b[33mFold06: internal: No observations were detected in `truth` for level(s): 'Video'...\u001b[39m\n",
      "\n",
      "\u001b[33m!\u001b[39m \u001b[33mFold07: internal: No observations were detected in `truth` for level(s): 'Video'...\u001b[39m\n",
      "\n",
      "\u001b[33m!\u001b[39m \u001b[33mFold08: internal: No observations were detected in `truth` for level(s): 'Link'\n",
      "...\u001b[39m\n",
      "\n",
      "\u001b[33m!\u001b[39m \u001b[33mFold09: internal: No observations were detected in `truth` for level(s): 'Video'...\u001b[39m\n",
      "\n"
     ]
    },
    {
     "data": {
      "text/html": [
       "<table class=\"dataframe\">\n",
       "<caption>A tibble: 2 × 6</caption>\n",
       "<thead>\n",
       "\t<tr><th scope=col>.metric</th><th scope=col>.estimator</th><th scope=col>mean</th><th scope=col>n</th><th scope=col>std_err</th><th scope=col>.config</th></tr>\n",
       "\t<tr><th scope=col>&lt;chr&gt;</th><th scope=col>&lt;chr&gt;</th><th scope=col>&lt;dbl&gt;</th><th scope=col>&lt;int&gt;</th><th scope=col>&lt;dbl&gt;</th><th scope=col>&lt;chr&gt;</th></tr>\n",
       "</thead>\n",
       "<tbody>\n",
       "\t<tr><td>accuracy</td><td>multiclass</td><td>0.8590000</td><td>10</td><td>0.02409074</td><td>Preprocessor1_Model1</td></tr>\n",
       "\t<tr><td>roc_auc </td><td>hand_till </td><td>0.7702354</td><td>10</td><td>0.04136906</td><td>Preprocessor1_Model1</td></tr>\n",
       "</tbody>\n",
       "</table>\n"
      ],
      "text/latex": [
       "A tibble: 2 × 6\n",
       "\\begin{tabular}{llllll}\n",
       " .metric & .estimator & mean & n & std\\_err & .config\\\\\n",
       " <chr> & <chr> & <dbl> & <int> & <dbl> & <chr>\\\\\n",
       "\\hline\n",
       "\t accuracy & multiclass & 0.8590000 & 10 & 0.02409074 & Preprocessor1\\_Model1\\\\\n",
       "\t roc\\_auc  & hand\\_till  & 0.7702354 & 10 & 0.04136906 & Preprocessor1\\_Model1\\\\\n",
       "\\end{tabular}\n"
      ],
      "text/markdown": [
       "\n",
       "A tibble: 2 × 6\n",
       "\n",
       "| .metric &lt;chr&gt; | .estimator &lt;chr&gt; | mean &lt;dbl&gt; | n &lt;int&gt; | std_err &lt;dbl&gt; | .config &lt;chr&gt; |\n",
       "|---|---|---|---|---|---|\n",
       "| accuracy | multiclass | 0.8590000 | 10 | 0.02409074 | Preprocessor1_Model1 |\n",
       "| roc_auc  | hand_till  | 0.7702354 | 10 | 0.04136906 | Preprocessor1_Model1 |\n",
       "\n"
      ],
      "text/plain": [
       "  .metric  .estimator mean      n  std_err    .config             \n",
       "1 accuracy multiclass 0.8590000 10 0.02409074 Preprocessor1_Model1\n",
       "2 roc_auc  hand_till  0.7702354 10 0.04136906 Preprocessor1_Model1"
      ]
     },
     "metadata": {},
     "output_type": "display_data"
    }
   ],
   "source": [
    "set.seed(99)\n",
    "#unpaid_vfold <- vfold_cv(upsampled_cancer, v = 10, strata = Type)\n",
    "unpaid_vfold <- vfold_cv(train_set_unpaid, v = 10, strata = Type)\n",
    "\n",
    "unpaid_fit_v2 <- workflow() %>%\n",
    "      add_recipe(unpaid_recipe) %>%\n",
    "      add_model(knn_spec) %>%\n",
    "      fit_resamples(resamples = unpaid_vfold) %>% collect_metrics()\n",
    "unpaid_fit_v2"
   ]
  },
  {
   "cell_type": "markdown",
   "metadata": {},
   "source": [
    "We see the accuracy of our model is around 86%."
   ]
  },
  {
   "cell_type": "markdown",
   "metadata": {},
   "source": [
    "2. Next we will perform a paramterization selection method to select a better value for K."
   ]
  },
  {
   "cell_type": "code",
   "execution_count": 15,
   "metadata": {},
   "outputs": [
    {
     "name": "stderr",
     "output_type": "stream",
     "text": [
      "\u001b[33m!\u001b[39m \u001b[33mFold01: internal: No observations were detected in `truth` for level(s): 'Video'...\u001b[39m\n",
      "\n",
      "\u001b[33m!\u001b[39m \u001b[33mFold02: internal: No observations were detected in `truth` for level(s): 'Video'...\u001b[39m\n",
      "\n",
      "\u001b[33m!\u001b[39m \u001b[33mFold04: internal: No observations were detected in `truth` for level(s): 'Link',...\u001b[39m\n",
      "\n",
      "\u001b[33m!\u001b[39m \u001b[33mFold05: internal: No observations were detected in `truth` for level(s): 'Video'...\u001b[39m\n",
      "\n",
      "\u001b[33m!\u001b[39m \u001b[33mFold06: internal: No observations were detected in `truth` for level(s): 'Video'...\u001b[39m\n",
      "\n",
      "\u001b[33m!\u001b[39m \u001b[33mFold07: internal: No observations were detected in `truth` for level(s): 'Video'...\u001b[39m\n",
      "\n",
      "\u001b[33m!\u001b[39m \u001b[33mFold08: internal: No observations were detected in `truth` for level(s): 'Link'\n",
      "...\u001b[39m\n",
      "\n",
      "\u001b[33m!\u001b[39m \u001b[33mFold09: internal: No observations were detected in `truth` for level(s): 'Video'...\u001b[39m\n",
      "\n"
     ]
    },
    {
     "data": {
      "text/html": [
       "<table class=\"dataframe\">\n",
       "<caption>A tibble: 9 × 7</caption>\n",
       "<thead>\n",
       "\t<tr><th scope=col>neighbors</th><th scope=col>.metric</th><th scope=col>.estimator</th><th scope=col>mean</th><th scope=col>n</th><th scope=col>std_err</th><th scope=col>.config</th></tr>\n",
       "\t<tr><th scope=col>&lt;int&gt;</th><th scope=col>&lt;chr&gt;</th><th scope=col>&lt;chr&gt;</th><th scope=col>&lt;dbl&gt;</th><th scope=col>&lt;int&gt;</th><th scope=col>&lt;dbl&gt;</th><th scope=col>&lt;chr&gt;</th></tr>\n",
       "</thead>\n",
       "<tbody>\n",
       "\t<tr><td>2</td><td>accuracy</td><td>multiclass</td><td>0.8511667</td><td>10</td><td>0.02721894</td><td>Preprocessor1_Model1</td></tr>\n",
       "\t<tr><td>4</td><td>accuracy</td><td>multiclass</td><td>0.8631667</td><td>10</td><td>0.02451786</td><td>Preprocessor1_Model2</td></tr>\n",
       "\t<tr><td>6</td><td>accuracy</td><td>multiclass</td><td>0.8434744</td><td>10</td><td>0.02435619</td><td>Preprocessor1_Model3</td></tr>\n",
       "\t<tr><td>7</td><td>accuracy</td><td>multiclass</td><td>0.8474872</td><td>10</td><td>0.02398294</td><td>Preprocessor1_Model4</td></tr>\n",
       "\t<tr><td>⋮</td><td>⋮</td><td>⋮</td><td>⋮</td><td>⋮</td><td>⋮</td><td>⋮</td></tr>\n",
       "\t<tr><td>10</td><td>accuracy</td><td>multiclass</td><td>0.8513333</td><td>10</td><td>0.02558478</td><td>Preprocessor1_Model6</td></tr>\n",
       "\t<tr><td>12</td><td>accuracy</td><td>multiclass</td><td>0.8551795</td><td>10</td><td>0.02303849</td><td>Preprocessor1_Model7</td></tr>\n",
       "\t<tr><td>13</td><td>accuracy</td><td>multiclass</td><td>0.8551795</td><td>10</td><td>0.02303849</td><td>Preprocessor1_Model8</td></tr>\n",
       "\t<tr><td>14</td><td>accuracy</td><td>multiclass</td><td>0.8591795</td><td>10</td><td>0.02309284</td><td>Preprocessor1_Model9</td></tr>\n",
       "</tbody>\n",
       "</table>\n"
      ],
      "text/latex": [
       "A tibble: 9 × 7\n",
       "\\begin{tabular}{lllllll}\n",
       " neighbors & .metric & .estimator & mean & n & std\\_err & .config\\\\\n",
       " <int> & <chr> & <chr> & <dbl> & <int> & <dbl> & <chr>\\\\\n",
       "\\hline\n",
       "\t 2 & accuracy & multiclass & 0.8511667 & 10 & 0.02721894 & Preprocessor1\\_Model1\\\\\n",
       "\t 4 & accuracy & multiclass & 0.8631667 & 10 & 0.02451786 & Preprocessor1\\_Model2\\\\\n",
       "\t 6 & accuracy & multiclass & 0.8434744 & 10 & 0.02435619 & Preprocessor1\\_Model3\\\\\n",
       "\t 7 & accuracy & multiclass & 0.8474872 & 10 & 0.02398294 & Preprocessor1\\_Model4\\\\\n",
       "\t ⋮ & ⋮ & ⋮ & ⋮ & ⋮ & ⋮ & ⋮\\\\\n",
       "\t 10 & accuracy & multiclass & 0.8513333 & 10 & 0.02558478 & Preprocessor1\\_Model6\\\\\n",
       "\t 12 & accuracy & multiclass & 0.8551795 & 10 & 0.02303849 & Preprocessor1\\_Model7\\\\\n",
       "\t 13 & accuracy & multiclass & 0.8551795 & 10 & 0.02303849 & Preprocessor1\\_Model8\\\\\n",
       "\t 14 & accuracy & multiclass & 0.8591795 & 10 & 0.02309284 & Preprocessor1\\_Model9\\\\\n",
       "\\end{tabular}\n"
      ],
      "text/markdown": [
       "\n",
       "A tibble: 9 × 7\n",
       "\n",
       "| neighbors &lt;int&gt; | .metric &lt;chr&gt; | .estimator &lt;chr&gt; | mean &lt;dbl&gt; | n &lt;int&gt; | std_err &lt;dbl&gt; | .config &lt;chr&gt; |\n",
       "|---|---|---|---|---|---|---|\n",
       "| 2 | accuracy | multiclass | 0.8511667 | 10 | 0.02721894 | Preprocessor1_Model1 |\n",
       "| 4 | accuracy | multiclass | 0.8631667 | 10 | 0.02451786 | Preprocessor1_Model2 |\n",
       "| 6 | accuracy | multiclass | 0.8434744 | 10 | 0.02435619 | Preprocessor1_Model3 |\n",
       "| 7 | accuracy | multiclass | 0.8474872 | 10 | 0.02398294 | Preprocessor1_Model4 |\n",
       "| ⋮ | ⋮ | ⋮ | ⋮ | ⋮ | ⋮ | ⋮ |\n",
       "| 10 | accuracy | multiclass | 0.8513333 | 10 | 0.02558478 | Preprocessor1_Model6 |\n",
       "| 12 | accuracy | multiclass | 0.8551795 | 10 | 0.02303849 | Preprocessor1_Model7 |\n",
       "| 13 | accuracy | multiclass | 0.8551795 | 10 | 0.02303849 | Preprocessor1_Model8 |\n",
       "| 14 | accuracy | multiclass | 0.8591795 | 10 | 0.02309284 | Preprocessor1_Model9 |\n",
       "\n"
      ],
      "text/plain": [
       "  neighbors .metric  .estimator mean      n  std_err    .config             \n",
       "1 2         accuracy multiclass 0.8511667 10 0.02721894 Preprocessor1_Model1\n",
       "2 4         accuracy multiclass 0.8631667 10 0.02451786 Preprocessor1_Model2\n",
       "3 6         accuracy multiclass 0.8434744 10 0.02435619 Preprocessor1_Model3\n",
       "4 7         accuracy multiclass 0.8474872 10 0.02398294 Preprocessor1_Model4\n",
       "⋮ ⋮         ⋮        ⋮          ⋮         ⋮  ⋮          ⋮                   \n",
       "6 10        accuracy multiclass 0.8513333 10 0.02558478 Preprocessor1_Model6\n",
       "7 12        accuracy multiclass 0.8551795 10 0.02303849 Preprocessor1_Model7\n",
       "8 13        accuracy multiclass 0.8551795 10 0.02303849 Preprocessor1_Model8\n",
       "9 14        accuracy multiclass 0.8591795 10 0.02309284 Preprocessor1_Model9"
      ]
     },
     "metadata": {},
     "output_type": "display_data"
    }
   ],
   "source": [
    "knn_tune <- nearest_neighbor(weight_func = \"rectangular\", neighbors = tune()) %>%\n",
    "  set_engine(\"kknn\") %>%\n",
    "  set_mode(\"classification\")\n",
    "\n",
    "knn_results <- workflow() %>%\n",
    "  add_recipe(unpaid_recipe) %>%\n",
    "  add_model(knn_tune) %>%\n",
    "  tune_grid(resamples = unpaid_vfold, grid = 10) %>% \n",
    "  collect_metrics()\n",
    "\n",
    "accuracies <- knn_results %>% \n",
    "       filter(.metric == \"accuracy\")\n",
    "\n",
    "accuracies"
   ]
  },
  {
   "cell_type": "markdown",
   "metadata": {},
   "source": [
    "3. Then using our collected metrics, we can visualize our accuracies to refine our value of K."
   ]
  },
  {
   "cell_type": "code",
   "execution_count": 16,
   "metadata": {},
   "outputs": [
    {
     "data": {
      "image/png": "[encoded data removed]",
      "text/plain": [
       "plot without title"
      ]
     },
     "metadata": {
      "image/png": {
       "height": 420,
       "width": 420
      }
     },
     "output_type": "display_data"
    }
   ],
   "source": [
    "accuracy_versus_k <- ggplot(accuracies, aes(x = neighbors, y = mean))+\n",
    "      geom_point() +\n",
    "      geom_line() +\n",
    "      labs(x = \"Neighbors\", y = \"Accuracy Estimate\", title = \"K-NN Classification Accuracy by Neighbors\") +\n",
    "      scale_x_continuous(breaks = seq(0, 16, by = 2)) +  # adjusting the x-axis\n",
    "      scale_y_continuous(limits = c(0.8, 1.0)) # adjusting the y-axis\n",
    "\n",
    "accuracy_versus_k"
   ]
  },
  {
   "cell_type": "code",
   "execution_count": 17,
   "metadata": {},
   "outputs": [
    {
     "data": {
      "text/html": [
       "<table class=\"dataframe\">\n",
       "<caption>A tibble: 1 × 7</caption>\n",
       "<thead>\n",
       "\t<tr><th scope=col>neighbors</th><th scope=col>.metric</th><th scope=col>.estimator</th><th scope=col>mean</th><th scope=col>n</th><th scope=col>std_err</th><th scope=col>.config</th></tr>\n",
       "\t<tr><th scope=col>&lt;int&gt;</th><th scope=col>&lt;chr&gt;</th><th scope=col>&lt;chr&gt;</th><th scope=col>&lt;dbl&gt;</th><th scope=col>&lt;int&gt;</th><th scope=col>&lt;dbl&gt;</th><th scope=col>&lt;chr&gt;</th></tr>\n",
       "</thead>\n",
       "<tbody>\n",
       "\t<tr><td>4</td><td>accuracy</td><td>multiclass</td><td>0.8631667</td><td>10</td><td>0.02451786</td><td>Preprocessor1_Model2</td></tr>\n",
       "</tbody>\n",
       "</table>\n"
      ],
      "text/latex": [
       "A tibble: 1 × 7\n",
       "\\begin{tabular}{lllllll}\n",
       " neighbors & .metric & .estimator & mean & n & std\\_err & .config\\\\\n",
       " <int> & <chr> & <chr> & <dbl> & <int> & <dbl> & <chr>\\\\\n",
       "\\hline\n",
       "\t 4 & accuracy & multiclass & 0.8631667 & 10 & 0.02451786 & Preprocessor1\\_Model2\\\\\n",
       "\\end{tabular}\n"
      ],
      "text/markdown": [
       "\n",
       "A tibble: 1 × 7\n",
       "\n",
       "| neighbors &lt;int&gt; | .metric &lt;chr&gt; | .estimator &lt;chr&gt; | mean &lt;dbl&gt; | n &lt;int&gt; | std_err &lt;dbl&gt; | .config &lt;chr&gt; |\n",
       "|---|---|---|---|---|---|---|\n",
       "| 4 | accuracy | multiclass | 0.8631667 | 10 | 0.02451786 | Preprocessor1_Model2 |\n",
       "\n"
      ],
      "text/plain": [
       "  neighbors .metric  .estimator mean      n  std_err    .config             \n",
       "1 4         accuracy multiclass 0.8631667 10 0.02451786 Preprocessor1_Model2"
      ]
     },
     "metadata": {},
     "output_type": "display_data"
    }
   ],
   "source": [
    "most_accurate_k <- knn_results %>% filter(.metric == \"accuracy\") %>% arrange(desc(mean)) %>% slice(1)\n",
    "most_accurate_k"
   ]
  },
  {
   "cell_type": "markdown",
   "metadata": {},
   "source": [
    "The visualization suggests that K=4 averages the highest accuracy of ~86% from our 10 cross validation sets. We edit our model specification to take k=2 instead of k=3 as follows. After doing so, we can compare the accuracy of each model."
   ]
  },
  {
   "cell_type": "code",
   "execution_count": 18,
   "metadata": {},
   "outputs": [
    {
     "data": {
      "text/html": [
       "<table class=\"dataframe\">\n",
       "<caption>A tibble: 1 × 3</caption>\n",
       "<thead>\n",
       "\t<tr><th scope=col>.metric</th><th scope=col>.estimator</th><th scope=col>.estimate</th></tr>\n",
       "\t<tr><th scope=col>&lt;chr&gt;</th><th scope=col>&lt;chr&gt;</th><th scope=col>&lt;dbl&gt;</th></tr>\n",
       "</thead>\n",
       "<tbody>\n",
       "\t<tr><td>accuracy</td><td>multiclass</td><td>0.75</td></tr>\n",
       "</tbody>\n",
       "</table>\n"
      ],
      "text/latex": [
       "A tibble: 1 × 3\n",
       "\\begin{tabular}{lll}\n",
       " .metric & .estimator & .estimate\\\\\n",
       " <chr> & <chr> & <dbl>\\\\\n",
       "\\hline\n",
       "\t accuracy & multiclass & 0.75\\\\\n",
       "\\end{tabular}\n"
      ],
      "text/markdown": [
       "\n",
       "A tibble: 1 × 3\n",
       "\n",
       "| .metric &lt;chr&gt; | .estimator &lt;chr&gt; | .estimate &lt;dbl&gt; |\n",
       "|---|---|---|\n",
       "| accuracy | multiclass | 0.75 |\n",
       "\n"
      ],
      "text/plain": [
       "  .metric  .estimator .estimate\n",
       "1 accuracy multiclass 0.75     "
      ]
     },
     "metadata": {},
     "output_type": "display_data"
    },
    {
     "name": "stdout",
     "output_type": "stream",
     "text": [
      "[1] 0.0000000 0.6810345\n"
     ]
    }
   ],
   "source": [
    "# we use the same recipe, change spec\n",
    "\n",
    "knn_spec <- nearest_neighbor(weight_func = \"rectangular\", neighbors = 4) %>%\n",
    "  set_engine(\"kknn\") %>%\n",
    "  set_mode(\"classification\")\n",
    "\n",
    "unpaid_fit_tuned <- workflow() %>%\n",
    "      add_recipe(unpaid_recipe) %>%\n",
    "      add_model(knn_spec) %>%\n",
    "      fit(data = train_set_unpaid) \n",
    "      #fit_resamples(resamples = unpaid_vfold)\n",
    "\n",
    "unpaid_val_predicted_tuned <- predict(unpaid_fit_tuned, val_set_unpaid) %>%\n",
    "    bind_cols(val_set_unpaid)\n",
    "\n",
    "unpaid_prediction_accuracy_tuned <- unpaid_val_predicted_tuned %>%\n",
    "    metrics(truth = Type, estimate = .pred_class) %>% filter(.metric == \"accuracy\")\n",
    "\n",
    "model_improvement <- unpaid_prediction_accuracy_tuned$.estimate - unpaid_prediction_accuracy$.estimate\n",
    "\n",
    "unpaid_prediction_accuracy_tuned\n",
    "print(model_improvement)"
   ]
  },
  {
   "cell_type": "markdown",
   "metadata": {},
   "source": [
    "After changing our model spec from 2 to 3, we see that the modifications to our model has increased our accuracy by roughly *5.56%* (our original accuracy was roughly *72.2%*) and thus we will choose the tuned model."
   ]
  },
  {
   "cell_type": "markdown",
   "metadata": {},
   "source": [
    "### EXPLAIN WHY LOW ACCURACY OCCURS\n",
    "- We have 1 video observation in our testing set\n",
    "- which after we have classified the only video value\n",
    "- "
   ]
  },
  {
   "cell_type": "code",
   "execution_count": null,
   "metadata": {},
   "outputs": [],
   "source": []
  },
  {
   "cell_type": "markdown",
   "metadata": {},
   "source": [
    "---------------------------------------------------------------------------------------------------------"
   ]
  },
  {
   "cell_type": "markdown",
   "metadata": {},
   "source": [
    "### Additional Exploratory Analysis"
   ]
  },
  {
   "cell_type": "code",
   "execution_count": 19,
   "metadata": {},
   "outputs": [
    {
     "data": {
      "text/html": [
       "<table class=\"dataframe\">\n",
       "<caption>A data.frame: 4 × 5</caption>\n",
       "<thead>\n",
       "\t<tr><th scope=col>mean_comment</th><th scope=col>mean_like</th><th scope=col>mean_Total_Interactions</th><th scope=col>mean_share</th><th scope=col>type</th></tr>\n",
       "\t<tr><th scope=col>&lt;dbl&gt;</th><th scope=col>&lt;dbl&gt;</th><th scope=col>&lt;dbl&gt;</th><th scope=col>&lt;dbl&gt;</th><th scope=col>&lt;fct&gt;</th></tr>\n",
       "</thead>\n",
       "<tbody>\n",
       "\t<tr><td> 3.100000</td><td>100.9000</td><td>119.8000</td><td>15.80000</td><td>Link  </td></tr>\n",
       "\t<tr><td> 6.404762</td><td>155.9905</td><td>186.5476</td><td>24.15238</td><td>Photo </td></tr>\n",
       "\t<tr><td> 6.880000</td><td>145.8400</td><td>179.4800</td><td>26.76000</td><td>Status</td></tr>\n",
       "\t<tr><td>10.333333</td><td>216.0000</td><td>285.6667</td><td>59.33333</td><td>Video </td></tr>\n",
       "</tbody>\n",
       "</table>\n"
      ],
      "text/latex": [
       "A data.frame: 4 × 5\n",
       "\\begin{tabular}{lllll}\n",
       " mean\\_comment & mean\\_like & mean\\_Total\\_Interactions & mean\\_share & type\\\\\n",
       " <dbl> & <dbl> & <dbl> & <dbl> & <fct>\\\\\n",
       "\\hline\n",
       "\t  3.100000 & 100.9000 & 119.8000 & 15.80000 & Link  \\\\\n",
       "\t  6.404762 & 155.9905 & 186.5476 & 24.15238 & Photo \\\\\n",
       "\t  6.880000 & 145.8400 & 179.4800 & 26.76000 & Status\\\\\n",
       "\t 10.333333 & 216.0000 & 285.6667 & 59.33333 & Video \\\\\n",
       "\\end{tabular}\n"
      ],
      "text/markdown": [
       "\n",
       "A data.frame: 4 × 5\n",
       "\n",
       "| mean_comment &lt;dbl&gt; | mean_like &lt;dbl&gt; | mean_Total_Interactions &lt;dbl&gt; | mean_share &lt;dbl&gt; | type &lt;fct&gt; |\n",
       "|---|---|---|---|---|\n",
       "|  3.100000 | 100.9000 | 119.8000 | 15.80000 | Link   |\n",
       "|  6.404762 | 155.9905 | 186.5476 | 24.15238 | Photo  |\n",
       "|  6.880000 | 145.8400 | 179.4800 | 26.76000 | Status |\n",
       "| 10.333333 | 216.0000 | 285.6667 | 59.33333 | Video  |\n",
       "\n"
      ],
      "text/plain": [
       "  mean_comment mean_like mean_Total_Interactions mean_share type  \n",
       "1  3.100000    100.9000  119.8000                15.80000   Link  \n",
       "2  6.404762    155.9905  186.5476                24.15238   Photo \n",
       "3  6.880000    145.8400  179.4800                26.76000   Status\n",
       "4 10.333333    216.0000  285.6667                59.33333   Video "
      ]
     },
     "metadata": {},
     "output_type": "display_data"
    },
    {
     "data": {
      "text/html": [
       "<table class=\"dataframe\">\n",
       "<caption>A data.frame: 16 × 3</caption>\n",
       "<thead>\n",
       "\t<tr><th scope=col>type</th><th scope=col>Stat</th><th scope=col>Value</th></tr>\n",
       "\t<tr><th scope=col>&lt;fct&gt;</th><th scope=col>&lt;chr&gt;</th><th scope=col>&lt;dbl&gt;</th></tr>\n",
       "</thead>\n",
       "<tbody>\n",
       "\t<tr><td>Link  </td><td>mean_comment</td><td> 3.100000</td></tr>\n",
       "\t<tr><td>Photo </td><td>mean_comment</td><td> 6.404762</td></tr>\n",
       "\t<tr><td>Status</td><td>mean_comment</td><td> 6.880000</td></tr>\n",
       "\t<tr><td>Video </td><td>mean_comment</td><td>10.333333</td></tr>\n",
       "\t<tr><td>⋮</td><td>⋮</td><td>⋮</td></tr>\n",
       "\t<tr><td>Link  </td><td>mean_share</td><td>15.80000</td></tr>\n",
       "\t<tr><td>Photo </td><td>mean_share</td><td>24.15238</td></tr>\n",
       "\t<tr><td>Status</td><td>mean_share</td><td>26.76000</td></tr>\n",
       "\t<tr><td>Video </td><td>mean_share</td><td>59.33333</td></tr>\n",
       "</tbody>\n",
       "</table>\n"
      ],
      "text/latex": [
       "A data.frame: 16 × 3\n",
       "\\begin{tabular}{lll}\n",
       " type & Stat & Value\\\\\n",
       " <fct> & <chr> & <dbl>\\\\\n",
       "\\hline\n",
       "\t Link   & mean\\_comment &  3.100000\\\\\n",
       "\t Photo  & mean\\_comment &  6.404762\\\\\n",
       "\t Status & mean\\_comment &  6.880000\\\\\n",
       "\t Video  & mean\\_comment & 10.333333\\\\\n",
       "\t ⋮ & ⋮ & ⋮\\\\\n",
       "\t Link   & mean\\_share & 15.80000\\\\\n",
       "\t Photo  & mean\\_share & 24.15238\\\\\n",
       "\t Status & mean\\_share & 26.76000\\\\\n",
       "\t Video  & mean\\_share & 59.33333\\\\\n",
       "\\end{tabular}\n"
      ],
      "text/markdown": [
       "\n",
       "A data.frame: 16 × 3\n",
       "\n",
       "| type &lt;fct&gt; | Stat &lt;chr&gt; | Value &lt;dbl&gt; |\n",
       "|---|---|---|\n",
       "| Link   | mean_comment |  3.100000 |\n",
       "| Photo  | mean_comment |  6.404762 |\n",
       "| Status | mean_comment |  6.880000 |\n",
       "| Video  | mean_comment | 10.333333 |\n",
       "| ⋮ | ⋮ | ⋮ |\n",
       "| Link   | mean_share | 15.80000 |\n",
       "| Photo  | mean_share | 24.15238 |\n",
       "| Status | mean_share | 26.76000 |\n",
       "| Video  | mean_share | 59.33333 |\n",
       "\n"
      ],
      "text/plain": [
       "   type   Stat         Value    \n",
       "1  Link   mean_comment  3.100000\n",
       "2  Photo  mean_comment  6.404762\n",
       "3  Status mean_comment  6.880000\n",
       "4  Video  mean_comment 10.333333\n",
       "⋮  ⋮      ⋮            ⋮        \n",
       "13 Link   mean_share   15.80000 \n",
       "14 Photo  mean_share   24.15238 \n",
       "15 Status mean_share   26.76000 \n",
       "16 Video  mean_share   59.33333 "
      ]
     },
     "metadata": {},
     "output_type": "display_data"
    }
   ],
   "source": [
    "mean_comment <- summ_train_unpaid$mean_comment\n",
    "mean_like <- summ_train_unpaid$mean_like\n",
    "mean_Total_Interactions <- summ_train_unpaid$mean_Total_Interactions\n",
    "mean_share <- summ_train_unpaid$mean_share\n",
    "type <- summ_train_unpaid$Type\n",
    "\n",
    "test_df <- data.frame(mean_comment,mean_like,mean_Total_Interactions,mean_share,type)\n",
    "test_df\n",
    "\n",
    "fb_long <- test_df %>%\n",
    "gather(\"Stat\", \"Value\", -type)\n",
    "\n",
    "fb_long\n"
   ]
  },
  {
   "cell_type": "code",
   "execution_count": 20,
   "metadata": {},
   "outputs": [],
   "source": [
    "# test_df <- data.frame(\n",
    "# mean_comment = c(4.0, 7.317073, 13.166667, 12.333333),\n",
    "# mean_like = c(56.66667, 202.14634, 281.16667, 276.33333),\n",
    "# mean_Total_Interactions = c(71.0000, 235.2683, 353.8333, 346.6667),\n",
    "# mean_share = c(10.33333, 25.80488, 59.50000, 58.00000),\n",
    "# type = c(\"Link\", \"Photo\", \"Status\", \"Video\"))\n",
    "\n",
    "\n",
    "# fb_long <- test_df %>%\n",
    "# gather(\"Stat\", \"Value\", -type)\n",
    "\n",
    "# fb_long\n"
   ]
  },
  {
   "cell_type": "code",
   "execution_count": 21,
   "metadata": {},
   "outputs": [
    {
     "data": {
      "text/html": [
       "<table class=\"dataframe\">\n",
       "<caption>A data.frame: 4 × 3</caption>\n",
       "<thead>\n",
       "\t<tr><th scope=col>type</th><th scope=col>Stat</th><th scope=col>Value</th></tr>\n",
       "\t<tr><th scope=col>&lt;fct&gt;</th><th scope=col>&lt;chr&gt;</th><th scope=col>&lt;dbl&gt;</th></tr>\n",
       "</thead>\n",
       "<tbody>\n",
       "\t<tr><td>Link  </td><td>mean_like</td><td>100.9000</td></tr>\n",
       "\t<tr><td>Photo </td><td>mean_like</td><td>155.9905</td></tr>\n",
       "\t<tr><td>Status</td><td>mean_like</td><td>145.8400</td></tr>\n",
       "\t<tr><td>Video </td><td>mean_like</td><td>216.0000</td></tr>\n",
       "</tbody>\n",
       "</table>\n"
      ],
      "text/latex": [
       "A data.frame: 4 × 3\n",
       "\\begin{tabular}{lll}\n",
       " type & Stat & Value\\\\\n",
       " <fct> & <chr> & <dbl>\\\\\n",
       "\\hline\n",
       "\t Link   & mean\\_like & 100.9000\\\\\n",
       "\t Photo  & mean\\_like & 155.9905\\\\\n",
       "\t Status & mean\\_like & 145.8400\\\\\n",
       "\t Video  & mean\\_like & 216.0000\\\\\n",
       "\\end{tabular}\n"
      ],
      "text/markdown": [
       "\n",
       "A data.frame: 4 × 3\n",
       "\n",
       "| type &lt;fct&gt; | Stat &lt;chr&gt; | Value &lt;dbl&gt; |\n",
       "|---|---|---|\n",
       "| Link   | mean_like | 100.9000 |\n",
       "| Photo  | mean_like | 155.9905 |\n",
       "| Status | mean_like | 145.8400 |\n",
       "| Video  | mean_like | 216.0000 |\n",
       "\n"
      ],
      "text/plain": [
       "  type   Stat      Value   \n",
       "1 Link   mean_like 100.9000\n",
       "2 Photo  mean_like 155.9905\n",
       "3 Status mean_like 145.8400\n",
       "4 Video  mean_like 216.0000"
      ]
     },
     "metadata": {},
     "output_type": "display_data"
    }
   ],
   "source": [
    "filter_mean_like <- fb_long %>%\n",
    "    filter(Stat == \"mean_like\")\n",
    "\n",
    "filter_mean_like"
   ]
  },
  {
   "cell_type": "code",
   "execution_count": 22,
   "metadata": {},
   "outputs": [
    {
     "data": {
      "image/png": "[encoded data removed]",
      "text/plain": [
       "plot without title"
      ]
     },
     "metadata": {
      "image/png": {
       "height": 360,
       "width": 480
      }
     },
     "output_type": "display_data"
    }
   ],
   "source": [
    "options(repr.plot.width = 8, repr.plot.height = 6) \n",
    "\n",
    "mean_likes_bar <- ggplot(filter_mean_like, aes(x = type, y = Value)) +\n",
    "    geom_bar(stat = \"identity\") +\n",
    "    labs(x = \"Post Type\", y = \"Average Number of Likes\") +\n",
    "    theme(text = element_text(size = 18)) \n",
    "\n",
    "mean_likes_bar"
   ]
  },
  {
   "cell_type": "code",
   "execution_count": 23,
   "metadata": {},
   "outputs": [
    {
     "data": {
      "image/png": "[encoded data removed]",
      "text/plain": [
       "plot without title"
      ]
     },
     "metadata": {
      "image/png": {
       "height": 360,
       "width": 480
      }
     },
     "output_type": "display_data"
    }
   ],
   "source": [
    "mean_fb <- ggplot(fb_long, aes(x = type, y = Value, fill = Stat)) +\n",
    "    geom_col(position = \"dodge\") +\n",
    "    labs(x = \"Type of Post\", y = \"Count\") +\n",
    "    scale_fill_discrete(name = \"Stats\", labels = c(\"Mean Comment\", \"Mean Like\", \"Mean Share\", \"Mean Total Interactions\"))\n",
    "\n",
    "mean_fb"
   ]
  },
  {
   "cell_type": "code",
   "execution_count": 24,
   "metadata": {},
   "outputs": [
    {
     "name": "stderr",
     "output_type": "stream",
     "text": [
      "Warning message:\n",
      "“Removed 21 rows containing missing values (geom_point).”\n"
     ]
    },
    {
     "data": {
      "image/png": "[encoded data removed]",
      "text/plain": [
       "plot without title"
      ]
     },
     "metadata": {
      "image/png": {
       "height": 480,
       "width": 840
      }
     },
     "output_type": "display_data"
    }
   ],
   "source": [
    "library(ggplot2)\n",
    "unpaid_plot <- facebook_clean_unpaid %>% \n",
    "    ggplot(aes(x = Lifetime_Post_Total_Reach/100, y = Total_Interactions, shape=Type, color=Type, fill=Type))+\n",
    "    geom_point(alpha=0.6, size=4)+\n",
    "    labs(x=\"Total reach (hundreds)\", y=\"Total interactions\", group=\"Type\")+\n",
    "    scale_y_continuous(limits = c(0,900))+\n",
    "    scale_x_continuous(limits = c(0,500))+\n",
    "    scale_shape_manual(values = c(21,22,23,24)) +\n",
    "    scale_size_manual(values=c(1,6,7,9))+\n",
    "    theme_minimal()+\n",
    "    theme(text = element_text(size = 16))\n",
    "    options(repr.plot.width =14, repr.plot.height = 8) \n",
    "unpaid_plot"
   ]
  },
  {
   "cell_type": "markdown",
   "metadata": {},
   "source": [
    "### Bibliography\n",
    "\n",
    "Moro, S., Rita, P., & Vala, B. (2016). Predicting social media performance metrics and evaluation of the impact on brand building: A data mining approach. Journal of Business Research. 69(9), 3341 - 3351. "
   ]
  },
  {
   "cell_type": "code",
   "execution_count": 25,
   "metadata": {},
   "outputs": [
    {
     "data": {
      "text/html": [
       "<table class=\"dataframe\">\n",
       "<caption>A spec_tbl_df: 500 × 19</caption>\n",
       "<thead>\n",
       "\t<tr><th scope=col>Page_total_likes</th><th scope=col>Type</th><th scope=col>Category</th><th scope=col>Post_Month</th><th scope=col>Post_Weekday</th><th scope=col>Post_Hour</th><th scope=col>Paid</th><th scope=col>Lifetime_Post_Total_Reach</th><th scope=col>Lifetime_Post_Total_Impressions</th><th scope=col>Lifetime_Engaged_Users</th><th scope=col>Lifetime_Post_Consumers</th><th scope=col>Lifetime_Post_Consumptions</th><th scope=col>Lifetime_Post_Impressions_by_people_who_have_liked_your_Page</th><th scope=col>Lifetime_Post_reach_by_people_who_like_your_Page</th><th scope=col>Lifetime_People_who_have_liked_your_Page_and_engaged_with_your_post</th><th scope=col>comment</th><th scope=col>like</th><th scope=col>share</th><th scope=col>Total_Interactions</th></tr>\n",
       "\t<tr><th scope=col>&lt;dbl&gt;</th><th scope=col>&lt;fct&gt;</th><th scope=col>&lt;fct&gt;</th><th scope=col>&lt;fct&gt;</th><th scope=col>&lt;fct&gt;</th><th scope=col>&lt;fct&gt;</th><th scope=col>&lt;fct&gt;</th><th scope=col>&lt;dbl&gt;</th><th scope=col>&lt;dbl&gt;</th><th scope=col>&lt;dbl&gt;</th><th scope=col>&lt;dbl&gt;</th><th scope=col>&lt;dbl&gt;</th><th scope=col>&lt;dbl&gt;</th><th scope=col>&lt;dbl&gt;</th><th scope=col>&lt;dbl&gt;</th><th scope=col>&lt;dbl&gt;</th><th scope=col>&lt;dbl&gt;</th><th scope=col>&lt;dbl&gt;</th><th scope=col>&lt;dbl&gt;</th></tr>\n",
       "</thead>\n",
       "<tbody>\n",
       "\t<tr><td>139441</td><td>Photo </td><td>2</td><td>12</td><td>4</td><td>3 </td><td>0</td><td> 2752</td><td> 5091</td><td> 178</td><td> 109</td><td> 159</td><td> 3078</td><td> 1640</td><td> 119</td><td> 4</td><td>  79</td><td> 17</td><td> 100</td></tr>\n",
       "\t<tr><td>139441</td><td>Status</td><td>2</td><td>12</td><td>3</td><td>10</td><td>0</td><td>10460</td><td>19057</td><td>1457</td><td>1361</td><td>1674</td><td>11710</td><td> 6112</td><td>1108</td><td> 5</td><td> 130</td><td> 29</td><td> 164</td></tr>\n",
       "\t<tr><td>139441</td><td>Photo </td><td>3</td><td>12</td><td>3</td><td>3 </td><td>0</td><td> 2413</td><td> 4373</td><td> 177</td><td> 113</td><td> 154</td><td> 2812</td><td> 1503</td><td> 132</td><td> 0</td><td>  66</td><td> 14</td><td>  80</td></tr>\n",
       "\t<tr><td>139441</td><td>Photo </td><td>2</td><td>12</td><td>2</td><td>10</td><td>1</td><td>50128</td><td>87991</td><td>2211</td><td> 790</td><td>1119</td><td>61027</td><td>32048</td><td>1386</td><td>58</td><td>1572</td><td>147</td><td>1777</td></tr>\n",
       "\t<tr><td>⋮</td><td>⋮</td><td>⋮</td><td>⋮</td><td>⋮</td><td>⋮</td><td>⋮</td><td>⋮</td><td>⋮</td><td>⋮</td><td>⋮</td><td>⋮</td><td>⋮</td><td>⋮</td><td>⋮</td><td>⋮</td><td>⋮</td><td>⋮</td><td>⋮</td></tr>\n",
       "\t<tr><td>81370</td><td>Photo</td><td>2</td><td>1</td><td>5</td><td>8 </td><td>0 </td><td>3480</td><td>6229</td><td>537</td><td>508</td><td>687</td><td>3961</td><td>2104</td><td>301</td><td>0</td><td>53</td><td>22</td><td> 75</td></tr>\n",
       "\t<tr><td>81370</td><td>Photo</td><td>1</td><td>1</td><td>5</td><td>2 </td><td>0 </td><td>3778</td><td>7216</td><td>625</td><td>572</td><td>795</td><td>4742</td><td>2388</td><td>363</td><td>4</td><td>93</td><td>18</td><td>115</td></tr>\n",
       "\t<tr><td>81370</td><td>Photo</td><td>3</td><td>1</td><td>4</td><td>11</td><td>0 </td><td>4156</td><td>7564</td><td>626</td><td>574</td><td>832</td><td>4534</td><td>2452</td><td>370</td><td>7</td><td>91</td><td>38</td><td>136</td></tr>\n",
       "\t<tr><td>81370</td><td>Photo</td><td>2</td><td>1</td><td>4</td><td>4 </td><td>NA</td><td>4188</td><td>7292</td><td>564</td><td>524</td><td>743</td><td>3861</td><td>2200</td><td>316</td><td>0</td><td>91</td><td>28</td><td>119</td></tr>\n",
       "</tbody>\n",
       "</table>\n"
      ],
      "text/latex": [
       "A spec\\_tbl\\_df: 500 × 19\n",
       "\\begin{tabular}{lllllllllllllllllll}\n",
       " Page\\_total\\_likes & Type & Category & Post\\_Month & Post\\_Weekday & Post\\_Hour & Paid & Lifetime\\_Post\\_Total\\_Reach & Lifetime\\_Post\\_Total\\_Impressions & Lifetime\\_Engaged\\_Users & Lifetime\\_Post\\_Consumers & Lifetime\\_Post\\_Consumptions & Lifetime\\_Post\\_Impressions\\_by\\_people\\_who\\_have\\_liked\\_your\\_Page & Lifetime\\_Post\\_reach\\_by\\_people\\_who\\_like\\_your\\_Page & Lifetime\\_People\\_who\\_have\\_liked\\_your\\_Page\\_and\\_engaged\\_with\\_your\\_post & comment & like & share & Total\\_Interactions\\\\\n",
       " <dbl> & <fct> & <fct> & <fct> & <fct> & <fct> & <fct> & <dbl> & <dbl> & <dbl> & <dbl> & <dbl> & <dbl> & <dbl> & <dbl> & <dbl> & <dbl> & <dbl> & <dbl>\\\\\n",
       "\\hline\n",
       "\t 139441 & Photo  & 2 & 12 & 4 & 3  & 0 &  2752 &  5091 &  178 &  109 &  159 &  3078 &  1640 &  119 &  4 &   79 &  17 &  100\\\\\n",
       "\t 139441 & Status & 2 & 12 & 3 & 10 & 0 & 10460 & 19057 & 1457 & 1361 & 1674 & 11710 &  6112 & 1108 &  5 &  130 &  29 &  164\\\\\n",
       "\t 139441 & Photo  & 3 & 12 & 3 & 3  & 0 &  2413 &  4373 &  177 &  113 &  154 &  2812 &  1503 &  132 &  0 &   66 &  14 &   80\\\\\n",
       "\t 139441 & Photo  & 2 & 12 & 2 & 10 & 1 & 50128 & 87991 & 2211 &  790 & 1119 & 61027 & 32048 & 1386 & 58 & 1572 & 147 & 1777\\\\\n",
       "\t ⋮ & ⋮ & ⋮ & ⋮ & ⋮ & ⋮ & ⋮ & ⋮ & ⋮ & ⋮ & ⋮ & ⋮ & ⋮ & ⋮ & ⋮ & ⋮ & ⋮ & ⋮ & ⋮\\\\\n",
       "\t 81370 & Photo & 2 & 1 & 5 & 8  & 0  & 3480 & 6229 & 537 & 508 & 687 & 3961 & 2104 & 301 & 0 & 53 & 22 &  75\\\\\n",
       "\t 81370 & Photo & 1 & 1 & 5 & 2  & 0  & 3778 & 7216 & 625 & 572 & 795 & 4742 & 2388 & 363 & 4 & 93 & 18 & 115\\\\\n",
       "\t 81370 & Photo & 3 & 1 & 4 & 11 & 0  & 4156 & 7564 & 626 & 574 & 832 & 4534 & 2452 & 370 & 7 & 91 & 38 & 136\\\\\n",
       "\t 81370 & Photo & 2 & 1 & 4 & 4  & NA & 4188 & 7292 & 564 & 524 & 743 & 3861 & 2200 & 316 & 0 & 91 & 28 & 119\\\\\n",
       "\\end{tabular}\n"
      ],
      "text/markdown": [
       "\n",
       "A spec_tbl_df: 500 × 19\n",
       "\n",
       "| Page_total_likes &lt;dbl&gt; | Type &lt;fct&gt; | Category &lt;fct&gt; | Post_Month &lt;fct&gt; | Post_Weekday &lt;fct&gt; | Post_Hour &lt;fct&gt; | Paid &lt;fct&gt; | Lifetime_Post_Total_Reach &lt;dbl&gt; | Lifetime_Post_Total_Impressions &lt;dbl&gt; | Lifetime_Engaged_Users &lt;dbl&gt; | Lifetime_Post_Consumers &lt;dbl&gt; | Lifetime_Post_Consumptions &lt;dbl&gt; | Lifetime_Post_Impressions_by_people_who_have_liked_your_Page &lt;dbl&gt; | Lifetime_Post_reach_by_people_who_like_your_Page &lt;dbl&gt; | Lifetime_People_who_have_liked_your_Page_and_engaged_with_your_post &lt;dbl&gt; | comment &lt;dbl&gt; | like &lt;dbl&gt; | share &lt;dbl&gt; | Total_Interactions &lt;dbl&gt; |\n",
       "|---|---|---|---|---|---|---|---|---|---|---|---|---|---|---|---|---|---|---|\n",
       "| 139441 | Photo  | 2 | 12 | 4 | 3  | 0 |  2752 |  5091 |  178 |  109 |  159 |  3078 |  1640 |  119 |  4 |   79 |  17 |  100 |\n",
       "| 139441 | Status | 2 | 12 | 3 | 10 | 0 | 10460 | 19057 | 1457 | 1361 | 1674 | 11710 |  6112 | 1108 |  5 |  130 |  29 |  164 |\n",
       "| 139441 | Photo  | 3 | 12 | 3 | 3  | 0 |  2413 |  4373 |  177 |  113 |  154 |  2812 |  1503 |  132 |  0 |   66 |  14 |   80 |\n",
       "| 139441 | Photo  | 2 | 12 | 2 | 10 | 1 | 50128 | 87991 | 2211 |  790 | 1119 | 61027 | 32048 | 1386 | 58 | 1572 | 147 | 1777 |\n",
       "| ⋮ | ⋮ | ⋮ | ⋮ | ⋮ | ⋮ | ⋮ | ⋮ | ⋮ | ⋮ | ⋮ | ⋮ | ⋮ | ⋮ | ⋮ | ⋮ | ⋮ | ⋮ | ⋮ |\n",
       "| 81370 | Photo | 2 | 1 | 5 | 8  | 0  | 3480 | 6229 | 537 | 508 | 687 | 3961 | 2104 | 301 | 0 | 53 | 22 |  75 |\n",
       "| 81370 | Photo | 1 | 1 | 5 | 2  | 0  | 3778 | 7216 | 625 | 572 | 795 | 4742 | 2388 | 363 | 4 | 93 | 18 | 115 |\n",
       "| 81370 | Photo | 3 | 1 | 4 | 11 | 0  | 4156 | 7564 | 626 | 574 | 832 | 4534 | 2452 | 370 | 7 | 91 | 38 | 136 |\n",
       "| 81370 | Photo | 2 | 1 | 4 | 4  | NA | 4188 | 7292 | 564 | 524 | 743 | 3861 | 2200 | 316 | 0 | 91 | 28 | 119 |\n",
       "\n"
      ],
      "text/plain": [
       "    Page_total_likes Type   Category Post_Month Post_Weekday Post_Hour Paid\n",
       "1   139441           Photo  2        12         4            3         0   \n",
       "2   139441           Status 2        12         3            10        0   \n",
       "3   139441           Photo  3        12         3            3         0   \n",
       "4   139441           Photo  2        12         2            10        1   \n",
       "⋮   ⋮                ⋮      ⋮        ⋮          ⋮            ⋮         ⋮   \n",
       "497 81370            Photo  2        1          5            8         0   \n",
       "498 81370            Photo  1        1          5            2         0   \n",
       "499 81370            Photo  3        1          4            11        0   \n",
       "500 81370            Photo  2        1          4            4         NA  \n",
       "    Lifetime_Post_Total_Reach Lifetime_Post_Total_Impressions\n",
       "1    2752                      5091                          \n",
       "2   10460                     19057                          \n",
       "3    2413                      4373                          \n",
       "4   50128                     87991                          \n",
       "⋮   ⋮                         ⋮                              \n",
       "497 3480                      6229                           \n",
       "498 3778                      7216                           \n",
       "499 4156                      7564                           \n",
       "500 4188                      7292                           \n",
       "    Lifetime_Engaged_Users Lifetime_Post_Consumers Lifetime_Post_Consumptions\n",
       "1    178                    109                     159                      \n",
       "2   1457                   1361                    1674                      \n",
       "3    177                    113                     154                      \n",
       "4   2211                    790                    1119                      \n",
       "⋮   ⋮                      ⋮                       ⋮                         \n",
       "497 537                    508                     687                       \n",
       "498 625                    572                     795                       \n",
       "499 626                    574                     832                       \n",
       "500 564                    524                     743                       \n",
       "    Lifetime_Post_Impressions_by_people_who_have_liked_your_Page\n",
       "1    3078                                                       \n",
       "2   11710                                                       \n",
       "3    2812                                                       \n",
       "4   61027                                                       \n",
       "⋮   ⋮                                                           \n",
       "497 3961                                                        \n",
       "498 4742                                                        \n",
       "499 4534                                                        \n",
       "500 3861                                                        \n",
       "    Lifetime_Post_reach_by_people_who_like_your_Page\n",
       "1    1640                                           \n",
       "2    6112                                           \n",
       "3    1503                                           \n",
       "4   32048                                           \n",
       "⋮   ⋮                                               \n",
       "497 2104                                            \n",
       "498 2388                                            \n",
       "499 2452                                            \n",
       "500 2200                                            \n",
       "    Lifetime_People_who_have_liked_your_Page_and_engaged_with_your_post comment\n",
       "1    119                                                                 4     \n",
       "2   1108                                                                 5     \n",
       "3    132                                                                 0     \n",
       "4   1386                                                                58     \n",
       "⋮   ⋮                                                                   ⋮      \n",
       "497 301                                                                 0      \n",
       "498 363                                                                 4      \n",
       "499 370                                                                 7      \n",
       "500 316                                                                 0      \n",
       "    like share Total_Interactions\n",
       "1     79  17    100              \n",
       "2    130  29    164              \n",
       "3     66  14     80              \n",
       "4   1572 147   1777              \n",
       "⋮   ⋮    ⋮     ⋮                 \n",
       "497 53   22     75               \n",
       "498 93   18    115               \n",
       "499 91   38    136               \n",
       "500 91   28    119               "
      ]
     },
     "metadata": {},
     "output_type": "display_data"
    }
   ],
   "source": [
    "facebook"
   ]
  }
 ],
 "metadata": {
  "kernelspec": {
   "display_name": "R",
   "language": "R",
   "name": "ir"
  },
  "language_info": {
   "codemirror_mode": "r",
   "file_extension": ".r",
   "mimetype": "text/x-r-source",
   "name": "R",
   "pygments_lexer": "r",
   "version": "4.0.0"
  }
 },
 "nbformat": 4,
 "nbformat_minor": 4
}
