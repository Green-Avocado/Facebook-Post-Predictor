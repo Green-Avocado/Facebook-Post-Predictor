{
 "cells": [
  {
   "cell_type": "markdown",
   "metadata": {},
   "source": [
    "## A Rough Skeleton of Working Draft\n",
    "---------------------------------------------------------------------------------------------------------\n",
    "\n",
    "\n",
    "### Table of Contents:\n",
    "1. Sypnosis\n",
    "    - Research Question\n",
    "    - Summary\n",
    "<p></p>\n",
    "2. Our Data Set \n",
    "    - Packages Used\n",
    "    - Loading and Cleansing\n",
    "    \n",
    "---------------------------------------------------------------------------------------------------------"
   ]
  },
  {
   "cell_type": "markdown",
   "metadata": {},
   "source": [
    "### 1.) Sypnosis: "
   ]
  },
  {
   "cell_type": "markdown",
   "metadata": {},
   "source": [
    "##### Research Question:\n",
    "How can an author increase engagement from users on Facebook and can we predict the success of a post using insights from an author's page?\n"
   ]
  },
  {
   "cell_type": "markdown",
   "metadata": {},
   "source": [
    "##### Overview:\n",
    "(description)"
   ]
  },
  {
   "cell_type": "markdown",
   "metadata": {},
   "source": [
    "---------------------------------------------------------------------------------------------------------"
   ]
  },
  {
   "cell_type": "markdown",
   "metadata": {},
   "source": [
    "### 2.) Dataset"
   ]
  },
  {
   "cell_type": "markdown",
   "metadata": {},
   "source": [
    "##### Packages Used:"
   ]
  },
  {
   "cell_type": "code",
   "execution_count": 23,
   "metadata": {},
   "outputs": [],
   "source": [
    "library(tidyverse)\n",
    "library(repr)\n",
    "library(tidymodels)\n",
    "options(repr.matrix.max.rows = 8)"
   ]
  },
  {
   "cell_type": "markdown",
   "metadata": {},
   "source": [
    "##### Facebook Data set:\n",
    "(description)"
   ]
  },
  {
   "cell_type": "code",
   "execution_count": 24,
   "metadata": {},
   "outputs": [
    {
     "name": "stderr",
     "output_type": "stream",
     "text": [
      "Using ',' as decimal and '.' as grouping mark. Use read_delim() for more control.\n",
      "\n",
      "Parsed with column specification:\n",
      "cols(\n",
      "  `Page total likes` = \u001b[32mcol_double()\u001b[39m,\n",
      "  Type = \u001b[31mcol_character()\u001b[39m,\n",
      "  Category = \u001b[32mcol_double()\u001b[39m,\n",
      "  `Post Month` = \u001b[32mcol_double()\u001b[39m,\n",
      "  `Post Weekday` = \u001b[32mcol_double()\u001b[39m,\n",
      "  `Post Hour` = \u001b[32mcol_double()\u001b[39m,\n",
      "  Paid = \u001b[32mcol_double()\u001b[39m,\n",
      "  `Lifetime Post Total Reach` = \u001b[32mcol_double()\u001b[39m,\n",
      "  `Lifetime Post Total Impressions` = \u001b[32mcol_double()\u001b[39m,\n",
      "  `Lifetime Engaged Users` = \u001b[32mcol_double()\u001b[39m,\n",
      "  `Lifetime Post Consumers` = \u001b[32mcol_double()\u001b[39m,\n",
      "  `Lifetime Post Consumptions` = \u001b[32mcol_double()\u001b[39m,\n",
      "  `Lifetime Post Impressions by people who have liked your Page` = \u001b[32mcol_double()\u001b[39m,\n",
      "  `Lifetime Post reach by people who like your Page` = \u001b[32mcol_double()\u001b[39m,\n",
      "  `Lifetime People who have liked your Page and engaged with your post` = \u001b[32mcol_double()\u001b[39m,\n",
      "  comment = \u001b[32mcol_double()\u001b[39m,\n",
      "  like = \u001b[32mcol_double()\u001b[39m,\n",
      "  share = \u001b[32mcol_double()\u001b[39m,\n",
      "  `Total Interactions` = \u001b[32mcol_double()\u001b[39m\n",
      ")\n",
      "\n"
     ]
    }
   ],
   "source": [
    "facebook <- read_csv2(\"data/dataset_Facebook.csv\")"
   ]
  },
  {
   "cell_type": "code",
   "execution_count": 73,
   "metadata": {},
   "outputs": [
    {
     "name": "stdout",
     "output_type": "stream",
     "text": [
      "Rows: 500\n",
      "Columns: 19\n",
      "$ Page_total_likes                                                    \u001b[3m\u001b[90m<dbl>\u001b[39m\u001b[23m 1…\n",
      "$ Type                                                                \u001b[3m\u001b[90m<fct>\u001b[39m\u001b[23m P…\n",
      "$ Category                                                            \u001b[3m\u001b[90m<fct>\u001b[39m\u001b[23m 2…\n",
      "$ Post_Month                                                          \u001b[3m\u001b[90m<fct>\u001b[39m\u001b[23m 1…\n",
      "$ Post_Weekday                                                        \u001b[3m\u001b[90m<fct>\u001b[39m\u001b[23m 4…\n",
      "$ Post_Hour                                                           \u001b[3m\u001b[90m<fct>\u001b[39m\u001b[23m 3…\n",
      "$ Paid                                                                \u001b[3m\u001b[90m<dbl>\u001b[39m\u001b[23m 0…\n",
      "$ Lifetime_Post_Total_Reach                                           \u001b[3m\u001b[90m<dbl>\u001b[39m\u001b[23m 2…\n",
      "$ Lifetime_Post_Total_Impressions                                     \u001b[3m\u001b[90m<dbl>\u001b[39m\u001b[23m 5…\n",
      "$ Lifetime_Engaged_Users                                              \u001b[3m\u001b[90m<dbl>\u001b[39m\u001b[23m 1…\n",
      "$ Lifetime_Post_Consumers                                             \u001b[3m\u001b[90m<dbl>\u001b[39m\u001b[23m 1…\n",
      "$ Lifetime_Post_Consumptions                                          \u001b[3m\u001b[90m<dbl>\u001b[39m\u001b[23m 1…\n",
      "$ Lifetime_Post_Impressions_by_people_who_have_liked_your_Page        \u001b[3m\u001b[90m<dbl>\u001b[39m\u001b[23m 3…\n",
      "$ Lifetime_Post_reach_by_people_who_like_your_Page                    \u001b[3m\u001b[90m<dbl>\u001b[39m\u001b[23m 1…\n",
      "$ Lifetime_People_who_have_liked_your_Page_and_engaged_with_your_post \u001b[3m\u001b[90m<dbl>\u001b[39m\u001b[23m 1…\n",
      "$ comment                                                             \u001b[3m\u001b[90m<dbl>\u001b[39m\u001b[23m 4…\n",
      "$ like                                                                \u001b[3m\u001b[90m<dbl>\u001b[39m\u001b[23m 7…\n",
      "$ share                                                               \u001b[3m\u001b[90m<dbl>\u001b[39m\u001b[23m 1…\n",
      "$ Total_Interactions                                                  \u001b[3m\u001b[90m<dbl>\u001b[39m\u001b[23m 1…\n"
     ]
    }
   ],
   "source": [
    "# Replacing specified columns to categorical factors\n",
    "cols <- c(\"Type\", \"Category\", \"Post Month\", \"Post Weekday\", \"Post Hour\")\n",
    "facebook[cols] <- lapply(facebook[cols], as.factor)\n",
    "\n",
    "# Renaming column headers without spaces\n",
    "facebook_colname_fix <- facebook\n",
    "\n",
    "facebook_col_name_vec <- gsub(\" \", \"_\", colnames(facebook))\n",
    "colnames(facebook) <- facebook_col_name_vec\n",
    "\n",
    "\n",
    "glimpse(facebook)\n",
    "\n"
   ]
  },
  {
   "cell_type": "code",
   "execution_count": 75,
   "metadata": {},
   "outputs": [
    {
     "data": {
      "text/html": [
       "<table>\n",
       "<caption>A tibble: 5 × 19</caption>\n",
       "<thead>\n",
       "\t<tr><th scope=col>Page_total_likes</th><th scope=col>Type</th><th scope=col>Category</th><th scope=col>Post_Month</th><th scope=col>Post_Weekday</th><th scope=col>Post_Hour</th><th scope=col>Paid</th><th scope=col>Lifetime_Post_Total_Reach</th><th scope=col>Lifetime_Post_Total_Impressions</th><th scope=col>Lifetime_Engaged_Users</th><th scope=col>Lifetime_Post_Consumers</th><th scope=col>Lifetime_Post_Consumptions</th><th scope=col>Lifetime_Post_Impressions_by_people_who_have_liked_your_Page</th><th scope=col>Lifetime_Post_reach_by_people_who_like_your_Page</th><th scope=col>Lifetime_People_who_have_liked_your_Page_and_engaged_with_your_post</th><th scope=col>comment</th><th scope=col>like</th><th scope=col>share</th><th scope=col>Total_Interactions</th></tr>\n",
       "\t<tr><th scope=col>&lt;dbl&gt;</th><th scope=col>&lt;fct&gt;</th><th scope=col>&lt;fct&gt;</th><th scope=col>&lt;fct&gt;</th><th scope=col>&lt;fct&gt;</th><th scope=col>&lt;fct&gt;</th><th scope=col>&lt;dbl&gt;</th><th scope=col>&lt;dbl&gt;</th><th scope=col>&lt;dbl&gt;</th><th scope=col>&lt;dbl&gt;</th><th scope=col>&lt;dbl&gt;</th><th scope=col>&lt;dbl&gt;</th><th scope=col>&lt;dbl&gt;</th><th scope=col>&lt;dbl&gt;</th><th scope=col>&lt;dbl&gt;</th><th scope=col>&lt;dbl&gt;</th><th scope=col>&lt;dbl&gt;</th><th scope=col>&lt;dbl&gt;</th><th scope=col>&lt;dbl&gt;</th></tr>\n",
       "</thead>\n",
       "<tbody>\n",
       "\t<tr><td>139441</td><td>Photo </td><td>2</td><td>12</td><td>4</td><td>3 </td><td>0</td><td> 2752</td><td> 5091</td><td> 178</td><td> 109</td><td> 159</td><td> 3078</td><td> 1640</td><td> 119</td><td> 4</td><td>  79</td><td> 17</td><td> 100</td></tr>\n",
       "\t<tr><td>139441</td><td>Status</td><td>2</td><td>12</td><td>3</td><td>10</td><td>0</td><td>10460</td><td>19057</td><td>1457</td><td>1361</td><td>1674</td><td>11710</td><td> 6112</td><td>1108</td><td> 5</td><td> 130</td><td> 29</td><td> 164</td></tr>\n",
       "\t<tr><td>139441</td><td>Photo </td><td>3</td><td>12</td><td>3</td><td>3 </td><td>0</td><td> 2413</td><td> 4373</td><td> 177</td><td> 113</td><td> 154</td><td> 2812</td><td> 1503</td><td> 132</td><td> 0</td><td>  66</td><td> 14</td><td>  80</td></tr>\n",
       "\t<tr><td>139441</td><td>Photo </td><td>2</td><td>12</td><td>2</td><td>10</td><td>1</td><td>50128</td><td>87991</td><td>2211</td><td> 790</td><td>1119</td><td>61027</td><td>32048</td><td>1386</td><td>58</td><td>1572</td><td>147</td><td>1777</td></tr>\n",
       "\t<tr><td>139441</td><td>Photo </td><td>2</td><td>12</td><td>2</td><td>3 </td><td>0</td><td> 7244</td><td>13594</td><td> 671</td><td> 410</td><td> 580</td><td> 6228</td><td> 3200</td><td> 396</td><td>19</td><td> 325</td><td> 49</td><td> 393</td></tr>\n",
       "</tbody>\n",
       "</table>\n"
      ],
      "text/latex": [
       "A tibble: 5 × 19\n",
       "\\begin{tabular}{lllllllllllllllllll}\n",
       " Page\\_total\\_likes & Type & Category & Post\\_Month & Post\\_Weekday & Post\\_Hour & Paid & Lifetime\\_Post\\_Total\\_Reach & Lifetime\\_Post\\_Total\\_Impressions & Lifetime\\_Engaged\\_Users & Lifetime\\_Post\\_Consumers & Lifetime\\_Post\\_Consumptions & Lifetime\\_Post\\_Impressions\\_by\\_people\\_who\\_have\\_liked\\_your\\_Page & Lifetime\\_Post\\_reach\\_by\\_people\\_who\\_like\\_your\\_Page & Lifetime\\_People\\_who\\_have\\_liked\\_your\\_Page\\_and\\_engaged\\_with\\_your\\_post & comment & like & share & Total\\_Interactions\\\\\n",
       " <dbl> & <fct> & <fct> & <fct> & <fct> & <fct> & <dbl> & <dbl> & <dbl> & <dbl> & <dbl> & <dbl> & <dbl> & <dbl> & <dbl> & <dbl> & <dbl> & <dbl> & <dbl>\\\\\n",
       "\\hline\n",
       "\t 139441 & Photo  & 2 & 12 & 4 & 3  & 0 &  2752 &  5091 &  178 &  109 &  159 &  3078 &  1640 &  119 &  4 &   79 &  17 &  100\\\\\n",
       "\t 139441 & Status & 2 & 12 & 3 & 10 & 0 & 10460 & 19057 & 1457 & 1361 & 1674 & 11710 &  6112 & 1108 &  5 &  130 &  29 &  164\\\\\n",
       "\t 139441 & Photo  & 3 & 12 & 3 & 3  & 0 &  2413 &  4373 &  177 &  113 &  154 &  2812 &  1503 &  132 &  0 &   66 &  14 &   80\\\\\n",
       "\t 139441 & Photo  & 2 & 12 & 2 & 10 & 1 & 50128 & 87991 & 2211 &  790 & 1119 & 61027 & 32048 & 1386 & 58 & 1572 & 147 & 1777\\\\\n",
       "\t 139441 & Photo  & 2 & 12 & 2 & 3  & 0 &  7244 & 13594 &  671 &  410 &  580 &  6228 &  3200 &  396 & 19 &  325 &  49 &  393\\\\\n",
       "\\end{tabular}\n"
      ],
      "text/markdown": [
       "\n",
       "A tibble: 5 × 19\n",
       "\n",
       "| Page_total_likes &lt;dbl&gt; | Type &lt;fct&gt; | Category &lt;fct&gt; | Post_Month &lt;fct&gt; | Post_Weekday &lt;fct&gt; | Post_Hour &lt;fct&gt; | Paid &lt;dbl&gt; | Lifetime_Post_Total_Reach &lt;dbl&gt; | Lifetime_Post_Total_Impressions &lt;dbl&gt; | Lifetime_Engaged_Users &lt;dbl&gt; | Lifetime_Post_Consumers &lt;dbl&gt; | Lifetime_Post_Consumptions &lt;dbl&gt; | Lifetime_Post_Impressions_by_people_who_have_liked_your_Page &lt;dbl&gt; | Lifetime_Post_reach_by_people_who_like_your_Page &lt;dbl&gt; | Lifetime_People_who_have_liked_your_Page_and_engaged_with_your_post &lt;dbl&gt; | comment &lt;dbl&gt; | like &lt;dbl&gt; | share &lt;dbl&gt; | Total_Interactions &lt;dbl&gt; |\n",
       "|---|---|---|---|---|---|---|---|---|---|---|---|---|---|---|---|---|---|---|\n",
       "| 139441 | Photo  | 2 | 12 | 4 | 3  | 0 |  2752 |  5091 |  178 |  109 |  159 |  3078 |  1640 |  119 |  4 |   79 |  17 |  100 |\n",
       "| 139441 | Status | 2 | 12 | 3 | 10 | 0 | 10460 | 19057 | 1457 | 1361 | 1674 | 11710 |  6112 | 1108 |  5 |  130 |  29 |  164 |\n",
       "| 139441 | Photo  | 3 | 12 | 3 | 3  | 0 |  2413 |  4373 |  177 |  113 |  154 |  2812 |  1503 |  132 |  0 |   66 |  14 |   80 |\n",
       "| 139441 | Photo  | 2 | 12 | 2 | 10 | 1 | 50128 | 87991 | 2211 |  790 | 1119 | 61027 | 32048 | 1386 | 58 | 1572 | 147 | 1777 |\n",
       "| 139441 | Photo  | 2 | 12 | 2 | 3  | 0 |  7244 | 13594 |  671 |  410 |  580 |  6228 |  3200 |  396 | 19 |  325 |  49 |  393 |\n",
       "\n"
      ],
      "text/plain": [
       "  Page_total_likes Type   Category Post_Month Post_Weekday Post_Hour Paid\n",
       "1 139441           Photo  2        12         4            3         0   \n",
       "2 139441           Status 2        12         3            10        0   \n",
       "3 139441           Photo  3        12         3            3         0   \n",
       "4 139441           Photo  2        12         2            10        1   \n",
       "5 139441           Photo  2        12         2            3         0   \n",
       "  Lifetime_Post_Total_Reach Lifetime_Post_Total_Impressions\n",
       "1  2752                      5091                          \n",
       "2 10460                     19057                          \n",
       "3  2413                      4373                          \n",
       "4 50128                     87991                          \n",
       "5  7244                     13594                          \n",
       "  Lifetime_Engaged_Users Lifetime_Post_Consumers Lifetime_Post_Consumptions\n",
       "1  178                    109                     159                      \n",
       "2 1457                   1361                    1674                      \n",
       "3  177                    113                     154                      \n",
       "4 2211                    790                    1119                      \n",
       "5  671                    410                     580                      \n",
       "  Lifetime_Post_Impressions_by_people_who_have_liked_your_Page\n",
       "1  3078                                                       \n",
       "2 11710                                                       \n",
       "3  2812                                                       \n",
       "4 61027                                                       \n",
       "5  6228                                                       \n",
       "  Lifetime_Post_reach_by_people_who_like_your_Page\n",
       "1  1640                                           \n",
       "2  6112                                           \n",
       "3  1503                                           \n",
       "4 32048                                           \n",
       "5  3200                                           \n",
       "  Lifetime_People_who_have_liked_your_Page_and_engaged_with_your_post comment\n",
       "1  119                                                                 4     \n",
       "2 1108                                                                 5     \n",
       "3  132                                                                 0     \n",
       "4 1386                                                                58     \n",
       "5  396                                                                19     \n",
       "  like share Total_Interactions\n",
       "1   79  17    100              \n",
       "2  130  29    164              \n",
       "3   66  14     80              \n",
       "4 1572 147   1777              \n",
       "5  325  49    393              "
      ]
     },
     "metadata": {},
     "output_type": "display_data"
    }
   ],
   "source": [
    "head(facebook, n = 5)"
   ]
  },
  {
   "cell_type": "code",
   "execution_count": 77,
   "metadata": {},
   "outputs": [
    {
     "data": {
      "image/png": "[encoded data removed]",
      "text/plain": [
       "plot without title"
      ]
     },
     "metadata": {
      "image/png": {
       "height": 420,
       "width": 420
      }
     },
     "output_type": "display_data"
    }
   ],
   "source": [
    "test_plot <- facebook %>% ggplot(aes(x = Lifetime_Post_Total_Reach, y = Lifetime_Post_Total_Impressions)) + geom_point()\n",
    "test_plot"
   ]
  }
 ],
 "metadata": {
  "kernelspec": {
   "display_name": "R",
   "language": "R",
   "name": "ir"
  },
  "language_info": {
   "codemirror_mode": "r",
   "file_extension": ".r",
   "mimetype": "text/x-r-source",
   "name": "R",
   "pygments_lexer": "r",
   "version": "4.0.0"
  }
 },
 "nbformat": 4,
 "nbformat_minor": 4
}
