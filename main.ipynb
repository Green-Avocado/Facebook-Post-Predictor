{
 "cells": [
  {
   "cell_type": "markdown",
   "metadata": {},
   "source": [
    "## A Rough Skeleton of Working Draft\n",
    "---------------------------------------------------------------------------------------------------------\n",
    "\n",
    "\n",
    "### Table of Contents:\n",
    "1. Sypnosis\n",
    "    - Research Question\n",
    "    - Summary\n",
    "<p></p>\n",
    "2. Our Data Set \n",
    "    - Packages Used\n",
    "    - Loading and Cleansing\n",
    "    \n",
    "---------------------------------------------------------------------------------------------------------"
   ]
  },
  {
   "cell_type": "code",
   "execution_count": 30,
   "metadata": {},
   "outputs": [
    {
     "data": {
      "text/html": [
       "6.98713102782537"
      ],
      "text/latex": [
       "6.98713102782537"
      ],
      "text/markdown": [
       "6.98713102782537"
      ],
      "text/plain": [
       "[1] 6.987131"
      ]
     },
     "metadata": {},
     "output_type": "display_data"
    }
   ],
   "source": [
    "sqrt(6.9^2+1.1^2)"
   ]
  },
  {
   "cell_type": "code",
   "execution_count": 31,
   "metadata": {},
   "outputs": [
    {
     "data": {
      "text/html": [
       "8.22009732302483"
      ],
      "text/latex": [
       "8.22009732302483"
      ],
      "text/markdown": [
       "8.22009732302483"
      ],
      "text/plain": [
       "[1] 8.220097"
      ]
     },
     "metadata": {},
     "output_type": "display_data"
    }
   ],
   "source": [
    "sqrt(8.1^2 + 1.4^2)"
   ]
  },
  {
   "cell_type": "markdown",
   "metadata": {},
   "source": [
    "### 1.) Sypnosis: "
   ]
  },
  {
   "cell_type": "markdown",
   "metadata": {},
   "source": [
    "##### Research Question:\n",
    "How can an author increase engagement from users on Facebook and can we predict the success of a post using insights from an author's page?\n"
   ]
  },
  {
   "cell_type": "markdown",
   "metadata": {},
   "source": [
    "##### Overview:\n",
    "<p></p>\n",
    "The market utility of social media platforms such as Facebook, which are able to generate mass revenues for cosmetic brands, has been an established and exploited advertising strategy in the digital age (Moro et. al, 2016). The goal of this project is to take a predictive analytical approach to determine which type of Facebook post (i.e., photo, video, status, or link) will engage the most internet-user engagement, determined through variables such as likes, post consumptions, and post total reach. The dataset which will be used for this analysis was acquired through an experimental data mining technique which included scraping data from the Facebook page of an internationally renowned cosmetics company on posts made between January 1st and December 31st (Moro et. al., 2016).\n",
    "<p></p>\n",
    "Our data includes posts from both paid and non-paid marketing campaigns. Social media algorithms that adjust prioritizations between paid and non-paid posts can heavily factor into our metrics received and should be considered in this analysis. In order to explore the relationship between post type and our defined success metric, we can further isolate our data into paid and unpaid categories.\n",
    "<p></p>\n",
    "With our acquired data, we must first compartmentalize into training and testing sets before performing an exploratory data analysis on our dataset. We chose to approach our training data by creating a 80:20 ratio between testing and training data meaning 80% of our total data will be labeled as the “general training set” and the remainder as our “test set”. The general training set will be further partitioned into a “validation set” and “training set” in order to reduce bias within our model data and testing data. Now that we’ve labeled our training data, we can further explore the summary statistics within each set. \n",
    "<p></p>\n",
    "For the methodology, we will use the variables of the continuous numerical variables of total reaches (Lifetime_Post_Total_Reach) and the number of total impressions (Lifetime_Post_Total_Impressions), and the categorical variable of Facebook post (Type). First, we will look at the relationship between these variables in a scatter plot graph that will help us to formulate our hypothesis. Then, as we are trying to predict the type of post that will be the most successful, we will use a K-nearest neighbour classification analysis. To do so, we must determine the K value using cross-validation of the training data. Then, we will need to test the accuracy of the classifier with the testing data.\n",
    "<p></p>\n",
    "We expect to find that posts which include media, such as photos and videos, are more likely to engage users than other posts, such as statuses and links. This is based on the assumption that the former types of posts might be more likely to be shared and thus will have more exposure.\n",
    "It is beneficial for social media platforms to increase user engagement, as this is likely to increase revenue through advertising. Therefore, these findings may be used to choose what type of posts are prioritized to maximize user engagement.\n",
    "<p></p>\n",
    "These findings may lead to further exploration of how the contents of these posts impact user engagement. This may include the duration of a video, content of an image, length of a status, or details about the contents of a link. "
   ]
  },
  {
   "cell_type": "markdown",
   "metadata": {},
   "source": [
    "---------------------------------------------------------------------------------------------------------"
   ]
  },
  {
   "cell_type": "markdown",
   "metadata": {},
   "source": [
    "### 2.) Dataset"
   ]
  },
  {
   "cell_type": "markdown",
   "metadata": {},
   "source": [
    "##### Packages Used:"
   ]
  },
  {
   "cell_type": "code",
   "execution_count": 32,
   "metadata": {},
   "outputs": [
    {
     "name": "stderr",
     "output_type": "stream",
     "text": [
      "Updating HTML index of packages in '.Library'\n",
      "\n",
      "Making 'packages.html' ...\n",
      " done\n",
      "\n"
     ]
    }
   ],
   "source": [
    "install.packages(\"caTools\")\n",
    "library(caTools)\n",
    "\n",
    "library(tidyverse)\n",
    "library(repr)\n",
    "library(tidymodels)\n",
    "library(MASS)\n",
    "options(repr.matrix.max.rows = 8)"
   ]
  },
  {
   "cell_type": "code",
   "execution_count": 33,
   "metadata": {},
   "outputs": [
    {
     "name": "stderr",
     "output_type": "stream",
     "text": [
      "Using ',' as decimal and '.' as grouping mark. Use read_delim() for more control.\n",
      "\n",
      "Parsed with column specification:\n",
      "cols(\n",
      "  `Page total likes` = \u001b[32mcol_double()\u001b[39m,\n",
      "  Type = \u001b[31mcol_character()\u001b[39m,\n",
      "  Category = \u001b[32mcol_double()\u001b[39m,\n",
      "  `Post Month` = \u001b[32mcol_double()\u001b[39m,\n",
      "  `Post Weekday` = \u001b[32mcol_double()\u001b[39m,\n",
      "  `Post Hour` = \u001b[32mcol_double()\u001b[39m,\n",
      "  Paid = \u001b[32mcol_double()\u001b[39m,\n",
      "  `Lifetime Post Total Reach` = \u001b[32mcol_double()\u001b[39m,\n",
      "  `Lifetime Post Total Impressions` = \u001b[32mcol_double()\u001b[39m,\n",
      "  `Lifetime Engaged Users` = \u001b[32mcol_double()\u001b[39m,\n",
      "  `Lifetime Post Consumers` = \u001b[32mcol_double()\u001b[39m,\n",
      "  `Lifetime Post Consumptions` = \u001b[32mcol_double()\u001b[39m,\n",
      "  `Lifetime Post Impressions by people who have liked your Page` = \u001b[32mcol_double()\u001b[39m,\n",
      "  `Lifetime Post reach by people who like your Page` = \u001b[32mcol_double()\u001b[39m,\n",
      "  `Lifetime People who have liked your Page and engaged with your post` = \u001b[32mcol_double()\u001b[39m,\n",
      "  comment = \u001b[32mcol_double()\u001b[39m,\n",
      "  like = \u001b[32mcol_double()\u001b[39m,\n",
      "  share = \u001b[32mcol_double()\u001b[39m,\n",
      "  `Total Interactions` = \u001b[32mcol_double()\u001b[39m\n",
      ")\n",
      "\n"
     ]
    }
   ],
   "source": [
    "facebook <- read_csv2(\"dataset_Facebook.csv\")"
   ]
  },
  {
   "cell_type": "code",
   "execution_count": 34,
   "metadata": {},
   "outputs": [
    {
     "name": "stdout",
     "output_type": "stream",
     "text": [
      "Rows: 500\n",
      "Columns: 19\n",
      "$ Page_total_likes                                                    \u001b[3m\u001b[90m<dbl>\u001b[39m\u001b[23m 1…\n",
      "$ Type                                                                \u001b[3m\u001b[90m<fct>\u001b[39m\u001b[23m P…\n",
      "$ Category                                                            \u001b[3m\u001b[90m<fct>\u001b[39m\u001b[23m 2…\n",
      "$ Post_Month                                                          \u001b[3m\u001b[90m<fct>\u001b[39m\u001b[23m 1…\n",
      "$ Post_Weekday                                                        \u001b[3m\u001b[90m<fct>\u001b[39m\u001b[23m 4…\n",
      "$ Post_Hour                                                           \u001b[3m\u001b[90m<fct>\u001b[39m\u001b[23m 3…\n",
      "$ Paid                                                                \u001b[3m\u001b[90m<fct>\u001b[39m\u001b[23m 0…\n",
      "$ Lifetime_Post_Total_Reach                                           \u001b[3m\u001b[90m<dbl>\u001b[39m\u001b[23m 2…\n",
      "$ Lifetime_Post_Total_Impressions                                     \u001b[3m\u001b[90m<dbl>\u001b[39m\u001b[23m 5…\n",
      "$ Lifetime_Engaged_Users                                              \u001b[3m\u001b[90m<dbl>\u001b[39m\u001b[23m 1…\n",
      "$ Lifetime_Post_Consumers                                             \u001b[3m\u001b[90m<dbl>\u001b[39m\u001b[23m 1…\n",
      "$ Lifetime_Post_Consumptions                                          \u001b[3m\u001b[90m<dbl>\u001b[39m\u001b[23m 1…\n",
      "$ Lifetime_Post_Impressions_by_people_who_have_liked_your_Page        \u001b[3m\u001b[90m<dbl>\u001b[39m\u001b[23m 3…\n",
      "$ Lifetime_Post_reach_by_people_who_like_your_Page                    \u001b[3m\u001b[90m<dbl>\u001b[39m\u001b[23m 1…\n",
      "$ Lifetime_People_who_have_liked_your_Page_and_engaged_with_your_post \u001b[3m\u001b[90m<dbl>\u001b[39m\u001b[23m 1…\n",
      "$ comment                                                             \u001b[3m\u001b[90m<dbl>\u001b[39m\u001b[23m 4…\n",
      "$ like                                                                \u001b[3m\u001b[90m<dbl>\u001b[39m\u001b[23m 7…\n",
      "$ share                                                               \u001b[3m\u001b[90m<dbl>\u001b[39m\u001b[23m 1…\n",
      "$ Total_Interactions                                                  \u001b[3m\u001b[90m<dbl>\u001b[39m\u001b[23m 1…\n"
     ]
    }
   ],
   "source": [
    "# Replacing specified columns to categorical factors\n",
    "cols <- c(\"Type\", \"Category\", \"Post Month\", \"Paid\", \"Post Weekday\", \"Post Hour\")\n",
    "facebook[cols] <- lapply(facebook[cols], as.factor)\n",
    "\n",
    "# Renaming column headers without spaces\n",
    "facebook_colname_fix <- facebook\n",
    "\n",
    "facebook_col_name_vec <- gsub(\" \", \"_\", colnames(facebook))\n",
    "colnames(facebook) <- facebook_col_name_vec\n",
    "\n",
    "glimpse(facebook)"
   ]
  },
  {
   "cell_type": "markdown",
   "metadata": {},
   "source": [
    "### Let us select only the data values relevant to our case scenario\n",
    "\n",
    "We want to explain the best type of post possible and thus we should first explore the relationship between the metrics produced by a post and the individual post type. The following key performance indicators describe a post's success:\n",
    "- comments\n",
    "- likes\n",
    "- shares\n",
    "- total interactions (summation of the 3 observations above)\n",
    "\n",
    "We will consider removing data points that are missing values if enough data is present. "
   ]
  },
  {
   "cell_type": "code",
   "execution_count": 35,
   "metadata": {},
   "outputs": [],
   "source": [
    "facebook_clean <- dplyr::select(facebook, Type, comment,\n",
    "                                like, share, Total_Interactions,\n",
    "                                Paid, Lifetime_Post_Total_Impressions, Lifetime_Post_Total_Reach) %>% na.omit(df)\n",
    "\n",
    "facebook_clean_unpaid <- facebook_clean %>% filter(Paid == 0)\n",
    "facebook_clean_paid <- facebook_clean %>% filter(Paid == 1)\n"
   ]
  },
  {
   "cell_type": "markdown",
   "metadata": {},
   "source": [
    "## Compartmentalization of our data into Training, Validation, and Testing Sets \n",
    "\n"
   ]
  },
  {
   "cell_type": "markdown",
   "metadata": {},
   "source": [
    "We have 500 data points collected, of which me must remove observations with NA. We will first filter our data into paid / unpaid data frames and see if there is enough data to persist. After which we will explore the various summary statistics within each group.\n",
    "\n",
    "-----\n",
    "**METHOD 1: Training and Testing set**\n",
    "<br>\n",
    "Testing set will be 20% of data collected\n",
    "Validation set will be 10% of data collected\n",
    "Training data set be 70% of data collected\n",
    "\n",
    "**METHOD 2: Cross-validation technique**\n",
    "<br>\n",
    "let us split our data into 4 total groups with a 1:5 ratio of testing and training data. \n",
    "(~25 points tested, 100 points for training)"
   ]
  },
  {
   "cell_type": "code",
   "execution_count": 69,
   "metadata": {},
   "outputs": [],
   "source": [
    "# Preliminary Steps\n",
    "# Method 1:\n",
    "set.seed(99)\n",
    "partitionTrain = 0.8\n",
    "ratioTrainValidation = 7/8"
   ]
  },
  {
   "cell_type": "markdown",
   "metadata": {},
   "source": [
    "#### Total Posts:"
   ]
  },
  {
   "cell_type": "code",
   "execution_count": 70,
   "metadata": {},
   "outputs": [
    {
     "name": "stdout",
     "output_type": "stream",
     "text": [
      "Rows: 346\n",
      "Columns: 8\n",
      "$ Type                            \u001b[3m\u001b[90m<fct>\u001b[39m\u001b[23m Photo, Photo, Photo, Photo, Status, P…\n",
      "$ comment                         \u001b[3m\u001b[90m<dbl>\u001b[39m\u001b[23m 4, 19, 3, 0, 0, 3, 0, 0, 0, 5, 2, 4, …\n",
      "$ like                            \u001b[3m\u001b[90m<dbl>\u001b[39m\u001b[23m 79, 325, 249, 325, 161, 113, 233, 88,…\n",
      "$ share                           \u001b[3m\u001b[90m<dbl>\u001b[39m\u001b[23m 17, 49, 27, 14, 31, 26, 19, 18, 14, 1…\n",
      "$ Total_Interactions              \u001b[3m\u001b[90m<dbl>\u001b[39m\u001b[23m 100, 393, 279, 339, 192, 142, 252, 10…\n",
      "$ Paid                            \u001b[3m\u001b[90m<fct>\u001b[39m\u001b[23m 0, 0, 1, 1, 0, 0, 0, 0, 0, 0, 1, 0, 0…\n",
      "$ Lifetime_Post_Total_Impressions \u001b[3m\u001b[90m<dbl>\u001b[39m\u001b[23m 5091, 13594, 19479, 24137, 22538, 866…\n",
      "$ Lifetime_Post_Total_Reach       \u001b[3m\u001b[90m<dbl>\u001b[39m\u001b[23m 2752, 7244, 11692, 13720, 11844, 4694…\n"
     ]
    }
   ],
   "source": [
    "# 80/20 ratio TrainingSet:TestingSet\n",
    "split <- sample.split(facebook_clean$like, SplitRatio = partitionTrain)\n",
    "train_val_data = subset(facebook_clean, split == TRUE)\n",
    "test_set = subset(facebook_clean, split == FALSE)\n",
    "\n",
    "split <- sample.split(train_val_data$like, SplitRatio = ratioTrainValidation)\n",
    "train_set = subset(train_val_data, split == TRUE)\n",
    "val_set = subset(train_val_data, split == FALSE)\n",
    "glimpse(train_set)"
   ]
  },
  {
   "cell_type": "code",
   "execution_count": 72,
   "metadata": {},
   "outputs": [
    {
     "name": "stderr",
     "output_type": "stream",
     "text": [
      "`summarise()` ungrouping output (override with `.groups` argument)\n",
      "\n"
     ]
    },
    {
     "data": {
      "text/html": [
       "<table>\n",
       "<caption>A tibble: 4 × 2</caption>\n",
       "<thead>\n",
       "\t<tr><th scope=col>Type</th><th scope=col>n</th></tr>\n",
       "\t<tr><th scope=col>&lt;fct&gt;</th><th scope=col>&lt;int&gt;</th></tr>\n",
       "</thead>\n",
       "<tbody>\n",
       "\t<tr><td>Link  </td><td> 8</td></tr>\n",
       "\t<tr><td>Photo </td><td>84</td></tr>\n",
       "\t<tr><td>Status</td><td> 6</td></tr>\n",
       "\t<tr><td>Video </td><td> 1</td></tr>\n",
       "</tbody>\n",
       "</table>\n"
      ],
      "text/latex": [
       "A tibble: 4 × 2\n",
       "\\begin{tabular}{ll}\n",
       " Type & n\\\\\n",
       " <fct> & <int>\\\\\n",
       "\\hline\n",
       "\t Link   &  8\\\\\n",
       "\t Photo  & 84\\\\\n",
       "\t Status &  6\\\\\n",
       "\t Video  &  1\\\\\n",
       "\\end{tabular}\n"
      ],
      "text/markdown": [
       "\n",
       "A tibble: 4 × 2\n",
       "\n",
       "| Type &lt;fct&gt; | n &lt;int&gt; |\n",
       "|---|---|\n",
       "| Link   |  8 |\n",
       "| Photo  | 84 |\n",
       "| Status |  6 |\n",
       "| Video  |  1 |\n",
       "\n"
      ],
      "text/plain": [
       "  Type   n \n",
       "1 Link    8\n",
       "2 Photo  84\n",
       "3 Status  6\n",
       "4 Video   1"
      ]
     },
     "metadata": {},
     "output_type": "display_data"
    }
   ],
   "source": [
    "test_set %>% group_by(Type) %>%\n",
    "  summarize(n = n())"
   ]
  },
  {
   "cell_type": "markdown",
   "metadata": {},
   "source": [
    "#### Unpaid Posts:"
   ]
  },
  {
   "cell_type": "code",
   "execution_count": 73,
   "metadata": {},
   "outputs": [
    {
     "name": "stdout",
     "output_type": "stream",
     "text": [
      "Rows: 248\n",
      "Columns: 8\n",
      "$ Type                            \u001b[3m\u001b[90m<fct>\u001b[39m\u001b[23m Status, Photo, Status, Status, Photo,…\n",
      "$ comment                         \u001b[3m\u001b[90m<dbl>\u001b[39m\u001b[23m 5, 19, 1, 0, 3, 0, 0, 5, 4, 2, 0, 3, …\n",
      "$ like                            \u001b[3m\u001b[90m<dbl>\u001b[39m\u001b[23m 130, 325, 152, 161, 113, 88, 90, 137,…\n",
      "$ share                           \u001b[3m\u001b[90m<dbl>\u001b[39m\u001b[23m 29, 49, 33, 31, 26, 18, 14, 10, 18, 1…\n",
      "$ Total_Interactions              \u001b[3m\u001b[90m<dbl>\u001b[39m\u001b[23m 164, 393, 186, 192, 142, 106, 104, 15…\n",
      "$ Paid                            \u001b[3m\u001b[90m<fct>\u001b[39m\u001b[23m 0, 0, 0, 0, 0, 0, 0, 0, 0, 0, 0, 0, 0…\n",
      "$ Lifetime_Post_Total_Impressions \u001b[3m\u001b[90m<dbl>\u001b[39m\u001b[23m 19057, 13594, 20849, 22538, 8668, 559…\n",
      "$ Lifetime_Post_Total_Reach       \u001b[3m\u001b[90m<dbl>\u001b[39m\u001b[23m 10460, 7244, 10472, 11844, 4694, 3112…\n"
     ]
    }
   ],
   "source": [
    "split <- sample.split(facebook_clean_unpaid$like, SplitRatio = partitionTrain)\n",
    "train_val_data_unpaid = subset(facebook_clean_unpaid, split == TRUE)\n",
    "test_set_unpaid = subset(facebook_clean_unpaid, split == FALSE)\n",
    "\n",
    "split <- sample.split(train_val_data_unpaid$like, SplitRatio = ratioTrainValidation)\n",
    "train_set_unpaid = subset(train_val_data_unpaid, split == TRUE)\n",
    "val_set_unpaid = subset(train_val_data_unpaid, split == FALSE)\n",
    "\n",
    "glimpse(train_set_unpaid)\n"
   ]
  },
  {
   "cell_type": "markdown",
   "metadata": {},
   "source": [
    "-----\n",
    "## Training Data Summaries\n",
    "Each Table includes:\n",
    "- Number of observations of each type\n",
    "- Mean and Median of key metrics in each post type\n"
   ]
  },
  {
   "cell_type": "markdown",
   "metadata": {},
   "source": [
    "#### Summary of Unpaid Posts:"
   ]
  },
  {
   "cell_type": "code",
   "execution_count": 74,
   "metadata": {},
   "outputs": [
    {
     "name": "stderr",
     "output_type": "stream",
     "text": [
      "`summarise()` ungrouping output (override with `.groups` argument)\n",
      "\n"
     ]
    },
    {
     "data": {
      "text/html": [
       "<table>\n",
       "<caption>A tibble: 4 × 10</caption>\n",
       "<thead>\n",
       "\t<tr><th scope=col>Type</th><th scope=col>count</th><th scope=col>mean_comment</th><th scope=col>median_comment</th><th scope=col>mean_like</th><th scope=col>median_like</th><th scope=col>mean_Total_Interactions</th><th scope=col>median_Total_Interactions</th><th scope=col>mean_share</th><th scope=col>median_share</th></tr>\n",
       "\t<tr><th scope=col>&lt;fct&gt;</th><th scope=col>&lt;int&gt;</th><th scope=col>&lt;dbl&gt;</th><th scope=col>&lt;dbl&gt;</th><th scope=col>&lt;dbl&gt;</th><th scope=col>&lt;dbl&gt;</th><th scope=col>&lt;dbl&gt;</th><th scope=col>&lt;dbl&gt;</th><th scope=col>&lt;dbl&gt;</th><th scope=col>&lt;dbl&gt;</th></tr>\n",
       "</thead>\n",
       "<tbody>\n",
       "\t<tr><td>Link  </td><td> 10</td><td> 3.100000</td><td>1</td><td>100.9000</td><td> 73.5</td><td>119.8000</td><td> 85</td><td>15.80000</td><td>11</td></tr>\n",
       "\t<tr><td>Photo </td><td>210</td><td> 6.404762</td><td>2</td><td>155.9905</td><td> 93.0</td><td>186.5476</td><td>115</td><td>24.15238</td><td>18</td></tr>\n",
       "\t<tr><td>Status</td><td> 25</td><td> 6.880000</td><td>3</td><td>145.8400</td><td>129.0</td><td>179.4800</td><td>164</td><td>26.76000</td><td>27</td></tr>\n",
       "\t<tr><td>Video </td><td>  3</td><td>10.333333</td><td>6</td><td>216.0000</td><td>204.0</td><td>285.6667</td><td>271</td><td>59.33333</td><td>44</td></tr>\n",
       "</tbody>\n",
       "</table>\n"
      ],
      "text/latex": [
       "A tibble: 4 × 10\n",
       "\\begin{tabular}{llllllllll}\n",
       " Type & count & mean\\_comment & median\\_comment & mean\\_like & median\\_like & mean\\_Total\\_Interactions & median\\_Total\\_Interactions & mean\\_share & median\\_share\\\\\n",
       " <fct> & <int> & <dbl> & <dbl> & <dbl> & <dbl> & <dbl> & <dbl> & <dbl> & <dbl>\\\\\n",
       "\\hline\n",
       "\t Link   &  10 &  3.100000 & 1 & 100.9000 &  73.5 & 119.8000 &  85 & 15.80000 & 11\\\\\n",
       "\t Photo  & 210 &  6.404762 & 2 & 155.9905 &  93.0 & 186.5476 & 115 & 24.15238 & 18\\\\\n",
       "\t Status &  25 &  6.880000 & 3 & 145.8400 & 129.0 & 179.4800 & 164 & 26.76000 & 27\\\\\n",
       "\t Video  &   3 & 10.333333 & 6 & 216.0000 & 204.0 & 285.6667 & 271 & 59.33333 & 44\\\\\n",
       "\\end{tabular}\n"
      ],
      "text/markdown": [
       "\n",
       "A tibble: 4 × 10\n",
       "\n",
       "| Type &lt;fct&gt; | count &lt;int&gt; | mean_comment &lt;dbl&gt; | median_comment &lt;dbl&gt; | mean_like &lt;dbl&gt; | median_like &lt;dbl&gt; | mean_Total_Interactions &lt;dbl&gt; | median_Total_Interactions &lt;dbl&gt; | mean_share &lt;dbl&gt; | median_share &lt;dbl&gt; |\n",
       "|---|---|---|---|---|---|---|---|---|---|\n",
       "| Link   |  10 |  3.100000 | 1 | 100.9000 |  73.5 | 119.8000 |  85 | 15.80000 | 11 |\n",
       "| Photo  | 210 |  6.404762 | 2 | 155.9905 |  93.0 | 186.5476 | 115 | 24.15238 | 18 |\n",
       "| Status |  25 |  6.880000 | 3 | 145.8400 | 129.0 | 179.4800 | 164 | 26.76000 | 27 |\n",
       "| Video  |   3 | 10.333333 | 6 | 216.0000 | 204.0 | 285.6667 | 271 | 59.33333 | 44 |\n",
       "\n"
      ],
      "text/plain": [
       "  Type   count mean_comment median_comment mean_like median_like\n",
       "1 Link    10    3.100000    1              100.9000   73.5      \n",
       "2 Photo  210    6.404762    2              155.9905   93.0      \n",
       "3 Status  25    6.880000    3              145.8400  129.0      \n",
       "4 Video    3   10.333333    6              216.0000  204.0      \n",
       "  mean_Total_Interactions median_Total_Interactions mean_share median_share\n",
       "1 119.8000                 85                       15.80000   11          \n",
       "2 186.5476                115                       24.15238   18          \n",
       "3 179.4800                164                       26.76000   27          \n",
       "4 285.6667                271                       59.33333   44          "
      ]
     },
     "metadata": {},
     "output_type": "display_data"
    }
   ],
   "source": [
    "summ_train_unpaid <- train_set_unpaid %>% group_by(Type) %>%  summarise(\n",
    "    count = n(),\n",
    "    mean_comment = mean(comment), \n",
    "    median_comment = median(comment), \n",
    "    mean_like = mean(like),\n",
    "    median_like = median(like),\n",
    "    mean_Total_Interactions = mean(Total_Interactions),\n",
    "    median_Total_Interactions = median(Total_Interactions),\n",
    "    mean_share = mean(share),\n",
    "    median_share = median(share),\n",
    ")\n",
    "summ_train_unpaid"
   ]
  },
  {
   "cell_type": "markdown",
   "metadata": {},
   "source": [
    "-----\n",
    "## PreProcessing "
   ]
  },
  {
   "cell_type": "markdown",
   "metadata": {},
   "source": [
    "We want to be able to identify possible class imbalances as the KNN-classification model is a lazy learning algorithm. Thus we need to ensure that our data set is balanced. We start by reviewing the summary statistics and quickly visualizing the distribution of observations."
   ]
  },
  {
   "cell_type": "code",
   "execution_count": 75,
   "metadata": {},
   "outputs": [
    {
     "data": {
      "text/plain": [
       "     Type        comment             like            share      \n",
       " Link  : 10   Min.   :  0.000   Min.   :   0.0   Min.   :  0.0  \n",
       " Photo :210   1st Qu.:  0.750   1st Qu.:  56.0   1st Qu.: 10.0  \n",
       " Status: 25   Median :  2.000   Median :  96.0   Median : 18.0  \n",
       " Video :  3   Mean   :  6.367   Mean   : 153.5   Mean   : 24.5  \n",
       "              3rd Qu.:  6.000   3rd Qu.: 180.5   3rd Qu.: 32.0  \n",
       "              Max.   :146.000   Max.   :1546.0   Max.   :181.0  \n",
       " Total_Interactions Paid    Lifetime_Post_Total_Impressions\n",
       " Min.   :   0.0     0:248   Min.   :    570                \n",
       " 1st Qu.:  70.0     1:  0   1st Qu.:   5403                \n",
       " Median : 117.0             Median :   8364                \n",
       " Mean   : 184.3             Mean   :  28885                \n",
       " 3rd Qu.: 221.0             3rd Qu.:  17936                \n",
       " Max.   :1873.0             Max.   :1110282                \n",
       " Lifetime_Post_Total_Reach\n",
       " Min.   :   238           \n",
       " 1st Qu.:  3108           \n",
       " Median :  4847           \n",
       " Mean   : 11893           \n",
       " 3rd Qu.: 10256           \n",
       " Max.   :158208           "
      ]
     },
     "metadata": {},
     "output_type": "display_data"
    }
   ],
   "source": [
    "summary(train_set_unpaid)"
   ]
  },
  {
   "cell_type": "code",
   "execution_count": 76,
   "metadata": {},
   "outputs": [
    {
     "data": {
      "image/png": "[encoded data removed]",
      "text/plain": [
       "plot without title"
      ]
     },
     "metadata": {
      "image/png": {
       "height": 480,
       "width": 840
      }
     },
     "output_type": "display_data"
    }
   ],
   "source": [
    "test_unpaid_plot <- train_set_unpaid %>% ggplot(aes(x = Lifetime_Post_Total_Reach, y = Lifetime_Post_Total_Impressions, color = Type)) +\n",
    "  geom_point(alpha = 0.5) +\n",
    "  labs(color = \"Type of Post\", x = \"Lifetime Post Total Reach\", y = \"Lifetime Post Total Impressions\")\n",
    "\n",
    "test_unpaid_plot"
   ]
  },
  {
   "cell_type": "markdown",
   "metadata": {},
   "source": [
    "#### Balancing\n",
    "We see the distribution of the type of posts is not equal so we should consider balancing "
   ]
  },
  {
   "cell_type": "code",
   "execution_count": 85,
   "metadata": {},
   "outputs": [
    {
     "name": "stderr",
     "output_type": "stream",
     "text": [
      "`summarise()` ungrouping output (override with `.groups` argument)\n",
      "\n"
     ]
    },
    {
     "data": {
      "text/html": [
       "<table>\n",
       "<caption>A tibble: 4 × 2</caption>\n",
       "<thead>\n",
       "\t<tr><th scope=col>Type</th><th scope=col>n</th></tr>\n",
       "\t<tr><th scope=col>&lt;fct&gt;</th><th scope=col>&lt;int&gt;</th></tr>\n",
       "</thead>\n",
       "<tbody>\n",
       "\t<tr><td>Link  </td><td>210</td></tr>\n",
       "\t<tr><td>Photo </td><td>210</td></tr>\n",
       "\t<tr><td>Status</td><td>210</td></tr>\n",
       "\t<tr><td>Video </td><td>210</td></tr>\n",
       "</tbody>\n",
       "</table>\n"
      ],
      "text/latex": [
       "A tibble: 4 × 2\n",
       "\\begin{tabular}{ll}\n",
       " Type & n\\\\\n",
       " <fct> & <int>\\\\\n",
       "\\hline\n",
       "\t Link   & 210\\\\\n",
       "\t Photo  & 210\\\\\n",
       "\t Status & 210\\\\\n",
       "\t Video  & 210\\\\\n",
       "\\end{tabular}\n"
      ],
      "text/markdown": [
       "\n",
       "A tibble: 4 × 2\n",
       "\n",
       "| Type &lt;fct&gt; | n &lt;int&gt; |\n",
       "|---|---|\n",
       "| Link   | 210 |\n",
       "| Photo  | 210 |\n",
       "| Status | 210 |\n",
       "| Video  | 210 |\n",
       "\n"
      ],
      "text/plain": [
       "  Type   n  \n",
       "1 Link   210\n",
       "2 Photo  210\n",
       "3 Status 210\n",
       "4 Video  210"
      ]
     },
     "metadata": {},
     "output_type": "display_data"
    }
   ],
   "source": [
    "ups_recipe <- recipe(Type ~ Lifetime_Post_Total_Reach + Lifetime_Post_Total_Impressions, data = train_set_unpaid) %>%\n",
    "  step_upsample(Type, over_ratio = 1, skip = FALSE) %>%\n",
    "  prep()\n",
    "\n",
    "# upsampled_cancer <- bake(ups_recipe, train_set_unpaid)\n",
    "\n",
    "# upsampled_cancer %>%\n",
    "#   group_by(Type) %>%\n",
    "#   summarize(n = n())"
   ]
  },
  {
   "cell_type": "markdown",
   "metadata": {},
   "source": [
    "### Pre-Process (Scale Data) for K-nn Classification\n",
    "We must do this because: ________________"
   ]
  },
  {
   "cell_type": "markdown",
   "metadata": {},
   "source": [
    "### Building our Model"
   ]
  },
  {
   "cell_type": "markdown",
   "metadata": {},
   "source": [
    "We use the upscaled data into our tuning selection process as we need a balanced data set. Then by scaling the data and following the tidymodel recipes workflow, we collect the results from various values of k. Our base value of k is set to 3."
   ]
  },
  {
   "cell_type": "code",
   "execution_count": 102,
   "metadata": {},
   "outputs": [
    {
     "data": {
      "text/html": [
       "<table>\n",
       "<caption>A tibble: 2 × 3</caption>\n",
       "<thead>\n",
       "\t<tr><th scope=col>.metric</th><th scope=col>.estimator</th><th scope=col>.estimate</th></tr>\n",
       "\t<tr><th scope=col>&lt;chr&gt;</th><th scope=col>&lt;chr&gt;</th><th scope=col>&lt;dbl&gt;</th></tr>\n",
       "</thead>\n",
       "<tbody>\n",
       "\t<tr><td>accuracy</td><td>multiclass</td><td>0.75000000</td></tr>\n",
       "\t<tr><td>kap     </td><td>multiclass</td><td>0.06896552</td></tr>\n",
       "</tbody>\n",
       "</table>\n"
      ],
      "text/latex": [
       "A tibble: 2 × 3\n",
       "\\begin{tabular}{lll}\n",
       " .metric & .estimator & .estimate\\\\\n",
       " <chr> & <chr> & <dbl>\\\\\n",
       "\\hline\n",
       "\t accuracy & multiclass & 0.75000000\\\\\n",
       "\t kap      & multiclass & 0.06896552\\\\\n",
       "\\end{tabular}\n"
      ],
      "text/markdown": [
       "\n",
       "A tibble: 2 × 3\n",
       "\n",
       "| .metric &lt;chr&gt; | .estimator &lt;chr&gt; | .estimate &lt;dbl&gt; |\n",
       "|---|---|---|\n",
       "| accuracy | multiclass | 0.75000000 |\n",
       "| kap      | multiclass | 0.06896552 |\n",
       "\n"
      ],
      "text/plain": [
       "  .metric  .estimator .estimate \n",
       "1 accuracy multiclass 0.75000000\n",
       "2 kap      multiclass 0.06896552"
      ]
     },
     "metadata": {},
     "output_type": "display_data"
    }
   ],
   "source": [
    "unpaid_prediction_accuracy"
   ]
  },
  {
   "cell_type": "code",
   "execution_count": 103,
   "metadata": {},
   "outputs": [
    {
     "data": {
      "text/html": [
       "<table>\n",
       "<caption>A tibble: 2 × 3</caption>\n",
       "<thead>\n",
       "\t<tr><th scope=col>.metric</th><th scope=col>.estimator</th><th scope=col>.estimate</th></tr>\n",
       "\t<tr><th scope=col>&lt;chr&gt;</th><th scope=col>&lt;chr&gt;</th><th scope=col>&lt;dbl&gt;</th></tr>\n",
       "</thead>\n",
       "<tbody>\n",
       "\t<tr><td>accuracy</td><td>multiclass</td><td>0.75000000</td></tr>\n",
       "\t<tr><td>kap     </td><td>multiclass</td><td>0.06896552</td></tr>\n",
       "</tbody>\n",
       "</table>\n"
      ],
      "text/latex": [
       "A tibble: 2 × 3\n",
       "\\begin{tabular}{lll}\n",
       " .metric & .estimator & .estimate\\\\\n",
       " <chr> & <chr> & <dbl>\\\\\n",
       "\\hline\n",
       "\t accuracy & multiclass & 0.75000000\\\\\n",
       "\t kap      & multiclass & 0.06896552\\\\\n",
       "\\end{tabular}\n"
      ],
      "text/markdown": [
       "\n",
       "A tibble: 2 × 3\n",
       "\n",
       "| .metric &lt;chr&gt; | .estimator &lt;chr&gt; | .estimate &lt;dbl&gt; |\n",
       "|---|---|---|\n",
       "| accuracy | multiclass | 0.75000000 |\n",
       "| kap      | multiclass | 0.06896552 |\n",
       "\n"
      ],
      "text/plain": [
       "  .metric  .estimator .estimate \n",
       "1 accuracy multiclass 0.75000000\n",
       "2 kap      multiclass 0.06896552"
      ]
     },
     "metadata": {},
     "output_type": "display_data"
    }
   ],
   "source": [
    "knn_spec <- nearest_neighbor(weight_func = \"rectangular\", neighbors = 3) %>%\n",
    "  set_engine(\"kknn\") %>%\n",
    "  set_mode(\"classification\")\n",
    "\n",
    "unpaid_recipe <- recipe(Type ~ \n",
    "                        Lifetime_Post_Total_Reach + Lifetime_Post_Total_Impressions,\n",
    "                        data = train_set_unpaid) %>%\n",
    "  step_scale(all_predictors()) %>%\n",
    "  step_center(all_predictors())\n",
    "\n",
    "unpaid_fit <- workflow() %>%\n",
    "      add_recipe(unpaid_recipe) %>%\n",
    "      add_model(knn_spec) %>%\n",
    "     # fit(data = upsampled_cancer)\n",
    "         fit(data = train_set_unpaid) \n",
    "\n",
    "      #fit_resamples(resamples = unpaid_vfold)\n",
    "\n",
    "unpaid_val_predicted <- predict(unpaid_fit, val_set_unpaid) %>%\n",
    "    bind_cols(val_set_unpaid)\n",
    "\n",
    "unpaid_prediction_accuracy <- unpaid_val_predicted %>%\n",
    "    metrics(truth = Type, estimate = .pred_class)\n",
    "    \n",
    "unpaid_prediction_accuracy\n"
   ]
  },
  {
   "cell_type": "markdown",
   "metadata": {},
   "source": [
    "We found that our current accuracy against our validation set is roughly 75%. We will continue to tune our model in the following steps."
   ]
  },
  {
   "cell_type": "markdown",
   "metadata": {},
   "source": [
    "### Tuning our model"
   ]
  },
  {
   "cell_type": "markdown",
   "metadata": {},
   "source": [
    "1. We will perform the cross validation technique with 10 folds to account for randomness."
   ]
  },
  {
   "cell_type": "code",
   "execution_count": 92,
   "metadata": {},
   "outputs": [
    {
     "name": "stderr",
     "output_type": "stream",
     "text": [
      "\u001b[33m!\u001b[39m \u001b[33mFold01: internal: No observations were detected in `truth` for level(s): 'Video'...\u001b[39m\n",
      "\n",
      "\u001b[33m!\u001b[39m \u001b[33mFold02: internal: No observations were detected in `truth` for level(s): 'Video'...\u001b[39m\n",
      "\n",
      "\u001b[33m!\u001b[39m \u001b[33mFold04: internal: No observations were detected in `truth` for level(s): 'Link',...\u001b[39m\n",
      "\n",
      "\u001b[33m!\u001b[39m \u001b[33mFold05: internal: No observations were detected in `truth` for level(s): 'Video'...\u001b[39m\n",
      "\n",
      "\u001b[33m!\u001b[39m \u001b[33mFold06: internal: No observations were detected in `truth` for level(s): 'Video'...\u001b[39m\n",
      "\n",
      "\u001b[33m!\u001b[39m \u001b[33mFold07: internal: No observations were detected in `truth` for level(s): 'Video'...\u001b[39m\n",
      "\n",
      "\u001b[33m!\u001b[39m \u001b[33mFold08: internal: No observations were detected in `truth` for level(s): 'Link'\n",
      "...\u001b[39m\n",
      "\n",
      "\u001b[33m!\u001b[39m \u001b[33mFold09: internal: No observations were detected in `truth` for level(s): 'Video'...\u001b[39m\n",
      "\n"
     ]
    },
    {
     "data": {
      "text/html": [
       "<table>\n",
       "<caption>A tibble: 2 × 5</caption>\n",
       "<thead>\n",
       "\t<tr><th scope=col>.metric</th><th scope=col>.estimator</th><th scope=col>mean</th><th scope=col>n</th><th scope=col>std_err</th></tr>\n",
       "\t<tr><th scope=col>&lt;chr&gt;</th><th scope=col>&lt;chr&gt;</th><th scope=col>&lt;dbl&gt;</th><th scope=col>&lt;int&gt;</th><th scope=col>&lt;dbl&gt;</th></tr>\n",
       "</thead>\n",
       "<tbody>\n",
       "\t<tr><td>accuracy</td><td>multiclass</td><td>0.8590000</td><td>10</td><td>0.02409074</td></tr>\n",
       "\t<tr><td>roc_auc </td><td>hand_till </td><td>0.7702354</td><td>10</td><td>0.04136906</td></tr>\n",
       "</tbody>\n",
       "</table>\n"
      ],
      "text/latex": [
       "A tibble: 2 × 5\n",
       "\\begin{tabular}{lllll}\n",
       " .metric & .estimator & mean & n & std\\_err\\\\\n",
       " <chr> & <chr> & <dbl> & <int> & <dbl>\\\\\n",
       "\\hline\n",
       "\t accuracy & multiclass & 0.8590000 & 10 & 0.02409074\\\\\n",
       "\t roc\\_auc  & hand\\_till  & 0.7702354 & 10 & 0.04136906\\\\\n",
       "\\end{tabular}\n"
      ],
      "text/markdown": [
       "\n",
       "A tibble: 2 × 5\n",
       "\n",
       "| .metric &lt;chr&gt; | .estimator &lt;chr&gt; | mean &lt;dbl&gt; | n &lt;int&gt; | std_err &lt;dbl&gt; |\n",
       "|---|---|---|---|---|\n",
       "| accuracy | multiclass | 0.8590000 | 10 | 0.02409074 |\n",
       "| roc_auc  | hand_till  | 0.7702354 | 10 | 0.04136906 |\n",
       "\n"
      ],
      "text/plain": [
       "  .metric  .estimator mean      n  std_err   \n",
       "1 accuracy multiclass 0.8590000 10 0.02409074\n",
       "2 roc_auc  hand_till  0.7702354 10 0.04136906"
      ]
     },
     "metadata": {},
     "output_type": "display_data"
    }
   ],
   "source": [
    "set.seed(99)\n",
    "#unpaid_vfold <- vfold_cv(upsampled_cancer, v = 10, strata = Type)\n",
    "unpaid_vfold <- vfold_cv(train_set_unpaid, v = 10, strata = Type)\n",
    "\n",
    "unpaid_fit_v2 <- workflow() %>%\n",
    "      add_recipe(unpaid_recipe) %>%\n",
    "      add_model(knn_spec) %>%\n",
    "      fit_resamples(resamples = unpaid_vfold) %>% collect_metrics()\n",
    "unpaid_fit_v2"
   ]
  },
  {
   "cell_type": "markdown",
   "metadata": {},
   "source": [
    "We see the accuracy of our model is around 86%."
   ]
  },
  {
   "cell_type": "markdown",
   "metadata": {},
   "source": [
    "2. Next we will perform a paramterization selection method to select a better value for K."
   ]
  },
  {
   "cell_type": "code",
   "execution_count": 95,
   "metadata": {},
   "outputs": [
    {
     "name": "stderr",
     "output_type": "stream",
     "text": [
      "\u001b[33m!\u001b[39m \u001b[33mFold01: internal: No observations were detected in `truth` for level(s): 'Video'...\u001b[39m\n",
      "\n",
      "\u001b[33m!\u001b[39m \u001b[33mFold02: internal: No observations were detected in `truth` for level(s): 'Video'...\u001b[39m\n",
      "\n",
      "\u001b[33m!\u001b[39m \u001b[33mFold04: internal: No observations were detected in `truth` for level(s): 'Link',...\u001b[39m\n",
      "\n",
      "\u001b[33m!\u001b[39m \u001b[33mFold05: internal: No observations were detected in `truth` for level(s): 'Video'...\u001b[39m\n",
      "\n",
      "\u001b[33m!\u001b[39m \u001b[33mFold06: internal: No observations were detected in `truth` for level(s): 'Video'...\u001b[39m\n",
      "\n",
      "\u001b[33m!\u001b[39m \u001b[33mFold07: internal: No observations were detected in `truth` for level(s): 'Video'...\u001b[39m\n",
      "\n",
      "\u001b[33m!\u001b[39m \u001b[33mFold08: internal: No observations were detected in `truth` for level(s): 'Link'\n",
      "...\u001b[39m\n",
      "\n",
      "\u001b[33m!\u001b[39m \u001b[33mFold09: internal: No observations were detected in `truth` for level(s): 'Video'...\u001b[39m\n",
      "\n"
     ]
    },
    {
     "data": {
      "text/html": [
       "<table>\n",
       "<caption>A tibble: 9 × 7</caption>\n",
       "<thead>\n",
       "\t<tr><th scope=col>neighbors</th><th scope=col>.metric</th><th scope=col>.estimator</th><th scope=col>mean</th><th scope=col>n</th><th scope=col>std_err</th><th scope=col>.config</th></tr>\n",
       "\t<tr><th scope=col>&lt;int&gt;</th><th scope=col>&lt;chr&gt;</th><th scope=col>&lt;chr&gt;</th><th scope=col>&lt;dbl&gt;</th><th scope=col>&lt;int&gt;</th><th scope=col>&lt;dbl&gt;</th><th scope=col>&lt;chr&gt;</th></tr>\n",
       "</thead>\n",
       "<tbody>\n",
       "\t<tr><td>2</td><td>accuracy</td><td>multiclass</td><td>0.8511667</td><td>10</td><td>0.02721894</td><td>Model1</td></tr>\n",
       "\t<tr><td>3</td><td>accuracy</td><td>multiclass</td><td>0.8590000</td><td>10</td><td>0.02409074</td><td>Model2</td></tr>\n",
       "\t<tr><td>4</td><td>accuracy</td><td>multiclass</td><td>0.8631667</td><td>10</td><td>0.02451786</td><td>Model3</td></tr>\n",
       "\t<tr><td>6</td><td>accuracy</td><td>multiclass</td><td>0.8434744</td><td>10</td><td>0.02435619</td><td>Model4</td></tr>\n",
       "\t<tr><td>⋮</td><td>⋮</td><td>⋮</td><td>⋮</td><td>⋮</td><td>⋮</td><td>⋮</td></tr>\n",
       "\t<tr><td> 9</td><td>accuracy</td><td>multiclass</td><td>0.8433205</td><td>10</td><td>0.02381319</td><td>Model6</td></tr>\n",
       "\t<tr><td>10</td><td>accuracy</td><td>multiclass</td><td>0.8513333</td><td>10</td><td>0.02558478</td><td>Model7</td></tr>\n",
       "\t<tr><td>12</td><td>accuracy</td><td>multiclass</td><td>0.8551795</td><td>10</td><td>0.02303849</td><td>Model8</td></tr>\n",
       "\t<tr><td>14</td><td>accuracy</td><td>multiclass</td><td>0.8591795</td><td>10</td><td>0.02309284</td><td>Model9</td></tr>\n",
       "</tbody>\n",
       "</table>\n"
      ],
      "text/latex": [
       "A tibble: 9 × 7\n",
       "\\begin{tabular}{lllllll}\n",
       " neighbors & .metric & .estimator & mean & n & std\\_err & .config\\\\\n",
       " <int> & <chr> & <chr> & <dbl> & <int> & <dbl> & <chr>\\\\\n",
       "\\hline\n",
       "\t 2 & accuracy & multiclass & 0.8511667 & 10 & 0.02721894 & Model1\\\\\n",
       "\t 3 & accuracy & multiclass & 0.8590000 & 10 & 0.02409074 & Model2\\\\\n",
       "\t 4 & accuracy & multiclass & 0.8631667 & 10 & 0.02451786 & Model3\\\\\n",
       "\t 6 & accuracy & multiclass & 0.8434744 & 10 & 0.02435619 & Model4\\\\\n",
       "\t ⋮ & ⋮ & ⋮ & ⋮ & ⋮ & ⋮ & ⋮\\\\\n",
       "\t  9 & accuracy & multiclass & 0.8433205 & 10 & 0.02381319 & Model6\\\\\n",
       "\t 10 & accuracy & multiclass & 0.8513333 & 10 & 0.02558478 & Model7\\\\\n",
       "\t 12 & accuracy & multiclass & 0.8551795 & 10 & 0.02303849 & Model8\\\\\n",
       "\t 14 & accuracy & multiclass & 0.8591795 & 10 & 0.02309284 & Model9\\\\\n",
       "\\end{tabular}\n"
      ],
      "text/markdown": [
       "\n",
       "A tibble: 9 × 7\n",
       "\n",
       "| neighbors &lt;int&gt; | .metric &lt;chr&gt; | .estimator &lt;chr&gt; | mean &lt;dbl&gt; | n &lt;int&gt; | std_err &lt;dbl&gt; | .config &lt;chr&gt; |\n",
       "|---|---|---|---|---|---|---|\n",
       "| 2 | accuracy | multiclass | 0.8511667 | 10 | 0.02721894 | Model1 |\n",
       "| 3 | accuracy | multiclass | 0.8590000 | 10 | 0.02409074 | Model2 |\n",
       "| 4 | accuracy | multiclass | 0.8631667 | 10 | 0.02451786 | Model3 |\n",
       "| 6 | accuracy | multiclass | 0.8434744 | 10 | 0.02435619 | Model4 |\n",
       "| ⋮ | ⋮ | ⋮ | ⋮ | ⋮ | ⋮ | ⋮ |\n",
       "|  9 | accuracy | multiclass | 0.8433205 | 10 | 0.02381319 | Model6 |\n",
       "| 10 | accuracy | multiclass | 0.8513333 | 10 | 0.02558478 | Model7 |\n",
       "| 12 | accuracy | multiclass | 0.8551795 | 10 | 0.02303849 | Model8 |\n",
       "| 14 | accuracy | multiclass | 0.8591795 | 10 | 0.02309284 | Model9 |\n",
       "\n"
      ],
      "text/plain": [
       "  neighbors .metric  .estimator mean      n  std_err    .config\n",
       "1 2         accuracy multiclass 0.8511667 10 0.02721894 Model1 \n",
       "2 3         accuracy multiclass 0.8590000 10 0.02409074 Model2 \n",
       "3 4         accuracy multiclass 0.8631667 10 0.02451786 Model3 \n",
       "4 6         accuracy multiclass 0.8434744 10 0.02435619 Model4 \n",
       "⋮ ⋮         ⋮        ⋮          ⋮         ⋮  ⋮          ⋮      \n",
       "6  9        accuracy multiclass 0.8433205 10 0.02381319 Model6 \n",
       "7 10        accuracy multiclass 0.8513333 10 0.02558478 Model7 \n",
       "8 12        accuracy multiclass 0.8551795 10 0.02303849 Model8 \n",
       "9 14        accuracy multiclass 0.8591795 10 0.02309284 Model9 "
      ]
     },
     "metadata": {},
     "output_type": "display_data"
    }
   ],
   "source": [
    "knn_tune <- nearest_neighbor(weight_func = \"rectangular\", neighbors = tune()) %>%\n",
    "  set_engine(\"kknn\") %>%\n",
    "  set_mode(\"classification\")\n",
    "\n",
    "knn_results <- workflow() %>%\n",
    "  add_recipe(unpaid_recipe) %>%\n",
    "  add_model(knn_tune) %>%\n",
    "  tune_grid(resamples = unpaid_vfold, grid = 10) %>% \n",
    "  collect_metrics()\n",
    "\n",
    "accuracies <- knn_results %>% \n",
    "       filter(.metric == \"accuracy\")\n",
    "\n",
    "accuracies"
   ]
  },
  {
   "cell_type": "markdown",
   "metadata": {},
   "source": [
    "3. Then using our collected metrics, we can visualize our accuracies to refine our value of K."
   ]
  },
  {
   "cell_type": "code",
   "execution_count": 94,
   "metadata": {},
   "outputs": [
    {
     "data": {
      "image/png": "[encoded data removed]",
      "text/plain": [
       "plot without title"
      ]
     },
     "metadata": {
      "image/png": {
       "height": 480,
       "width": 840
      }
     },
     "output_type": "display_data"
    }
   ],
   "source": [
    "accuracy_versus_k <- ggplot(accuracies, aes(x = neighbors, y = mean))+\n",
    "      geom_point() +\n",
    "      geom_line() +\n",
    "      labs(x = \"Neighbors\", y = \"Accuracy Estimate\", title = \"K-NN Classification Accuracy by Neighbors\") +\n",
    "      scale_x_continuous(breaks = seq(0, 16, by = 2)) +  # adjusting the x-axis\n",
    "      scale_y_continuous(limits = c(0.8, 1.0)) # adjusting the y-axis\n",
    "\n",
    "accuracy_versus_k"
   ]
  },
  {
   "cell_type": "code",
   "execution_count": 101,
   "metadata": {},
   "outputs": [
    {
     "data": {
      "text/html": [
       "<table>\n",
       "<caption>A tibble: 1 × 7</caption>\n",
       "<thead>\n",
       "\t<tr><th scope=col>neighbors</th><th scope=col>.metric</th><th scope=col>.estimator</th><th scope=col>mean</th><th scope=col>n</th><th scope=col>std_err</th><th scope=col>.config</th></tr>\n",
       "\t<tr><th scope=col>&lt;int&gt;</th><th scope=col>&lt;chr&gt;</th><th scope=col>&lt;chr&gt;</th><th scope=col>&lt;dbl&gt;</th><th scope=col>&lt;int&gt;</th><th scope=col>&lt;dbl&gt;</th><th scope=col>&lt;chr&gt;</th></tr>\n",
       "</thead>\n",
       "<tbody>\n",
       "\t<tr><td>4</td><td>accuracy</td><td>multiclass</td><td>0.8631667</td><td>10</td><td>0.02451786</td><td>Model3</td></tr>\n",
       "</tbody>\n",
       "</table>\n"
      ],
      "text/latex": [
       "A tibble: 1 × 7\n",
       "\\begin{tabular}{lllllll}\n",
       " neighbors & .metric & .estimator & mean & n & std\\_err & .config\\\\\n",
       " <int> & <chr> & <chr> & <dbl> & <int> & <dbl> & <chr>\\\\\n",
       "\\hline\n",
       "\t 4 & accuracy & multiclass & 0.8631667 & 10 & 0.02451786 & Model3\\\\\n",
       "\\end{tabular}\n"
      ],
      "text/markdown": [
       "\n",
       "A tibble: 1 × 7\n",
       "\n",
       "| neighbors &lt;int&gt; | .metric &lt;chr&gt; | .estimator &lt;chr&gt; | mean &lt;dbl&gt; | n &lt;int&gt; | std_err &lt;dbl&gt; | .config &lt;chr&gt; |\n",
       "|---|---|---|---|---|---|---|\n",
       "| 4 | accuracy | multiclass | 0.8631667 | 10 | 0.02451786 | Model3 |\n",
       "\n"
      ],
      "text/plain": [
       "  neighbors .metric  .estimator mean      n  std_err    .config\n",
       "1 4         accuracy multiclass 0.8631667 10 0.02451786 Model3 "
      ]
     },
     "metadata": {},
     "output_type": "display_data"
    }
   ],
   "source": [
    "most_accurate_k <- knn_results %>% filter(.metric == \"accuracy\") %>% arrange(desc(mean)) %>% slice(1)\n",
    "most_accurate_k"
   ]
  },
  {
   "cell_type": "markdown",
   "metadata": {},
   "source": [
    "The visualization suggests that K=4 averages the highest accuracy of ~86% from our 10 cross validation sets. We edit our model specification to take k=2 instead of k=3 as follows. After doing so, we can compare the accuracy of each model."
   ]
  },
  {
   "cell_type": "code",
   "execution_count": 105,
   "metadata": {},
   "outputs": [
    {
     "data": {
      "text/html": [
       "<table>\n",
       "<caption>A tibble: 1 × 3</caption>\n",
       "<thead>\n",
       "\t<tr><th scope=col>.metric</th><th scope=col>.estimator</th><th scope=col>.estimate</th></tr>\n",
       "\t<tr><th scope=col>&lt;chr&gt;</th><th scope=col>&lt;chr&gt;</th><th scope=col>&lt;dbl&gt;</th></tr>\n",
       "</thead>\n",
       "<tbody>\n",
       "\t<tr><td>accuracy</td><td>multiclass</td><td>0.7222222</td></tr>\n",
       "</tbody>\n",
       "</table>\n"
      ],
      "text/latex": [
       "A tibble: 1 × 3\n",
       "\\begin{tabular}{lll}\n",
       " .metric & .estimator & .estimate\\\\\n",
       " <chr> & <chr> & <dbl>\\\\\n",
       "\\hline\n",
       "\t accuracy & multiclass & 0.7222222\\\\\n",
       "\\end{tabular}\n"
      ],
      "text/markdown": [
       "\n",
       "A tibble: 1 × 3\n",
       "\n",
       "| .metric &lt;chr&gt; | .estimator &lt;chr&gt; | .estimate &lt;dbl&gt; |\n",
       "|---|---|---|\n",
       "| accuracy | multiclass | 0.7222222 |\n",
       "\n"
      ],
      "text/plain": [
       "  .metric  .estimator .estimate\n",
       "1 accuracy multiclass 0.7222222"
      ]
     },
     "metadata": {},
     "output_type": "display_data"
    },
    {
     "name": "stdout",
     "output_type": "stream",
     "text": [
      "[1] -0.02777778  0.65325670\n"
     ]
    }
   ],
   "source": [
    "# we use the same recipe, change spec\n",
    "\n",
    "knn_spec <- nearest_neighbor(weight_func = \"rectangular\", neighbors = 4) %>%\n",
    "  set_engine(\"kknn\") %>%\n",
    "  set_mode(\"classification\")\n",
    "\n",
    "unpaid_fit_tuned <- workflow() %>%\n",
    "      add_recipe(unpaid_recipe) %>%\n",
    "      add_model(knn_spec) %>%\n",
    "      fit(data = upsampled_cancer) \n",
    "      #fit_resamples(resamples = unpaid_vfold)\n",
    "\n",
    "unpaid_val_predicted_tuned <- predict(unpaid_fit_tuned, val_set_unpaid) %>%\n",
    "    bind_cols(val_set_unpaid)\n",
    "\n",
    "unpaid_prediction_accuracy_tuned <- unpaid_val_predicted_tuned %>%\n",
    "    metrics(truth = Type, estimate = .pred_class) %>% filter(.metric == \"accuracy\")\n",
    "\n",
    "model_improvement <- unpaid_prediction_accuracy_tuned$.estimate - unpaid_prediction_accuracy$.estimate\n",
    "\n",
    "unpaid_prediction_accuracy_tuned\n",
    "print(model_improvement)"
   ]
  },
  {
   "cell_type": "markdown",
   "metadata": {},
   "source": [
    "After changing our model spec from 2 to 3, we see that the modifications to our model has increased our accuracy by roughly *5.56%* (our original accuracy was roughly *72.2%*) and thus we will choose the tuned model."
   ]
  },
  {
   "cell_type": "markdown",
   "metadata": {},
   "source": [
    "### EXPLAIN WHY LOW ACCURACY OCCURS\n",
    "- We have 1 video observation in our testing set\n",
    "- which after we have classified the only video value\n",
    "- "
   ]
  },
  {
   "cell_type": "code",
   "execution_count": null,
   "metadata": {},
   "outputs": [],
   "source": []
  },
  {
   "cell_type": "markdown",
   "metadata": {},
   "source": [
    "---------------------------------------------------------------------------------------------------------"
   ]
  },
  {
   "cell_type": "markdown",
   "metadata": {},
   "source": [
    "### Additional Exploratory Analysis"
   ]
  },
  {
   "cell_type": "code",
   "execution_count": 56,
   "metadata": {},
   "outputs": [
    {
     "data": {
      "text/html": [
       "<table>\n",
       "<caption>A data.frame: 4 × 5</caption>\n",
       "<thead>\n",
       "\t<tr><th scope=col>mean_comment</th><th scope=col>mean_like</th><th scope=col>mean_Total_Interactions</th><th scope=col>mean_share</th><th scope=col>type</th></tr>\n",
       "\t<tr><th scope=col>&lt;dbl&gt;</th><th scope=col>&lt;dbl&gt;</th><th scope=col>&lt;dbl&gt;</th><th scope=col>&lt;dbl&gt;</th><th scope=col>&lt;fct&gt;</th></tr>\n",
       "</thead>\n",
       "<tbody>\n",
       "\t<tr><td>2.285714</td><td> 77.92857</td><td> 94.07143</td><td>13.85714</td><td>Link  </td></tr>\n",
       "\t<tr><td>5.300000</td><td>137.25714</td><td>166.45238</td><td>23.89524</td><td>Photo </td></tr>\n",
       "\t<tr><td>6.695652</td><td>150.08696</td><td>183.47826</td><td>26.69565</td><td>Status</td></tr>\n",
       "\t<tr><td>2.000000</td><td> 99.00000</td><td>114.00000</td><td>13.00000</td><td>Video </td></tr>\n",
       "</tbody>\n",
       "</table>\n"
      ],
      "text/latex": [
       "A data.frame: 4 × 5\n",
       "\\begin{tabular}{lllll}\n",
       " mean\\_comment & mean\\_like & mean\\_Total\\_Interactions & mean\\_share & type\\\\\n",
       " <dbl> & <dbl> & <dbl> & <dbl> & <fct>\\\\\n",
       "\\hline\n",
       "\t 2.285714 &  77.92857 &  94.07143 & 13.85714 & Link  \\\\\n",
       "\t 5.300000 & 137.25714 & 166.45238 & 23.89524 & Photo \\\\\n",
       "\t 6.695652 & 150.08696 & 183.47826 & 26.69565 & Status\\\\\n",
       "\t 2.000000 &  99.00000 & 114.00000 & 13.00000 & Video \\\\\n",
       "\\end{tabular}\n"
      ],
      "text/markdown": [
       "\n",
       "A data.frame: 4 × 5\n",
       "\n",
       "| mean_comment &lt;dbl&gt; | mean_like &lt;dbl&gt; | mean_Total_Interactions &lt;dbl&gt; | mean_share &lt;dbl&gt; | type &lt;fct&gt; |\n",
       "|---|---|---|---|---|\n",
       "| 2.285714 |  77.92857 |  94.07143 | 13.85714 | Link   |\n",
       "| 5.300000 | 137.25714 | 166.45238 | 23.89524 | Photo  |\n",
       "| 6.695652 | 150.08696 | 183.47826 | 26.69565 | Status |\n",
       "| 2.000000 |  99.00000 | 114.00000 | 13.00000 | Video  |\n",
       "\n"
      ],
      "text/plain": [
       "  mean_comment mean_like mean_Total_Interactions mean_share type  \n",
       "1 2.285714      77.92857  94.07143               13.85714   Link  \n",
       "2 5.300000     137.25714 166.45238               23.89524   Photo \n",
       "3 6.695652     150.08696 183.47826               26.69565   Status\n",
       "4 2.000000      99.00000 114.00000               13.00000   Video "
      ]
     },
     "metadata": {},
     "output_type": "display_data"
    },
    {
     "data": {
      "text/html": [
       "<table>\n",
       "<caption>A data.frame: 16 × 3</caption>\n",
       "<thead>\n",
       "\t<tr><th scope=col>type</th><th scope=col>Stat</th><th scope=col>Value</th></tr>\n",
       "\t<tr><th scope=col>&lt;fct&gt;</th><th scope=col>&lt;chr&gt;</th><th scope=col>&lt;dbl&gt;</th></tr>\n",
       "</thead>\n",
       "<tbody>\n",
       "\t<tr><td>Link  </td><td>mean_comment</td><td>2.285714</td></tr>\n",
       "\t<tr><td>Photo </td><td>mean_comment</td><td>5.300000</td></tr>\n",
       "\t<tr><td>Status</td><td>mean_comment</td><td>6.695652</td></tr>\n",
       "\t<tr><td>Video </td><td>mean_comment</td><td>2.000000</td></tr>\n",
       "\t<tr><td>⋮</td><td>⋮</td><td>⋮</td></tr>\n",
       "\t<tr><td>Link  </td><td>mean_share</td><td>13.85714</td></tr>\n",
       "\t<tr><td>Photo </td><td>mean_share</td><td>23.89524</td></tr>\n",
       "\t<tr><td>Status</td><td>mean_share</td><td>26.69565</td></tr>\n",
       "\t<tr><td>Video </td><td>mean_share</td><td>13.00000</td></tr>\n",
       "</tbody>\n",
       "</table>\n"
      ],
      "text/latex": [
       "A data.frame: 16 × 3\n",
       "\\begin{tabular}{lll}\n",
       " type & Stat & Value\\\\\n",
       " <fct> & <chr> & <dbl>\\\\\n",
       "\\hline\n",
       "\t Link   & mean\\_comment & 2.285714\\\\\n",
       "\t Photo  & mean\\_comment & 5.300000\\\\\n",
       "\t Status & mean\\_comment & 6.695652\\\\\n",
       "\t Video  & mean\\_comment & 2.000000\\\\\n",
       "\t ⋮ & ⋮ & ⋮\\\\\n",
       "\t Link   & mean\\_share & 13.85714\\\\\n",
       "\t Photo  & mean\\_share & 23.89524\\\\\n",
       "\t Status & mean\\_share & 26.69565\\\\\n",
       "\t Video  & mean\\_share & 13.00000\\\\\n",
       "\\end{tabular}\n"
      ],
      "text/markdown": [
       "\n",
       "A data.frame: 16 × 3\n",
       "\n",
       "| type &lt;fct&gt; | Stat &lt;chr&gt; | Value &lt;dbl&gt; |\n",
       "|---|---|---|\n",
       "| Link   | mean_comment | 2.285714 |\n",
       "| Photo  | mean_comment | 5.300000 |\n",
       "| Status | mean_comment | 6.695652 |\n",
       "| Video  | mean_comment | 2.000000 |\n",
       "| ⋮ | ⋮ | ⋮ |\n",
       "| Link   | mean_share | 13.85714 |\n",
       "| Photo  | mean_share | 23.89524 |\n",
       "| Status | mean_share | 26.69565 |\n",
       "| Video  | mean_share | 13.00000 |\n",
       "\n"
      ],
      "text/plain": [
       "   type   Stat         Value   \n",
       "1  Link   mean_comment 2.285714\n",
       "2  Photo  mean_comment 5.300000\n",
       "3  Status mean_comment 6.695652\n",
       "4  Video  mean_comment 2.000000\n",
       "⋮  ⋮      ⋮            ⋮       \n",
       "13 Link   mean_share   13.85714\n",
       "14 Photo  mean_share   23.89524\n",
       "15 Status mean_share   26.69565\n",
       "16 Video  mean_share   13.00000"
      ]
     },
     "metadata": {},
     "output_type": "display_data"
    }
   ],
   "source": [
    "mean_comment <- summ_train_unpaid$mean_comment\n",
    "mean_like <- summ_train_unpaid$mean_like\n",
    "mean_Total_Interactions <- summ_train_unpaid$mean_Total_Interactions\n",
    "mean_share <- summ_train_unpaid$mean_share\n",
    "type <- summ_train_unpaid$Type\n",
    "\n",
    "test_df <- data.frame(mean_comment,mean_like,mean_Total_Interactions,mean_share,type)\n",
    "test_df\n",
    "\n",
    "fb_long <- test_df %>%\n",
    "gather(\"Stat\", \"Value\", -type)\n",
    "\n",
    "fb_long\n"
   ]
  },
  {
   "cell_type": "code",
   "execution_count": 57,
   "metadata": {},
   "outputs": [],
   "source": [
    "# test_df <- data.frame(\n",
    "# mean_comment = c(4.0, 7.317073, 13.166667, 12.333333),\n",
    "# mean_like = c(56.66667, 202.14634, 281.16667, 276.33333),\n",
    "# mean_Total_Interactions = c(71.0000, 235.2683, 353.8333, 346.6667),\n",
    "# mean_share = c(10.33333, 25.80488, 59.50000, 58.00000),\n",
    "# type = c(\"Link\", \"Photo\", \"Status\", \"Video\"))\n",
    "\n",
    "\n",
    "# fb_long <- test_df %>%\n",
    "# gather(\"Stat\", \"Value\", -type)\n",
    "\n",
    "# fb_long\n"
   ]
  },
  {
   "cell_type": "code",
   "execution_count": 58,
   "metadata": {},
   "outputs": [
    {
     "data": {
      "text/html": [
       "<table>\n",
       "<caption>A data.frame: 4 × 3</caption>\n",
       "<thead>\n",
       "\t<tr><th scope=col>type</th><th scope=col>Stat</th><th scope=col>Value</th></tr>\n",
       "\t<tr><th scope=col>&lt;fct&gt;</th><th scope=col>&lt;chr&gt;</th><th scope=col>&lt;dbl&gt;</th></tr>\n",
       "</thead>\n",
       "<tbody>\n",
       "\t<tr><td>Link  </td><td>mean_like</td><td> 77.92857</td></tr>\n",
       "\t<tr><td>Photo </td><td>mean_like</td><td>137.25714</td></tr>\n",
       "\t<tr><td>Status</td><td>mean_like</td><td>150.08696</td></tr>\n",
       "\t<tr><td>Video </td><td>mean_like</td><td> 99.00000</td></tr>\n",
       "</tbody>\n",
       "</table>\n"
      ],
      "text/latex": [
       "A data.frame: 4 × 3\n",
       "\\begin{tabular}{lll}\n",
       " type & Stat & Value\\\\\n",
       " <fct> & <chr> & <dbl>\\\\\n",
       "\\hline\n",
       "\t Link   & mean\\_like &  77.92857\\\\\n",
       "\t Photo  & mean\\_like & 137.25714\\\\\n",
       "\t Status & mean\\_like & 150.08696\\\\\n",
       "\t Video  & mean\\_like &  99.00000\\\\\n",
       "\\end{tabular}\n"
      ],
      "text/markdown": [
       "\n",
       "A data.frame: 4 × 3\n",
       "\n",
       "| type &lt;fct&gt; | Stat &lt;chr&gt; | Value &lt;dbl&gt; |\n",
       "|---|---|---|\n",
       "| Link   | mean_like |  77.92857 |\n",
       "| Photo  | mean_like | 137.25714 |\n",
       "| Status | mean_like | 150.08696 |\n",
       "| Video  | mean_like |  99.00000 |\n",
       "\n"
      ],
      "text/plain": [
       "  type   Stat      Value    \n",
       "1 Link   mean_like  77.92857\n",
       "2 Photo  mean_like 137.25714\n",
       "3 Status mean_like 150.08696\n",
       "4 Video  mean_like  99.00000"
      ]
     },
     "metadata": {},
     "output_type": "display_data"
    }
   ],
   "source": [
    "filter_mean_like <- fb_long %>%\n",
    "    filter(Stat == \"mean_like\")\n",
    "\n",
    "filter_mean_like"
   ]
  },
  {
   "cell_type": "code",
   "execution_count": 59,
   "metadata": {},
   "outputs": [
    {
     "data": {
      "image/png": "[encoded data removed]",
      "text/plain": [
       "plot without title"
      ]
     },
     "metadata": {
      "image/png": {
       "height": 360,
       "width": 480
      }
     },
     "output_type": "display_data"
    }
   ],
   "source": [
    "options(repr.plot.width = 8, repr.plot.height = 6) \n",
    "\n",
    "mean_likes_bar <- ggplot(filter_mean_like, aes(x = type, y = Value)) +\n",
    "    geom_bar(stat = \"identity\") +\n",
    "    labs(x = \"Post Type\", y = \"Average Number of Likes\") +\n",
    "    theme(text = element_text(size = 18)) \n",
    "\n",
    "mean_likes_bar"
   ]
  },
  {
   "cell_type": "code",
   "execution_count": 60,
   "metadata": {},
   "outputs": [
    {
     "data": {
      "image/png": "[encoded data removed]",
      "text/plain": [
       "plot without title"
      ]
     },
     "metadata": {
      "image/png": {
       "height": 360,
       "width": 480
      }
     },
     "output_type": "display_data"
    }
   ],
   "source": [
    "mean_fb <- ggplot(fb_long, aes(x = type, y = Value, fill = Stat)) +\n",
    "    geom_col(position = \"dodge\") +\n",
    "    labs(x = \"Type of Post\", y = \"Count\") +\n",
    "    scale_fill_discrete(name = \"Stats\", labels = c(\"Mean Comment\", \"Mean Like\", \"Mean Share\", \"Mean Total Interactions\"))\n",
    "\n",
    "mean_fb"
   ]
  },
  {
   "cell_type": "code",
   "execution_count": 61,
   "metadata": {},
   "outputs": [
    {
     "name": "stderr",
     "output_type": "stream",
     "text": [
      "Warning message:\n",
      "“Removed 21 rows containing missing values (geom_point).”\n"
     ]
    },
    {
     "data": {
      "image/png": "[encoded data removed]",
      "text/plain": [
       "plot without title"
      ]
     },
     "metadata": {
      "image/png": {
       "height": 480,
       "width": 840
      }
     },
     "output_type": "display_data"
    }
   ],
   "source": [
    "library(ggplot2)\n",
    "unpaid_plot <- facebook_clean_unpaid %>% \n",
    "    ggplot(aes(x = Lifetime_Post_Total_Reach/100, y = Total_Interactions, shape=Type, color=Type, fill=Type))+\n",
    "    geom_point(alpha=0.6, size=4)+\n",
    "    labs(x=\"Total reach (hundreds)\", y=\"Total interactions\", group=\"Type\")+\n",
    "    scale_y_continuous(limits = c(0,900))+\n",
    "    scale_x_continuous(limits = c(0,500))+\n",
    "    scale_shape_manual(values = c(21,22,23,24)) +\n",
    "    scale_size_manual(values=c(1,6,7,9))+\n",
    "    theme_minimal()+\n",
    "    theme(text = element_text(size = 16))\n",
    "    options(repr.plot.width =14, repr.plot.height = 8) \n",
    "unpaid_plot"
   ]
  },
  {
   "cell_type": "markdown",
   "metadata": {},
   "source": [
    "### Bibliography\n",
    "\n",
    "Moro, S., Rita, P., & Vala, B. (2016). Predicting social media performance metrics and evaluation of the impact on brand building: A data mining approach. Journal of Business Research. 69(9), 3341 - 3351. "
   ]
  },
  {
   "cell_type": "code",
   "execution_count": null,
   "metadata": {},
   "outputs": [],
   "source": [
    "facebook"
   ]
  }
 ],
 "metadata": {
  "kernelspec": {
   "display_name": "R",
   "language": "R",
   "name": "ir"
  },
  "language_info": {
   "codemirror_mode": "r",
   "file_extension": ".r",
   "mimetype": "text/x-r-source",
   "name": "R",
   "pygments_lexer": "r",
   "version": "4.0.0"
  }
 },
 "nbformat": 4,
 "nbformat_minor": 4
}
