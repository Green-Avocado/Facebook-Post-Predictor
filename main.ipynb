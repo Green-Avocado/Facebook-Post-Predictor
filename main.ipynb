{
 "cells": [
  {
   "cell_type": "markdown",
   "metadata": {},
   "source": [
    "## A Rough Skeleton of Working Draft\n",
    "---------------------------------------------------------------------------------------------------------\n",
    "\n",
    "\n",
    "### Table of Contents:\n",
    "1. Sypnosis\n",
    "    - Research Question\n",
    "    - Summary\n",
    "<p></p>\n",
    "2. Our Data Set \n",
    "    - Packages Used\n",
    "    - Loading and Cleansing\n",
    "    \n",
    "---------------------------------------------------------------------------------------------------------"
   ]
  },
  {
   "cell_type": "markdown",
   "metadata": {},
   "source": [
    "### 1.) Sypnosis: "
   ]
  },
  {
   "cell_type": "markdown",
   "metadata": {},
   "source": [
    "##### Research Question:\n",
    "How can an author increase engagement from users on Facebook and can we predict the success of a post using insights from an author's page?\n"
   ]
  },
  {
   "cell_type": "markdown",
   "metadata": {},
   "source": [
    "##### Overview:\n",
    "(description)"
   ]
  },
  {
   "cell_type": "markdown",
   "metadata": {},
   "source": [
    "---------------------------------------------------------------------------------------------------------"
   ]
  },
  {
   "cell_type": "code",
   "execution_count": 36,
   "metadata": {},
   "outputs": [
    {
     "ename": "ERROR",
     "evalue": "Error in .helpForCall(topicExpr, parent.frame()): no methods for ‘sample.split’ and no documentation for it as a function\n",
     "output_type": "error",
     "traceback": [
      "Error in .helpForCall(topicExpr, parent.frame()): no methods for ‘sample.split’ and no documentation for it as a function\nTraceback:\n",
      "1. `?`(sample.split())",
      "2. .helpForCall(topicExpr, parent.frame())",
      "3. stop(gettextf(\"no methods for %s and no documentation for it as a function\", \n .     sQuote(f)), domain = NA)"
     ]
    }
   ],
   "source": [
    "?sample.split()"
   ]
  },
  {
   "cell_type": "markdown",
   "metadata": {},
   "source": [
    "### 2.) Dataset"
   ]
  },
  {
   "cell_type": "markdown",
   "metadata": {},
   "source": [
    "##### Packages Used:"
   ]
  },
  {
   "cell_type": "code",
   "execution_count": 45,
   "metadata": {},
   "outputs": [
    {
     "name": "stderr",
     "output_type": "stream",
     "text": [
      "Updating HTML index of packages in '.Library'\n",
      "\n",
      "Making 'packages.html' ...\n",
      " done\n",
      "\n"
     ]
    }
   ],
   "source": [
    "install.packages(\"caTools\")\n",
    "library(caTools)\n",
    "\n",
    "library(tidyverse)\n",
    "library(repr)\n",
    "library(tidymodels)\n",
    "library(MASS)\n",
    "options(repr.matrix.max.rows = 8)"
   ]
  },
  {
   "cell_type": "markdown",
   "metadata": {},
   "source": [
    "##### Facebook Data set:\n",
    "(description)"
   ]
  },
  {
   "cell_type": "code",
   "execution_count": 17,
   "metadata": {},
   "outputs": [
    {
     "name": "stderr",
     "output_type": "stream",
     "text": [
      "Using ',' as decimal and '.' as grouping mark. Use read_delim() for more control.\n",
      "\n",
      "Parsed with column specification:\n",
      "cols(\n",
      "  `Page total likes` = \u001b[32mcol_double()\u001b[39m,\n",
      "  Type = \u001b[31mcol_character()\u001b[39m,\n",
      "  Category = \u001b[32mcol_double()\u001b[39m,\n",
      "  `Post Month` = \u001b[32mcol_double()\u001b[39m,\n",
      "  `Post Weekday` = \u001b[32mcol_double()\u001b[39m,\n",
      "  `Post Hour` = \u001b[32mcol_double()\u001b[39m,\n",
      "  Paid = \u001b[32mcol_double()\u001b[39m,\n",
      "  `Lifetime Post Total Reach` = \u001b[32mcol_double()\u001b[39m,\n",
      "  `Lifetime Post Total Impressions` = \u001b[32mcol_double()\u001b[39m,\n",
      "  `Lifetime Engaged Users` = \u001b[32mcol_double()\u001b[39m,\n",
      "  `Lifetime Post Consumers` = \u001b[32mcol_double()\u001b[39m,\n",
      "  `Lifetime Post Consumptions` = \u001b[32mcol_double()\u001b[39m,\n",
      "  `Lifetime Post Impressions by people who have liked your Page` = \u001b[32mcol_double()\u001b[39m,\n",
      "  `Lifetime Post reach by people who like your Page` = \u001b[32mcol_double()\u001b[39m,\n",
      "  `Lifetime People who have liked your Page and engaged with your post` = \u001b[32mcol_double()\u001b[39m,\n",
      "  comment = \u001b[32mcol_double()\u001b[39m,\n",
      "  like = \u001b[32mcol_double()\u001b[39m,\n",
      "  share = \u001b[32mcol_double()\u001b[39m,\n",
      "  `Total Interactions` = \u001b[32mcol_double()\u001b[39m\n",
      ")\n",
      "\n"
     ]
    }
   ],
   "source": [
    "facebook <- read_csv2(\"data/dataset_Facebook.csv\")"
   ]
  },
  {
   "cell_type": "code",
   "execution_count": 20,
   "metadata": {},
   "outputs": [
    {
     "name": "stdout",
     "output_type": "stream",
     "text": [
      "Rows: 500\n",
      "Columns: 19\n",
      "$ Page_total_likes                                                    \u001b[3m\u001b[90m<dbl>\u001b[39m\u001b[23m 1…\n",
      "$ Type                                                                \u001b[3m\u001b[90m<fct>\u001b[39m\u001b[23m P…\n",
      "$ Category                                                            \u001b[3m\u001b[90m<fct>\u001b[39m\u001b[23m 2…\n",
      "$ Post_Month                                                          \u001b[3m\u001b[90m<fct>\u001b[39m\u001b[23m 1…\n",
      "$ Post_Weekday                                                        \u001b[3m\u001b[90m<fct>\u001b[39m\u001b[23m 4…\n",
      "$ Post_Hour                                                           \u001b[3m\u001b[90m<fct>\u001b[39m\u001b[23m 3…\n",
      "$ Paid                                                                \u001b[3m\u001b[90m<dbl>\u001b[39m\u001b[23m 0…\n",
      "$ Lifetime_Post_Total_Reach                                           \u001b[3m\u001b[90m<dbl>\u001b[39m\u001b[23m 2…\n",
      "$ Lifetime_Post_Total_Impressions                                     \u001b[3m\u001b[90m<dbl>\u001b[39m\u001b[23m 5…\n",
      "$ Lifetime_Engaged_Users                                              \u001b[3m\u001b[90m<dbl>\u001b[39m\u001b[23m 1…\n",
      "$ Lifetime_Post_Consumers                                             \u001b[3m\u001b[90m<dbl>\u001b[39m\u001b[23m 1…\n",
      "$ Lifetime_Post_Consumptions                                          \u001b[3m\u001b[90m<dbl>\u001b[39m\u001b[23m 1…\n",
      "$ Lifetime_Post_Impressions_by_people_who_have_liked_your_Page        \u001b[3m\u001b[90m<dbl>\u001b[39m\u001b[23m 3…\n",
      "$ Lifetime_Post_reach_by_people_who_like_your_Page                    \u001b[3m\u001b[90m<dbl>\u001b[39m\u001b[23m 1…\n",
      "$ Lifetime_People_who_have_liked_your_Page_and_engaged_with_your_post \u001b[3m\u001b[90m<dbl>\u001b[39m\u001b[23m 1…\n",
      "$ comment                                                             \u001b[3m\u001b[90m<dbl>\u001b[39m\u001b[23m 4…\n",
      "$ like                                                                \u001b[3m\u001b[90m<dbl>\u001b[39m\u001b[23m 7…\n",
      "$ share                                                               \u001b[3m\u001b[90m<dbl>\u001b[39m\u001b[23m 1…\n",
      "$ Total_Interactions                                                  \u001b[3m\u001b[90m<dbl>\u001b[39m\u001b[23m 1…\n"
     ]
    }
   ],
   "source": [
    "# Replacing specified columns to categorical factors\n",
    "cols <- c(\"Type\", \"Category\", \"Post Month\", \"Post Weekday\", \"Post Hour\")\n",
    "facebook[cols] <- lapply(facebook[cols], as.factor)\n",
    "\n",
    "# Renaming column headers without spaces\n",
    "facebook_colname_fix <- facebook\n",
    "\n",
    "facebook_col_name_vec <- gsub(\" \", \"_\", colnames(facebook))\n",
    "colnames(facebook) <- facebook_col_name_vec\n",
    "\n",
    "glimpse(facebook)\n"
   ]
  },
  {
   "cell_type": "markdown",
   "metadata": {},
   "source": [
    "### Let us select only the data values relevant to our case scenario\n",
    "\n",
    "We want to explain the best type of post possible and thus we should first explore the relationship between the metrics produced by a post and the individual post type. The following key performance indicators describe a post's success:\n",
    "- comments\n",
    "- likes\n",
    "- shares\n",
    "- total interactions (summation of the 3 observations above)"
   ]
  },
  {
   "cell_type": "code",
   "execution_count": 96,
   "metadata": {},
   "outputs": [
    {
     "data": {
      "text/html": [
       "<table>\n",
       "<caption>A tibble: 500 × 5</caption>\n",
       "<thead>\n",
       "\t<tr><th scope=col>Type</th><th scope=col>comment</th><th scope=col>like</th><th scope=col>share</th><th scope=col>Total_Interactions</th></tr>\n",
       "\t<tr><th scope=col>&lt;fct&gt;</th><th scope=col>&lt;dbl&gt;</th><th scope=col>&lt;dbl&gt;</th><th scope=col>&lt;dbl&gt;</th><th scope=col>&lt;dbl&gt;</th></tr>\n",
       "</thead>\n",
       "<tbody>\n",
       "\t<tr><td>Photo </td><td> 4</td><td>  79</td><td> 17</td><td> 100</td></tr>\n",
       "\t<tr><td>Status</td><td> 5</td><td> 130</td><td> 29</td><td> 164</td></tr>\n",
       "\t<tr><td>Photo </td><td> 0</td><td>  66</td><td> 14</td><td>  80</td></tr>\n",
       "\t<tr><td>Photo </td><td>58</td><td>1572</td><td>147</td><td>1777</td></tr>\n",
       "\t<tr><td>⋮</td><td>⋮</td><td>⋮</td><td>⋮</td><td>⋮</td></tr>\n",
       "\t<tr><td>Photo</td><td>0</td><td>53</td><td>22</td><td> 75</td></tr>\n",
       "\t<tr><td>Photo</td><td>4</td><td>93</td><td>18</td><td>115</td></tr>\n",
       "\t<tr><td>Photo</td><td>7</td><td>91</td><td>38</td><td>136</td></tr>\n",
       "\t<tr><td>Photo</td><td>0</td><td>91</td><td>28</td><td>119</td></tr>\n",
       "</tbody>\n",
       "</table>\n"
      ],
      "text/latex": [
       "A tibble: 500 × 5\n",
       "\\begin{tabular}{lllll}\n",
       " Type & comment & like & share & Total\\_Interactions\\\\\n",
       " <fct> & <dbl> & <dbl> & <dbl> & <dbl>\\\\\n",
       "\\hline\n",
       "\t Photo  &  4 &   79 &  17 &  100\\\\\n",
       "\t Status &  5 &  130 &  29 &  164\\\\\n",
       "\t Photo  &  0 &   66 &  14 &   80\\\\\n",
       "\t Photo  & 58 & 1572 & 147 & 1777\\\\\n",
       "\t ⋮ & ⋮ & ⋮ & ⋮ & ⋮\\\\\n",
       "\t Photo & 0 & 53 & 22 &  75\\\\\n",
       "\t Photo & 4 & 93 & 18 & 115\\\\\n",
       "\t Photo & 7 & 91 & 38 & 136\\\\\n",
       "\t Photo & 0 & 91 & 28 & 119\\\\\n",
       "\\end{tabular}\n"
      ],
      "text/markdown": [
       "\n",
       "A tibble: 500 × 5\n",
       "\n",
       "| Type &lt;fct&gt; | comment &lt;dbl&gt; | like &lt;dbl&gt; | share &lt;dbl&gt; | Total_Interactions &lt;dbl&gt; |\n",
       "|---|---|---|---|---|\n",
       "| Photo  |  4 |   79 |  17 |  100 |\n",
       "| Status |  5 |  130 |  29 |  164 |\n",
       "| Photo  |  0 |   66 |  14 |   80 |\n",
       "| Photo  | 58 | 1572 | 147 | 1777 |\n",
       "| ⋮ | ⋮ | ⋮ | ⋮ | ⋮ |\n",
       "| Photo | 0 | 53 | 22 |  75 |\n",
       "| Photo | 4 | 93 | 18 | 115 |\n",
       "| Photo | 7 | 91 | 38 | 136 |\n",
       "| Photo | 0 | 91 | 28 | 119 |\n",
       "\n"
      ],
      "text/plain": [
       "    Type   comment like share Total_Interactions\n",
       "1   Photo   4        79  17    100              \n",
       "2   Status  5       130  29    164              \n",
       "3   Photo   0        66  14     80              \n",
       "4   Photo  58      1572 147   1777              \n",
       "⋮   ⋮      ⋮       ⋮    ⋮     ⋮                 \n",
       "497 Photo  0       53   22     75               \n",
       "498 Photo  4       93   18    115               \n",
       "499 Photo  7       91   38    136               \n",
       "500 Photo  0       91   28    119               "
      ]
     },
     "metadata": {},
     "output_type": "display_data"
    }
   ],
   "source": [
    "facebook_clean <- dplyr::select(facebook, Type, comment, like, share, Total_Interactions)\n",
    "facebook_clean"
   ]
  },
  {
   "cell_type": "markdown",
   "metadata": {},
   "source": [
    "### Compartmentalization of our data into Training, Validation, and Testing Sets"
   ]
  },
  {
   "cell_type": "code",
   "execution_count": 116,
   "metadata": {},
   "outputs": [
    {
     "name": "stdout",
     "output_type": "stream",
     "text": [
      "[1] \"Training Set:\"\n"
     ]
    },
    {
     "data": {
      "text/html": [
       "<table>\n",
       "<caption>A tibble: 350 × 5</caption>\n",
       "<thead>\n",
       "\t<tr><th scope=col>Type</th><th scope=col>comment</th><th scope=col>like</th><th scope=col>share</th><th scope=col>Total_Interactions</th></tr>\n",
       "\t<tr><th scope=col>&lt;fct&gt;</th><th scope=col>&lt;dbl&gt;</th><th scope=col>&lt;dbl&gt;</th><th scope=col>&lt;dbl&gt;</th><th scope=col>&lt;dbl&gt;</th></tr>\n",
       "</thead>\n",
       "<tbody>\n",
       "\t<tr><td>Photo </td><td> 4</td><td> 79</td><td>17</td><td>100</td></tr>\n",
       "\t<tr><td>Status</td><td> 5</td><td>130</td><td>29</td><td>164</td></tr>\n",
       "\t<tr><td>Photo </td><td> 0</td><td> 66</td><td>14</td><td> 80</td></tr>\n",
       "\t<tr><td>Photo </td><td>19</td><td>325</td><td>49</td><td>393</td></tr>\n",
       "\t<tr><td>⋮</td><td>⋮</td><td>⋮</td><td>⋮</td><td>⋮</td></tr>\n",
       "\t<tr><td>Photo</td><td>17</td><td>185</td><td>55</td><td>257</td></tr>\n",
       "\t<tr><td>Photo</td><td> 5</td><td> 53</td><td>26</td><td> 84</td></tr>\n",
       "\t<tr><td>Photo</td><td> 7</td><td> 91</td><td>38</td><td>136</td></tr>\n",
       "\t<tr><td>Photo</td><td> 0</td><td> 91</td><td>28</td><td>119</td></tr>\n",
       "</tbody>\n",
       "</table>\n"
      ],
      "text/latex": [
       "A tibble: 350 × 5\n",
       "\\begin{tabular}{lllll}\n",
       " Type & comment & like & share & Total\\_Interactions\\\\\n",
       " <fct> & <dbl> & <dbl> & <dbl> & <dbl>\\\\\n",
       "\\hline\n",
       "\t Photo  &  4 &  79 & 17 & 100\\\\\n",
       "\t Status &  5 & 130 & 29 & 164\\\\\n",
       "\t Photo  &  0 &  66 & 14 &  80\\\\\n",
       "\t Photo  & 19 & 325 & 49 & 393\\\\\n",
       "\t ⋮ & ⋮ & ⋮ & ⋮ & ⋮\\\\\n",
       "\t Photo & 17 & 185 & 55 & 257\\\\\n",
       "\t Photo &  5 &  53 & 26 &  84\\\\\n",
       "\t Photo &  7 &  91 & 38 & 136\\\\\n",
       "\t Photo &  0 &  91 & 28 & 119\\\\\n",
       "\\end{tabular}\n"
      ],
      "text/markdown": [
       "\n",
       "A tibble: 350 × 5\n",
       "\n",
       "| Type &lt;fct&gt; | comment &lt;dbl&gt; | like &lt;dbl&gt; | share &lt;dbl&gt; | Total_Interactions &lt;dbl&gt; |\n",
       "|---|---|---|---|---|\n",
       "| Photo  |  4 |  79 | 17 | 100 |\n",
       "| Status |  5 | 130 | 29 | 164 |\n",
       "| Photo  |  0 |  66 | 14 |  80 |\n",
       "| Photo  | 19 | 325 | 49 | 393 |\n",
       "| ⋮ | ⋮ | ⋮ | ⋮ | ⋮ |\n",
       "| Photo | 17 | 185 | 55 | 257 |\n",
       "| Photo |  5 |  53 | 26 |  84 |\n",
       "| Photo |  7 |  91 | 38 | 136 |\n",
       "| Photo |  0 |  91 | 28 | 119 |\n",
       "\n"
      ],
      "text/plain": [
       "    Type   comment like share Total_Interactions\n",
       "1   Photo   4       79  17    100               \n",
       "2   Status  5      130  29    164               \n",
       "3   Photo   0       66  14     80               \n",
       "4   Photo  19      325  49    393               \n",
       "⋮   ⋮      ⋮       ⋮    ⋮     ⋮                 \n",
       "347 Photo  17      185  55    257               \n",
       "348 Photo   5       53  26     84               \n",
       "349 Photo   7       91  38    136               \n",
       "350 Photo   0       91  28    119               "
      ]
     },
     "metadata": {},
     "output_type": "display_data"
    },
    {
     "name": "stdout",
     "output_type": "stream",
     "text": [
      "[1] \"Validation Set:\"\n"
     ]
    },
    {
     "data": {
      "text/html": [
       "<table>\n",
       "<caption>A tibble: 50 × 5</caption>\n",
       "<thead>\n",
       "\t<tr><th scope=col>Type</th><th scope=col>comment</th><th scope=col>like</th><th scope=col>share</th><th scope=col>Total_Interactions</th></tr>\n",
       "\t<tr><th scope=col>&lt;fct&gt;</th><th scope=col>&lt;dbl&gt;</th><th scope=col>&lt;dbl&gt;</th><th scope=col>&lt;dbl&gt;</th><th scope=col>&lt;dbl&gt;</th></tr>\n",
       "</thead>\n",
       "<tbody>\n",
       "\t<tr><td>Photo</td><td>0</td><td>77</td><td>15</td><td>92</td></tr>\n",
       "\t<tr><td>Photo</td><td>1</td><td>48</td><td> 9</td><td>58</td></tr>\n",
       "\t<tr><td>Photo</td><td>0</td><td>40</td><td>13</td><td>53</td></tr>\n",
       "\t<tr><td>Photo</td><td>2</td><td>60</td><td> 7</td><td>69</td></tr>\n",
       "\t<tr><td>⋮</td><td>⋮</td><td>⋮</td><td>⋮</td><td>⋮</td></tr>\n",
       "\t<tr><td>Photo</td><td>1</td><td> 28</td><td> 7</td><td> 36</td></tr>\n",
       "\t<tr><td>Photo</td><td>3</td><td>148</td><td>21</td><td>172</td></tr>\n",
       "\t<tr><td>Photo</td><td>2</td><td> 69</td><td>26</td><td> 97</td></tr>\n",
       "\t<tr><td>Photo</td><td>1</td><td> 79</td><td>30</td><td>110</td></tr>\n",
       "</tbody>\n",
       "</table>\n"
      ],
      "text/latex": [
       "A tibble: 50 × 5\n",
       "\\begin{tabular}{lllll}\n",
       " Type & comment & like & share & Total\\_Interactions\\\\\n",
       " <fct> & <dbl> & <dbl> & <dbl> & <dbl>\\\\\n",
       "\\hline\n",
       "\t Photo & 0 & 77 & 15 & 92\\\\\n",
       "\t Photo & 1 & 48 &  9 & 58\\\\\n",
       "\t Photo & 0 & 40 & 13 & 53\\\\\n",
       "\t Photo & 2 & 60 &  7 & 69\\\\\n",
       "\t ⋮ & ⋮ & ⋮ & ⋮ & ⋮\\\\\n",
       "\t Photo & 1 &  28 &  7 &  36\\\\\n",
       "\t Photo & 3 & 148 & 21 & 172\\\\\n",
       "\t Photo & 2 &  69 & 26 &  97\\\\\n",
       "\t Photo & 1 &  79 & 30 & 110\\\\\n",
       "\\end{tabular}\n"
      ],
      "text/markdown": [
       "\n",
       "A tibble: 50 × 5\n",
       "\n",
       "| Type &lt;fct&gt; | comment &lt;dbl&gt; | like &lt;dbl&gt; | share &lt;dbl&gt; | Total_Interactions &lt;dbl&gt; |\n",
       "|---|---|---|---|---|\n",
       "| Photo | 0 | 77 | 15 | 92 |\n",
       "| Photo | 1 | 48 |  9 | 58 |\n",
       "| Photo | 0 | 40 | 13 | 53 |\n",
       "| Photo | 2 | 60 |  7 | 69 |\n",
       "| ⋮ | ⋮ | ⋮ | ⋮ | ⋮ |\n",
       "| Photo | 1 |  28 |  7 |  36 |\n",
       "| Photo | 3 | 148 | 21 | 172 |\n",
       "| Photo | 2 |  69 | 26 |  97 |\n",
       "| Photo | 1 |  79 | 30 | 110 |\n",
       "\n"
      ],
      "text/plain": [
       "   Type  comment like share Total_Interactions\n",
       "1  Photo 0       77   15    92                \n",
       "2  Photo 1       48    9    58                \n",
       "3  Photo 0       40   13    53                \n",
       "4  Photo 2       60    7    69                \n",
       "⋮  ⋮     ⋮       ⋮    ⋮     ⋮                 \n",
       "47 Photo 1        28   7     36               \n",
       "48 Photo 3       148  21    172               \n",
       "49 Photo 2        69  26     97               \n",
       "50 Photo 1        79  30    110               "
      ]
     },
     "metadata": {},
     "output_type": "display_data"
    },
    {
     "name": "stdout",
     "output_type": "stream",
     "text": [
      "[1] \"Testing Set:\"\n"
     ]
    },
    {
     "data": {
      "text/html": [
       "<table>\n",
       "<caption>A tibble: 100 × 5</caption>\n",
       "<thead>\n",
       "\t<tr><th scope=col>Type</th><th scope=col>comment</th><th scope=col>like</th><th scope=col>share</th><th scope=col>Total_Interactions</th></tr>\n",
       "\t<tr><th scope=col>&lt;fct&gt;</th><th scope=col>&lt;dbl&gt;</th><th scope=col>&lt;dbl&gt;</th><th scope=col>&lt;dbl&gt;</th><th scope=col>&lt;dbl&gt;</th></tr>\n",
       "</thead>\n",
       "<tbody>\n",
       "\t<tr><td>Photo </td><td>58</td><td>1572</td><td>147</td><td>1777</td></tr>\n",
       "\t<tr><td>Status</td><td> 1</td><td> 152</td><td> 33</td><td> 186</td></tr>\n",
       "\t<tr><td>Link  </td><td> 0</td><td>  16</td><td>  2</td><td>  18</td></tr>\n",
       "\t<tr><td>Photo </td><td> 0</td><td> 100</td><td> 17</td><td> 117</td></tr>\n",
       "\t<tr><td>⋮</td><td>⋮</td><td>⋮</td><td>⋮</td><td>⋮</td></tr>\n",
       "\t<tr><td>Photo</td><td>56</td><td>360</td><td>99</td><td>515</td></tr>\n",
       "\t<tr><td>Photo</td><td>10</td><td>125</td><td>41</td><td>176</td></tr>\n",
       "\t<tr><td>Photo</td><td> 0</td><td> 53</td><td>22</td><td> 75</td></tr>\n",
       "\t<tr><td>Photo</td><td> 4</td><td> 93</td><td>18</td><td>115</td></tr>\n",
       "</tbody>\n",
       "</table>\n"
      ],
      "text/latex": [
       "A tibble: 100 × 5\n",
       "\\begin{tabular}{lllll}\n",
       " Type & comment & like & share & Total\\_Interactions\\\\\n",
       " <fct> & <dbl> & <dbl> & <dbl> & <dbl>\\\\\n",
       "\\hline\n",
       "\t Photo  & 58 & 1572 & 147 & 1777\\\\\n",
       "\t Status &  1 &  152 &  33 &  186\\\\\n",
       "\t Link   &  0 &   16 &   2 &   18\\\\\n",
       "\t Photo  &  0 &  100 &  17 &  117\\\\\n",
       "\t ⋮ & ⋮ & ⋮ & ⋮ & ⋮\\\\\n",
       "\t Photo & 56 & 360 & 99 & 515\\\\\n",
       "\t Photo & 10 & 125 & 41 & 176\\\\\n",
       "\t Photo &  0 &  53 & 22 &  75\\\\\n",
       "\t Photo &  4 &  93 & 18 & 115\\\\\n",
       "\\end{tabular}\n"
      ],
      "text/markdown": [
       "\n",
       "A tibble: 100 × 5\n",
       "\n",
       "| Type &lt;fct&gt; | comment &lt;dbl&gt; | like &lt;dbl&gt; | share &lt;dbl&gt; | Total_Interactions &lt;dbl&gt; |\n",
       "|---|---|---|---|---|\n",
       "| Photo  | 58 | 1572 | 147 | 1777 |\n",
       "| Status |  1 |  152 |  33 |  186 |\n",
       "| Link   |  0 |   16 |   2 |   18 |\n",
       "| Photo  |  0 |  100 |  17 |  117 |\n",
       "| ⋮ | ⋮ | ⋮ | ⋮ | ⋮ |\n",
       "| Photo | 56 | 360 | 99 | 515 |\n",
       "| Photo | 10 | 125 | 41 | 176 |\n",
       "| Photo |  0 |  53 | 22 |  75 |\n",
       "| Photo |  4 |  93 | 18 | 115 |\n",
       "\n"
      ],
      "text/plain": [
       "    Type   comment like share Total_Interactions\n",
       "1   Photo  58      1572 147   1777              \n",
       "2   Status  1       152  33    186              \n",
       "3   Link    0        16   2     18              \n",
       "4   Photo   0       100  17    117              \n",
       "⋮   ⋮      ⋮       ⋮    ⋮     ⋮                 \n",
       "97  Photo  56      360  99    515               \n",
       "98  Photo  10      125  41    176               \n",
       "99  Photo   0       53  22     75               \n",
       "100 Photo   4       93  18    115               "
      ]
     },
     "metadata": {},
     "output_type": "display_data"
    }
   ],
   "source": [
    "# We have 500 data points collected\n",
    "# assume we want at least 100 testable data points\n",
    "\n",
    "# -----\n",
    "# METHOD 1: singular training and testing set\n",
    "# Testing set will be 10% of data collected\n",
    "# Validation set will be 10% of data collected\n",
    "# Training data set be 80% of data collected\n",
    "\n",
    "# -----\n",
    "# METHOD 2: cross-validation technique\n",
    "# let us split our data into 4 total groups with a 1:5 ratio of testing and training data. \n",
    "# (25 points tested, 100 points for training)\n",
    "\n",
    "\n",
    "set.seed(99)\n",
    "\n",
    "# Method 1:\n",
    "partitionTrain = 0.8\n",
    "ratioTrainValidation = 7/8\n",
    "\n",
    "# 80/20 ratio TrainingSet:TestingSet\n",
    "split <- sample.split(facebook_clean$like, SplitRatio = partitionTrain)\n",
    "training_validation_data = subset(facebook_clean, split == TRUE)\n",
    "test_set = subset(facebook_clean, split == FALSE)\n",
    "\n",
    "split <- sample.split(training_validation_data$like, SplitRatio = ratioTrainValidation)\n",
    "training_set = subset(training_validation_data, split == TRUE)\n",
    "validation_set = subset(training_validation_data, split == FALSE)\n",
    "\n",
    "# ?subset\n",
    "print(\"Training Set:\")\n",
    "training_set\n",
    "print(\"Validation Set:\")\n",
    "validation_set\n",
    "print(\"Testing Set:\")\n",
    "test_set"
   ]
  },
  {
   "cell_type": "markdown",
   "metadata": {},
   "source": [
    "Now that we have separated our data into specified sets, we will next explore our training data."
   ]
  },
  {
   "cell_type": "markdown",
   "metadata": {},
   "source": [
    "---------------------------------------------------------------------------------------------------------"
   ]
  },
  {
   "cell_type": "code",
   "execution_count": 23,
   "metadata": {},
   "outputs": [
    {
     "data": {
      "image/png": "[encoded data removed]",
      "text/plain": [
       "plot without title"
      ]
     },
     "metadata": {
      "image/png": {
       "height": 420,
       "width": 420
      }
     },
     "output_type": "display_data"
    }
   ],
   "source": [
    "test_plot <- facebook %>% ggplot(aes(x = Lifetime_Post_Total_Reach, y = Lifetime_Post_Total_Impressions)) + geom_point()\n",
    "test_plot"
   ]
  },
  {
   "cell_type": "code",
   "execution_count": 24,
   "metadata": {},
   "outputs": [
    {
     "name": "stderr",
     "output_type": "stream",
     "text": [
      "`summarise()` ungrouping output (override with `.groups` argument)\n",
      "\n"
     ]
    },
    {
     "data": {
      "text/html": [
       "<table>\n",
       "<caption>A tibble: 4 × 2</caption>\n",
       "<thead>\n",
       "\t<tr><th scope=col>Type</th><th scope=col>total_likes</th></tr>\n",
       "\t<tr><th scope=col>&lt;fct&gt;</th><th scope=col>&lt;dbl&gt;</th></tr>\n",
       "</thead>\n",
       "<tbody>\n",
       "\t<tr><td>Link  </td><td> 1613</td></tr>\n",
       "\t<tr><td>Photo </td><td>77610</td></tr>\n",
       "\t<tr><td>Status</td><td> 7952</td></tr>\n",
       "\t<tr><td>Video </td><td> 1620</td></tr>\n",
       "</tbody>\n",
       "</table>\n"
      ],
      "text/latex": [
       "A tibble: 4 × 2\n",
       "\\begin{tabular}{ll}\n",
       " Type & total\\_likes\\\\\n",
       " <fct> & <dbl>\\\\\n",
       "\\hline\n",
       "\t Link   &  1613\\\\\n",
       "\t Photo  & 77610\\\\\n",
       "\t Status &  7952\\\\\n",
       "\t Video  &  1620\\\\\n",
       "\\end{tabular}\n"
      ],
      "text/markdown": [
       "\n",
       "A tibble: 4 × 2\n",
       "\n",
       "| Type &lt;fct&gt; | total_likes &lt;dbl&gt; |\n",
       "|---|---|\n",
       "| Link   |  1613 |\n",
       "| Photo  | 77610 |\n",
       "| Status |  7952 |\n",
       "| Video  |  1620 |\n",
       "\n"
      ],
      "text/plain": [
       "  Type   total_likes\n",
       "1 Link    1613      \n",
       "2 Photo  77610      \n",
       "3 Status  7952      \n",
       "4 Video   1620      "
      ]
     },
     "metadata": {},
     "output_type": "display_data"
    }
   ],
   "source": [
    "likes_by_type <- facebook %>%\n",
    "group_by(Type) %>%\n",
    "summarise(total_likes = sum(like, na.rm = TRUE))\n",
    "\n",
    "likes_by_type"
   ]
  },
  {
   "cell_type": "code",
   "execution_count": 25,
   "metadata": {},
   "outputs": [
    {
     "data": {
      "image/png": "[encoded data removed]",
      "text/plain": [
       "plot without title"
      ]
     },
     "metadata": {
      "image/png": {
       "height": 360,
       "width": 480
      }
     },
     "output_type": "display_data"
    }
   ],
   "source": [
    "options(repr.plot.width = 8, repr.plot.height = 6) \n",
    "\n",
    "likes_bar <- ggplot(likes_by_type, aes(x = Type, y = total_likes)) +\n",
    "geom_bar(stat = \"identity\") +\n",
    "labs(x = \"Post Type\", y = \"Number of Likes\") +\n",
    "theme(text = element_text(size = 18)) \n",
    "\n",
    "likes_bar"
   ]
  },
  {
   "cell_type": "code",
   "execution_count": null,
   "metadata": {},
   "outputs": [],
   "source": []
  }
 ],
 "metadata": {
  "kernelspec": {
   "display_name": "R",
   "language": "R",
   "name": "ir"
  },
  "language_info": {
   "codemirror_mode": "r",
   "file_extension": ".r",
   "mimetype": "text/x-r-source",
   "name": "R",
   "pygments_lexer": "r",
   "version": "4.0.0"
  }
 },
 "nbformat": 4,
 "nbformat_minor": 4
}
