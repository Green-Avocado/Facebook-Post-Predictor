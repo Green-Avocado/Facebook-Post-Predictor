{
 "cells": [
  {
   "cell_type": "markdown",
   "metadata": {},
   "source": [
    "## A Rough Skeleton of Working Draft\n",
    "---------------------------------------------------------------------------------------------------------\n",
    "\n",
    "\n",
    "### Table of Contents:\n",
    "1. Sypnosis\n",
    "    - Research Question\n",
    "    - Summary\n",
    "<p></p>\n",
    "2. Our Data Set \n",
    "    - Packages Used\n",
    "    - Loading and Cleansing\n",
    "    \n",
    "---------------------------------------------------------------------------------------------------------"
   ]
  },
  {
   "cell_type": "markdown",
   "metadata": {},
   "source": [
    "### 1.) Sypnosis: "
   ]
  },
  {
   "cell_type": "markdown",
   "metadata": {},
   "source": [
    "##### Research Question:\n",
    "How can an author increase engagement from users on Facebook and can we predict the success of a post using insights from an author's page?\n"
   ]
  },
  {
   "cell_type": "markdown",
   "metadata": {},
   "source": [
    "##### Overview:\n",
    "(description)"
   ]
  },
  {
   "cell_type": "markdown",
   "metadata": {},
   "source": [
    "---------------------------------------------------------------------------------------------------------"
   ]
  },
  {
   "cell_type": "markdown",
   "metadata": {},
   "source": [
    "### 2.) Dataset"
   ]
  },
  {
   "cell_type": "markdown",
   "metadata": {},
   "source": [
    "##### Packages Used:"
   ]
  },
  {
   "cell_type": "code",
   "execution_count": 183,
   "metadata": {},
   "outputs": [
    {
     "name": "stderr",
     "output_type": "stream",
     "text": [
      "Updating HTML index of packages in '.Library'\n",
      "\n",
      "Making 'packages.html' ...\n",
      " done\n",
      "\n"
     ]
    }
   ],
   "source": [
    "install.packages(\"caTools\")\n",
    "library(caTools)\n",
    "\n",
    "library(tidyverse)\n",
    "library(repr)\n",
    "library(tidymodels)\n",
    "library(MASS)\n",
    "options(repr.matrix.max.rows = 8)"
   ]
  },
  {
   "cell_type": "markdown",
   "metadata": {},
   "source": [
    "##### Facebook Data set:\n",
    "(description)"
   ]
  },
  {
   "cell_type": "code",
   "execution_count": 184,
   "metadata": {},
   "outputs": [
    {
     "name": "stderr",
     "output_type": "stream",
     "text": [
      "Using ',' as decimal and '.' as grouping mark. Use read_delim() for more control.\n",
      "\n",
      "Parsed with column specification:\n",
      "cols(\n",
      "  `Page total likes` = \u001b[32mcol_double()\u001b[39m,\n",
      "  Type = \u001b[31mcol_character()\u001b[39m,\n",
      "  Category = \u001b[32mcol_double()\u001b[39m,\n",
      "  `Post Month` = \u001b[32mcol_double()\u001b[39m,\n",
      "  `Post Weekday` = \u001b[32mcol_double()\u001b[39m,\n",
      "  `Post Hour` = \u001b[32mcol_double()\u001b[39m,\n",
      "  Paid = \u001b[32mcol_double()\u001b[39m,\n",
      "  `Lifetime Post Total Reach` = \u001b[32mcol_double()\u001b[39m,\n",
      "  `Lifetime Post Total Impressions` = \u001b[32mcol_double()\u001b[39m,\n",
      "  `Lifetime Engaged Users` = \u001b[32mcol_double()\u001b[39m,\n",
      "  `Lifetime Post Consumers` = \u001b[32mcol_double()\u001b[39m,\n",
      "  `Lifetime Post Consumptions` = \u001b[32mcol_double()\u001b[39m,\n",
      "  `Lifetime Post Impressions by people who have liked your Page` = \u001b[32mcol_double()\u001b[39m,\n",
      "  `Lifetime Post reach by people who like your Page` = \u001b[32mcol_double()\u001b[39m,\n",
      "  `Lifetime People who have liked your Page and engaged with your post` = \u001b[32mcol_double()\u001b[39m,\n",
      "  comment = \u001b[32mcol_double()\u001b[39m,\n",
      "  like = \u001b[32mcol_double()\u001b[39m,\n",
      "  share = \u001b[32mcol_double()\u001b[39m,\n",
      "  `Total Interactions` = \u001b[32mcol_double()\u001b[39m\n",
      ")\n",
      "\n"
     ]
    },
    {
     "data": {
      "text/html": [
       "<table>\n",
       "<caption>A spec_tbl_df: 500 × 19</caption>\n",
       "<thead>\n",
       "\t<tr><th scope=col>Page total likes</th><th scope=col>Type</th><th scope=col>Category</th><th scope=col>Post Month</th><th scope=col>Post Weekday</th><th scope=col>Post Hour</th><th scope=col>Paid</th><th scope=col>Lifetime Post Total Reach</th><th scope=col>Lifetime Post Total Impressions</th><th scope=col>Lifetime Engaged Users</th><th scope=col>Lifetime Post Consumers</th><th scope=col>Lifetime Post Consumptions</th><th scope=col>Lifetime Post Impressions by people who have liked your Page</th><th scope=col>Lifetime Post reach by people who like your Page</th><th scope=col>Lifetime People who have liked your Page and engaged with your post</th><th scope=col>comment</th><th scope=col>like</th><th scope=col>share</th><th scope=col>Total Interactions</th></tr>\n",
       "\t<tr><th scope=col>&lt;dbl&gt;</th><th scope=col>&lt;chr&gt;</th><th scope=col>&lt;dbl&gt;</th><th scope=col>&lt;dbl&gt;</th><th scope=col>&lt;dbl&gt;</th><th scope=col>&lt;dbl&gt;</th><th scope=col>&lt;dbl&gt;</th><th scope=col>&lt;dbl&gt;</th><th scope=col>&lt;dbl&gt;</th><th scope=col>&lt;dbl&gt;</th><th scope=col>&lt;dbl&gt;</th><th scope=col>&lt;dbl&gt;</th><th scope=col>&lt;dbl&gt;</th><th scope=col>&lt;dbl&gt;</th><th scope=col>&lt;dbl&gt;</th><th scope=col>&lt;dbl&gt;</th><th scope=col>&lt;dbl&gt;</th><th scope=col>&lt;dbl&gt;</th><th scope=col>&lt;dbl&gt;</th></tr>\n",
       "</thead>\n",
       "<tbody>\n",
       "\t<tr><td>139441</td><td>Photo </td><td>2</td><td>12</td><td>4</td><td> 3</td><td>0</td><td> 2752</td><td> 5091</td><td> 178</td><td> 109</td><td> 159</td><td> 3078</td><td> 1640</td><td> 119</td><td> 4</td><td>  79</td><td> 17</td><td> 100</td></tr>\n",
       "\t<tr><td>139441</td><td>Status</td><td>2</td><td>12</td><td>3</td><td>10</td><td>0</td><td>10460</td><td>19057</td><td>1457</td><td>1361</td><td>1674</td><td>11710</td><td> 6112</td><td>1108</td><td> 5</td><td> 130</td><td> 29</td><td> 164</td></tr>\n",
       "\t<tr><td>139441</td><td>Photo </td><td>3</td><td>12</td><td>3</td><td> 3</td><td>0</td><td> 2413</td><td> 4373</td><td> 177</td><td> 113</td><td> 154</td><td> 2812</td><td> 1503</td><td> 132</td><td> 0</td><td>  66</td><td> 14</td><td>  80</td></tr>\n",
       "\t<tr><td>139441</td><td>Photo </td><td>2</td><td>12</td><td>2</td><td>10</td><td>1</td><td>50128</td><td>87991</td><td>2211</td><td> 790</td><td>1119</td><td>61027</td><td>32048</td><td>1386</td><td>58</td><td>1572</td><td>147</td><td>1777</td></tr>\n",
       "\t<tr><td>⋮</td><td>⋮</td><td>⋮</td><td>⋮</td><td>⋮</td><td>⋮</td><td>⋮</td><td>⋮</td><td>⋮</td><td>⋮</td><td>⋮</td><td>⋮</td><td>⋮</td><td>⋮</td><td>⋮</td><td>⋮</td><td>⋮</td><td>⋮</td><td>⋮</td></tr>\n",
       "\t<tr><td>81370</td><td>Photo</td><td>2</td><td>1</td><td>5</td><td> 8</td><td> 0</td><td>3480</td><td>6229</td><td>537</td><td>508</td><td>687</td><td>3961</td><td>2104</td><td>301</td><td>0</td><td>53</td><td>22</td><td> 75</td></tr>\n",
       "\t<tr><td>81370</td><td>Photo</td><td>1</td><td>1</td><td>5</td><td> 2</td><td> 0</td><td>3778</td><td>7216</td><td>625</td><td>572</td><td>795</td><td>4742</td><td>2388</td><td>363</td><td>4</td><td>93</td><td>18</td><td>115</td></tr>\n",
       "\t<tr><td>81370</td><td>Photo</td><td>3</td><td>1</td><td>4</td><td>11</td><td> 0</td><td>4156</td><td>7564</td><td>626</td><td>574</td><td>832</td><td>4534</td><td>2452</td><td>370</td><td>7</td><td>91</td><td>38</td><td>136</td></tr>\n",
       "\t<tr><td>81370</td><td>Photo</td><td>2</td><td>1</td><td>4</td><td> 4</td><td>NA</td><td>4188</td><td>7292</td><td>564</td><td>524</td><td>743</td><td>3861</td><td>2200</td><td>316</td><td>0</td><td>91</td><td>28</td><td>119</td></tr>\n",
       "</tbody>\n",
       "</table>\n"
      ],
      "text/latex": [
       "A spec\\_tbl\\_df: 500 × 19\n",
       "\\begin{tabular}{lllllllllllllllllll}\n",
       " Page total likes & Type & Category & Post Month & Post Weekday & Post Hour & Paid & Lifetime Post Total Reach & Lifetime Post Total Impressions & Lifetime Engaged Users & Lifetime Post Consumers & Lifetime Post Consumptions & Lifetime Post Impressions by people who have liked your Page & Lifetime Post reach by people who like your Page & Lifetime People who have liked your Page and engaged with your post & comment & like & share & Total Interactions\\\\\n",
       " <dbl> & <chr> & <dbl> & <dbl> & <dbl> & <dbl> & <dbl> & <dbl> & <dbl> & <dbl> & <dbl> & <dbl> & <dbl> & <dbl> & <dbl> & <dbl> & <dbl> & <dbl> & <dbl>\\\\\n",
       "\\hline\n",
       "\t 139441 & Photo  & 2 & 12 & 4 &  3 & 0 &  2752 &  5091 &  178 &  109 &  159 &  3078 &  1640 &  119 &  4 &   79 &  17 &  100\\\\\n",
       "\t 139441 & Status & 2 & 12 & 3 & 10 & 0 & 10460 & 19057 & 1457 & 1361 & 1674 & 11710 &  6112 & 1108 &  5 &  130 &  29 &  164\\\\\n",
       "\t 139441 & Photo  & 3 & 12 & 3 &  3 & 0 &  2413 &  4373 &  177 &  113 &  154 &  2812 &  1503 &  132 &  0 &   66 &  14 &   80\\\\\n",
       "\t 139441 & Photo  & 2 & 12 & 2 & 10 & 1 & 50128 & 87991 & 2211 &  790 & 1119 & 61027 & 32048 & 1386 & 58 & 1572 & 147 & 1777\\\\\n",
       "\t ⋮ & ⋮ & ⋮ & ⋮ & ⋮ & ⋮ & ⋮ & ⋮ & ⋮ & ⋮ & ⋮ & ⋮ & ⋮ & ⋮ & ⋮ & ⋮ & ⋮ & ⋮ & ⋮\\\\\n",
       "\t 81370 & Photo & 2 & 1 & 5 &  8 &  0 & 3480 & 6229 & 537 & 508 & 687 & 3961 & 2104 & 301 & 0 & 53 & 22 &  75\\\\\n",
       "\t 81370 & Photo & 1 & 1 & 5 &  2 &  0 & 3778 & 7216 & 625 & 572 & 795 & 4742 & 2388 & 363 & 4 & 93 & 18 & 115\\\\\n",
       "\t 81370 & Photo & 3 & 1 & 4 & 11 &  0 & 4156 & 7564 & 626 & 574 & 832 & 4534 & 2452 & 370 & 7 & 91 & 38 & 136\\\\\n",
       "\t 81370 & Photo & 2 & 1 & 4 &  4 & NA & 4188 & 7292 & 564 & 524 & 743 & 3861 & 2200 & 316 & 0 & 91 & 28 & 119\\\\\n",
       "\\end{tabular}\n"
      ],
      "text/markdown": [
       "\n",
       "A spec_tbl_df: 500 × 19\n",
       "\n",
       "| Page total likes &lt;dbl&gt; | Type &lt;chr&gt; | Category &lt;dbl&gt; | Post Month &lt;dbl&gt; | Post Weekday &lt;dbl&gt; | Post Hour &lt;dbl&gt; | Paid &lt;dbl&gt; | Lifetime Post Total Reach &lt;dbl&gt; | Lifetime Post Total Impressions &lt;dbl&gt; | Lifetime Engaged Users &lt;dbl&gt; | Lifetime Post Consumers &lt;dbl&gt; | Lifetime Post Consumptions &lt;dbl&gt; | Lifetime Post Impressions by people who have liked your Page &lt;dbl&gt; | Lifetime Post reach by people who like your Page &lt;dbl&gt; | Lifetime People who have liked your Page and engaged with your post &lt;dbl&gt; | comment &lt;dbl&gt; | like &lt;dbl&gt; | share &lt;dbl&gt; | Total Interactions &lt;dbl&gt; |\n",
       "|---|---|---|---|---|---|---|---|---|---|---|---|---|---|---|---|---|---|---|\n",
       "| 139441 | Photo  | 2 | 12 | 4 |  3 | 0 |  2752 |  5091 |  178 |  109 |  159 |  3078 |  1640 |  119 |  4 |   79 |  17 |  100 |\n",
       "| 139441 | Status | 2 | 12 | 3 | 10 | 0 | 10460 | 19057 | 1457 | 1361 | 1674 | 11710 |  6112 | 1108 |  5 |  130 |  29 |  164 |\n",
       "| 139441 | Photo  | 3 | 12 | 3 |  3 | 0 |  2413 |  4373 |  177 |  113 |  154 |  2812 |  1503 |  132 |  0 |   66 |  14 |   80 |\n",
       "| 139441 | Photo  | 2 | 12 | 2 | 10 | 1 | 50128 | 87991 | 2211 |  790 | 1119 | 61027 | 32048 | 1386 | 58 | 1572 | 147 | 1777 |\n",
       "| ⋮ | ⋮ | ⋮ | ⋮ | ⋮ | ⋮ | ⋮ | ⋮ | ⋮ | ⋮ | ⋮ | ⋮ | ⋮ | ⋮ | ⋮ | ⋮ | ⋮ | ⋮ | ⋮ |\n",
       "| 81370 | Photo | 2 | 1 | 5 |  8 |  0 | 3480 | 6229 | 537 | 508 | 687 | 3961 | 2104 | 301 | 0 | 53 | 22 |  75 |\n",
       "| 81370 | Photo | 1 | 1 | 5 |  2 |  0 | 3778 | 7216 | 625 | 572 | 795 | 4742 | 2388 | 363 | 4 | 93 | 18 | 115 |\n",
       "| 81370 | Photo | 3 | 1 | 4 | 11 |  0 | 4156 | 7564 | 626 | 574 | 832 | 4534 | 2452 | 370 | 7 | 91 | 38 | 136 |\n",
       "| 81370 | Photo | 2 | 1 | 4 |  4 | NA | 4188 | 7292 | 564 | 524 | 743 | 3861 | 2200 | 316 | 0 | 91 | 28 | 119 |\n",
       "\n"
      ],
      "text/plain": [
       "    Page total likes Type   Category Post Month Post Weekday Post Hour Paid\n",
       "1   139441           Photo  2        12         4             3        0   \n",
       "2   139441           Status 2        12         3            10        0   \n",
       "3   139441           Photo  3        12         3             3        0   \n",
       "4   139441           Photo  2        12         2            10        1   \n",
       "⋮   ⋮                ⋮      ⋮        ⋮          ⋮            ⋮         ⋮   \n",
       "497 81370            Photo  2        1          5             8         0  \n",
       "498 81370            Photo  1        1          5             2         0  \n",
       "499 81370            Photo  3        1          4            11         0  \n",
       "500 81370            Photo  2        1          4             4        NA  \n",
       "    Lifetime Post Total Reach Lifetime Post Total Impressions\n",
       "1    2752                      5091                          \n",
       "2   10460                     19057                          \n",
       "3    2413                      4373                          \n",
       "4   50128                     87991                          \n",
       "⋮   ⋮                         ⋮                              \n",
       "497 3480                      6229                           \n",
       "498 3778                      7216                           \n",
       "499 4156                      7564                           \n",
       "500 4188                      7292                           \n",
       "    Lifetime Engaged Users Lifetime Post Consumers Lifetime Post Consumptions\n",
       "1    178                    109                     159                      \n",
       "2   1457                   1361                    1674                      \n",
       "3    177                    113                     154                      \n",
       "4   2211                    790                    1119                      \n",
       "⋮   ⋮                      ⋮                       ⋮                         \n",
       "497 537                    508                     687                       \n",
       "498 625                    572                     795                       \n",
       "499 626                    574                     832                       \n",
       "500 564                    524                     743                       \n",
       "    Lifetime Post Impressions by people who have liked your Page\n",
       "1    3078                                                       \n",
       "2   11710                                                       \n",
       "3    2812                                                       \n",
       "4   61027                                                       \n",
       "⋮   ⋮                                                           \n",
       "497 3961                                                        \n",
       "498 4742                                                        \n",
       "499 4534                                                        \n",
       "500 3861                                                        \n",
       "    Lifetime Post reach by people who like your Page\n",
       "1    1640                                           \n",
       "2    6112                                           \n",
       "3    1503                                           \n",
       "4   32048                                           \n",
       "⋮   ⋮                                               \n",
       "497 2104                                            \n",
       "498 2388                                            \n",
       "499 2452                                            \n",
       "500 2200                                            \n",
       "    Lifetime People who have liked your Page and engaged with your post comment\n",
       "1    119                                                                 4     \n",
       "2   1108                                                                 5     \n",
       "3    132                                                                 0     \n",
       "4   1386                                                                58     \n",
       "⋮   ⋮                                                                   ⋮      \n",
       "497 301                                                                 0      \n",
       "498 363                                                                 4      \n",
       "499 370                                                                 7      \n",
       "500 316                                                                 0      \n",
       "    like share Total Interactions\n",
       "1     79  17    100              \n",
       "2    130  29    164              \n",
       "3     66  14     80              \n",
       "4   1572 147   1777              \n",
       "⋮   ⋮    ⋮     ⋮                 \n",
       "497 53   22     75               \n",
       "498 93   18    115               \n",
       "499 91   38    136               \n",
       "500 91   28    119               "
      ]
     },
     "metadata": {},
     "output_type": "display_data"
    }
   ],
   "source": [
    "facebook <- read_csv2(\"data/dataset_Facebook.csv\")\n",
    "facebook"
   ]
  },
  {
   "cell_type": "code",
   "execution_count": 185,
   "metadata": {},
   "outputs": [
    {
     "name": "stdout",
     "output_type": "stream",
     "text": [
      "Rows: 500\n",
      "Columns: 19\n",
      "$ Page_total_likes                                                    \u001b[3m\u001b[90m<dbl>\u001b[39m\u001b[23m 1…\n",
      "$ Type                                                                \u001b[3m\u001b[90m<fct>\u001b[39m\u001b[23m P…\n",
      "$ Category                                                            \u001b[3m\u001b[90m<fct>\u001b[39m\u001b[23m 2…\n",
      "$ Post_Month                                                          \u001b[3m\u001b[90m<fct>\u001b[39m\u001b[23m 1…\n",
      "$ Post_Weekday                                                        \u001b[3m\u001b[90m<fct>\u001b[39m\u001b[23m 4…\n",
      "$ Post_Hour                                                           \u001b[3m\u001b[90m<fct>\u001b[39m\u001b[23m 3…\n",
      "$ Paid                                                                \u001b[3m\u001b[90m<fct>\u001b[39m\u001b[23m 0…\n",
      "$ Lifetime_Post_Total_Reach                                           \u001b[3m\u001b[90m<dbl>\u001b[39m\u001b[23m 2…\n",
      "$ Lifetime_Post_Total_Impressions                                     \u001b[3m\u001b[90m<dbl>\u001b[39m\u001b[23m 5…\n",
      "$ Lifetime_Engaged_Users                                              \u001b[3m\u001b[90m<dbl>\u001b[39m\u001b[23m 1…\n",
      "$ Lifetime_Post_Consumers                                             \u001b[3m\u001b[90m<dbl>\u001b[39m\u001b[23m 1…\n",
      "$ Lifetime_Post_Consumptions                                          \u001b[3m\u001b[90m<dbl>\u001b[39m\u001b[23m 1…\n",
      "$ Lifetime_Post_Impressions_by_people_who_have_liked_your_Page        \u001b[3m\u001b[90m<dbl>\u001b[39m\u001b[23m 3…\n",
      "$ Lifetime_Post_reach_by_people_who_like_your_Page                    \u001b[3m\u001b[90m<dbl>\u001b[39m\u001b[23m 1…\n",
      "$ Lifetime_People_who_have_liked_your_Page_and_engaged_with_your_post \u001b[3m\u001b[90m<dbl>\u001b[39m\u001b[23m 1…\n",
      "$ comment                                                             \u001b[3m\u001b[90m<dbl>\u001b[39m\u001b[23m 4…\n",
      "$ like                                                                \u001b[3m\u001b[90m<dbl>\u001b[39m\u001b[23m 7…\n",
      "$ share                                                               \u001b[3m\u001b[90m<dbl>\u001b[39m\u001b[23m 1…\n",
      "$ Total_Interactions                                                  \u001b[3m\u001b[90m<dbl>\u001b[39m\u001b[23m 1…\n"
     ]
    }
   ],
   "source": [
    "# Replacing specified columns to categorical factors\n",
    "cols <- c(\"Type\", \"Category\", \"Post Month\", \"Paid\", \"Post Weekday\", \"Post Hour\")\n",
    "facebook[cols] <- lapply(facebook[cols], as.factor)\n",
    "\n",
    "# Renaming column headers without spaces\n",
    "facebook_colname_fix <- facebook\n",
    "\n",
    "facebook_col_name_vec <- gsub(\" \", \"_\", colnames(facebook))\n",
    "colnames(facebook) <- facebook_col_name_vec\n",
    "\n",
    "glimpse(facebook)\n",
    "\n"
   ]
  },
  {
   "cell_type": "markdown",
   "metadata": {},
   "source": [
    "### Let us select only the data values relevant to our case scenario\n",
    "\n",
    "We want to explain the best type of post possible and thus we should first explore the relationship between the metrics produced by a post and the individual post type. The following key performance indicators describe a post's success:\n",
    "- comments\n",
    "- likes\n",
    "- shares\n",
    "- total interactions (summation of the 3 observations above)\n",
    "\n",
    "We will consider removing data points that are missing values if enough data is present. "
   ]
  },
  {
   "cell_type": "code",
   "execution_count": 254,
   "metadata": {},
   "outputs": [],
   "source": [
    "facebook_clean <- dplyr::select(facebook, Type, comment,\n",
    "                                like, share, Total_Interactions,\n",
    "                                Paid, Lifetime_Post_Total_Impressions) %>% na.omit(df)\n",
    "\n",
    "facebook_clean_unpaid <- facebook_clean %>% filter(Paid == 0)\n",
    "facebook_clean_paid <- facebook_clean %>% filter(Paid == 1)\n"
   ]
  },
  {
   "cell_type": "markdown",
   "metadata": {},
   "source": [
    "## Compartmentalization of our data into Training, Validation, and Testing Sets \n",
    "\n"
   ]
  },
  {
   "cell_type": "markdown",
   "metadata": {},
   "source": [
    "We have 500 data points collected, of which me must remove observations with NA. We will first filter our data into paid / unpaid data frames and see if there is enough data to persist. After which we will explore the various summary statistics within each group.\n",
    "\n",
    "-----\n",
    "**METHOD 1: Training and Testing set**\n",
    "<br>\n",
    "Testing set will be 20% of data collected\n",
    "Validation set will be 10% of data collected\n",
    "Training data set be 70% of data collected\n",
    "\n",
    "**METHOD 2: Cross-validation technique**\n",
    "<br>\n",
    "let us split our data into 4 total groups with a 1:5 ratio of testing and training data. \n",
    "(~25 points tested, 100 points for training)"
   ]
  },
  {
   "cell_type": "code",
   "execution_count": 257,
   "metadata": {},
   "outputs": [],
   "source": [
    "# Preliminary Steps\n",
    "# Method 1:\n",
    "set.seed(99)\n",
    "partitionTrain = 0.8\n",
    "ratioTrainValidation = 7/8"
   ]
  },
  {
   "cell_type": "markdown",
   "metadata": {},
   "source": [
    "#### Total Posts:"
   ]
  },
  {
   "cell_type": "code",
   "execution_count": 265,
   "metadata": {},
   "outputs": [
    {
     "name": "stdout",
     "output_type": "stream",
     "text": [
      "Rows: 346\n",
      "Columns: 7\n",
      "$ Type                            \u001b[3m\u001b[90m<fct>\u001b[39m\u001b[23m Status, Photo, Photo, Photo, Status, …\n",
      "$ comment                         \u001b[3m\u001b[90m<dbl>\u001b[39m\u001b[23m 5, 0, 58, 19, 1, 3, 0, 0, 0, 4, 15, 4…\n",
      "$ like                            \u001b[3m\u001b[90m<dbl>\u001b[39m\u001b[23m 130, 66, 1572, 325, 152, 113, 233, 88…\n",
      "$ share                           \u001b[3m\u001b[90m<dbl>\u001b[39m\u001b[23m 29, 14, 147, 49, 33, 26, 19, 18, 14, …\n",
      "$ Total_Interactions              \u001b[3m\u001b[90m<dbl>\u001b[39m\u001b[23m 164, 80, 1777, 393, 186, 142, 252, 10…\n",
      "$ Paid                            \u001b[3m\u001b[90m<fct>\u001b[39m\u001b[23m 0, 0, 1, 0, 0, 0, 0, 0, 0, 0, 1, 0, 0…\n",
      "$ Lifetime_Post_Total_Impressions \u001b[3m\u001b[90m<dbl>\u001b[39m\u001b[23m 19057, 4373, 87991, 13594, 20849, 866…\n"
     ]
    }
   ],
   "source": [
    "# 80/20 ratio TrainingSet:TestingSet\n",
    "split <- sample.split(facebook_clean$like, SplitRatio = partitionTrain)\n",
    "train_val_data = subset(facebook_clean, split == TRUE)\n",
    "test_set = subset(facebook_clean, split == FALSE)\n",
    "\n",
    "split <- sample.split(train_val_data$like, SplitRatio = ratioTrainValidation)\n",
    "train_set = subset(train_val_data, split == TRUE)\n",
    "val_set = subset(train_val_data, split == FALSE)\n",
    "glimpse(train_set)"
   ]
  },
  {
   "cell_type": "markdown",
   "metadata": {},
   "source": [
    "#### Unpaid Posts:"
   ]
  },
  {
   "cell_type": "code",
   "execution_count": 266,
   "metadata": {},
   "outputs": [
    {
     "name": "stdout",
     "output_type": "stream",
     "text": [
      "Rows: 248\n",
      "Columns: 7\n",
      "$ Type                            \u001b[3m\u001b[90m<fct>\u001b[39m\u001b[23m Photo, Status, Photo, Status, Photo, …\n",
      "$ comment                         \u001b[3m\u001b[90m<dbl>\u001b[39m\u001b[23m 4, 5, 0, 1, 3, 0, 0, 0, 5, 2, 4, 0, 3…\n",
      "$ like                            \u001b[3m\u001b[90m<dbl>\u001b[39m\u001b[23m 79, 130, 66, 152, 113, 233, 88, 90, 1…\n",
      "$ share                           \u001b[3m\u001b[90m<dbl>\u001b[39m\u001b[23m 17, 29, 14, 33, 26, 19, 18, 14, 10, 1…\n",
      "$ Total_Interactions              \u001b[3m\u001b[90m<dbl>\u001b[39m\u001b[23m 100, 164, 80, 186, 142, 252, 106, 104…\n",
      "$ Paid                            \u001b[3m\u001b[90m<fct>\u001b[39m\u001b[23m 0, 0, 0, 0, 0, 0, 0, 0, 0, 0, 0, 0, 0…\n",
      "$ Lifetime_Post_Total_Impressions \u001b[3m\u001b[90m<dbl>\u001b[39m\u001b[23m 5091, 19057, 4373, 20849, 8668, 42334…\n"
     ]
    }
   ],
   "source": [
    "set.seed(99)\n",
    "\n",
    "split <- sample.split(facebook_clean_unpaid$like, SplitRatio = partitionTrain)\n",
    "train_val_data_unpaid = subset(facebook_clean_unpaid, split == TRUE)\n",
    "test_set_unpaid = subset(facebook_clean_unpaid, split == FALSE)\n",
    "\n",
    "split <- sample.split(train_val_data_unpaid$like, SplitRatio = ratioTrainValidation)\n",
    "train_set_unpaid = subset(train_val_data_unpaid, split == TRUE)\n",
    "val_set_unpaid = subset(train_val_data_unpaid, split == FALSE)\n",
    "\n",
    "glimpse(train_set_unpaid)"
   ]
  },
  {
   "cell_type": "markdown",
   "metadata": {},
   "source": [
    "#### Paid:"
   ]
  },
  {
   "cell_type": "code",
   "execution_count": 267,
   "metadata": {},
   "outputs": [
    {
     "name": "stdout",
     "output_type": "stream",
     "text": [
      "Rows: 97\n",
      "Columns: 7\n",
      "$ Type                            \u001b[3m\u001b[90m<fct>\u001b[39m\u001b[23m Photo, Photo, Photo, Photo, Link, Lin…\n",
      "$ comment                         \u001b[3m\u001b[90m<dbl>\u001b[39m\u001b[23m 58, 3, 15, 16, 6, 7, 4, 24, 2, 8, 8, …\n",
      "$ like                            \u001b[3m\u001b[90m<dbl>\u001b[39m\u001b[23m 1572, 249, 678, 76, 187, 29, 57, 285,…\n",
      "$ share                           \u001b[3m\u001b[90m<dbl>\u001b[39m\u001b[23m 147, 27, 20, 8, 18, 10, 10, 28, 14, 1…\n",
      "$ Total_Interactions              \u001b[3m\u001b[90m<dbl>\u001b[39m\u001b[23m 1777, 279, 713, 100, 211, 46, 71, 337…\n",
      "$ Paid                            \u001b[3m\u001b[90m<fct>\u001b[39m\u001b[23m 1, 1, 1, 1, 1, 1, 1, 1, 1, 1, 1, 1, 1…\n",
      "$ Lifetime_Post_Total_Impressions \u001b[3m\u001b[90m<dbl>\u001b[39m\u001b[23m 87991, 19479, 111785, 28663, 28438, 4…\n"
     ]
    }
   ],
   "source": [
    "set.seed(99)\n",
    "\n",
    "partitionTrain = 0.8\n",
    "ratioTrainValidation = 7/8\n",
    "\n",
    "split <- sample.split(facebook_clean_paid$like, SplitRatio = partitionTrain)\n",
    "train_val_data_paid = subset(facebook_clean_paid, split == TRUE)\n",
    "test_set_paid = subset(facebook_clean_paid, split == FALSE)\n",
    "\n",
    "split <- sample.split(train_val_data_paid$like, SplitRatio = ratioTrainValidation)\n",
    "train_set_paid = subset(train_val_data_paid, split == TRUE)\n",
    "val_set_paid = subset(train_val_data_paid, split == FALSE)\n",
    "\n",
    "glimpse(train_set_paid)"
   ]
  },
  {
   "cell_type": "markdown",
   "metadata": {},
   "source": [
    "### Training Data Summaries\n",
    "Each Table includes:\n",
    "- Number of observations of each type\n",
    "- Mean and Median of key metrics in each post type\n"
   ]
  },
  {
   "cell_type": "markdown",
   "metadata": {},
   "source": [
    "#### Summary of Paid Posts:"
   ]
  },
  {
   "cell_type": "code",
   "execution_count": 250,
   "metadata": {},
   "outputs": [
    {
     "name": "stderr",
     "output_type": "stream",
     "text": [
      "`summarise()` ungrouping output (override with `.groups` argument)\n",
      "\n"
     ]
    },
    {
     "data": {
      "text/html": [
       "<table>\n",
       "<caption>A tibble: 4 × 10</caption>\n",
       "<thead>\n",
       "\t<tr><th scope=col>Type</th><th scope=col>count</th><th scope=col>mean_comment</th><th scope=col>median_comment</th><th scope=col>mean_like</th><th scope=col>median_like</th><th scope=col>mean_Total_Interactions</th><th scope=col>median_Total_Interactions</th><th scope=col>mean_share</th><th scope=col>median_share</th></tr>\n",
       "\t<tr><th scope=col>&lt;fct&gt;</th><th scope=col>&lt;int&gt;</th><th scope=col>&lt;dbl&gt;</th><th scope=col>&lt;dbl&gt;</th><th scope=col>&lt;dbl&gt;</th><th scope=col>&lt;dbl&gt;</th><th scope=col>&lt;dbl&gt;</th><th scope=col>&lt;dbl&gt;</th><th scope=col>&lt;dbl&gt;</th><th scope=col>&lt;dbl&gt;</th></tr>\n",
       "</thead>\n",
       "<tbody>\n",
       "\t<tr><td>Link  </td><td>  7</td><td> 3.285714</td><td> 2</td><td> 67.57143</td><td> 32.0</td><td> 88.14286</td><td> 49.0</td><td>17.28571</td><td>15</td></tr>\n",
       "\t<tr><td>Photo </td><td>214</td><td> 6.434579</td><td> 2</td><td>160.21963</td><td> 91.5</td><td>190.77103</td><td>114.5</td><td>24.11682</td><td>18</td></tr>\n",
       "\t<tr><td>Status</td><td> 26</td><td> 8.615385</td><td> 4</td><td>145.23077</td><td>129.5</td><td>179.92308</td><td>165.0</td><td>26.07692</td><td>26</td></tr>\n",
       "\t<tr><td>Video </td><td>  1</td><td>23.000000</td><td>23</td><td>204.00000</td><td>204.0</td><td>271.00000</td><td>271.0</td><td>44.00000</td><td>44</td></tr>\n",
       "</tbody>\n",
       "</table>\n"
      ],
      "text/latex": [
       "A tibble: 4 × 10\n",
       "\\begin{tabular}{llllllllll}\n",
       " Type & count & mean\\_comment & median\\_comment & mean\\_like & median\\_like & mean\\_Total\\_Interactions & median\\_Total\\_Interactions & mean\\_share & median\\_share\\\\\n",
       " <fct> & <int> & <dbl> & <dbl> & <dbl> & <dbl> & <dbl> & <dbl> & <dbl> & <dbl>\\\\\n",
       "\\hline\n",
       "\t Link   &   7 &  3.285714 &  2 &  67.57143 &  32.0 &  88.14286 &  49.0 & 17.28571 & 15\\\\\n",
       "\t Photo  & 214 &  6.434579 &  2 & 160.21963 &  91.5 & 190.77103 & 114.5 & 24.11682 & 18\\\\\n",
       "\t Status &  26 &  8.615385 &  4 & 145.23077 & 129.5 & 179.92308 & 165.0 & 26.07692 & 26\\\\\n",
       "\t Video  &   1 & 23.000000 & 23 & 204.00000 & 204.0 & 271.00000 & 271.0 & 44.00000 & 44\\\\\n",
       "\\end{tabular}\n"
      ],
      "text/markdown": [
       "\n",
       "A tibble: 4 × 10\n",
       "\n",
       "| Type &lt;fct&gt; | count &lt;int&gt; | mean_comment &lt;dbl&gt; | median_comment &lt;dbl&gt; | mean_like &lt;dbl&gt; | median_like &lt;dbl&gt; | mean_Total_Interactions &lt;dbl&gt; | median_Total_Interactions &lt;dbl&gt; | mean_share &lt;dbl&gt; | median_share &lt;dbl&gt; |\n",
       "|---|---|---|---|---|---|---|---|---|---|\n",
       "| Link   |   7 |  3.285714 |  2 |  67.57143 |  32.0 |  88.14286 |  49.0 | 17.28571 | 15 |\n",
       "| Photo  | 214 |  6.434579 |  2 | 160.21963 |  91.5 | 190.77103 | 114.5 | 24.11682 | 18 |\n",
       "| Status |  26 |  8.615385 |  4 | 145.23077 | 129.5 | 179.92308 | 165.0 | 26.07692 | 26 |\n",
       "| Video  |   1 | 23.000000 | 23 | 204.00000 | 204.0 | 271.00000 | 271.0 | 44.00000 | 44 |\n",
       "\n"
      ],
      "text/plain": [
       "  Type   count mean_comment median_comment mean_like median_like\n",
       "1 Link     7    3.285714     2              67.57143  32.0      \n",
       "2 Photo  214    6.434579     2             160.21963  91.5      \n",
       "3 Status  26    8.615385     4             145.23077 129.5      \n",
       "4 Video    1   23.000000    23             204.00000 204.0      \n",
       "  mean_Total_Interactions median_Total_Interactions mean_share median_share\n",
       "1  88.14286                49.0                     17.28571   15          \n",
       "2 190.77103               114.5                     24.11682   18          \n",
       "3 179.92308               165.0                     26.07692   26          \n",
       "4 271.00000               271.0                     44.00000   44          "
      ]
     },
     "metadata": {},
     "output_type": "display_data"
    }
   ],
   "source": [
    "summ_train_df <- training_set %>% group_by(Type) %>%  summarise(\n",
    "    count = n(),\n",
    "    mean_comment = mean(comment), \n",
    "    median_comment = median(comment), \n",
    "    mean_like = mean(like),\n",
    "    median_like = median(like),\n",
    "    mean_Total_Interactions = mean(Total_Interactions),\n",
    "    median_Total_Interactions = median(Total_Interactions),\n",
    "    mean_share = mean(share),\n",
    "    median_share = median(share),\n",
    ")\n",
    "summ_train_df"
   ]
  },
  {
   "cell_type": "markdown",
   "metadata": {},
   "source": [
    "#### Summary of Unpaid Posts:"
   ]
  },
  {
   "cell_type": "code",
   "execution_count": 251,
   "metadata": {},
   "outputs": [
    {
     "name": "stderr",
     "output_type": "stream",
     "text": [
      "`summarise()` ungrouping output (override with `.groups` argument)\n",
      "\n"
     ]
    },
    {
     "data": {
      "text/html": [
       "<table>\n",
       "<caption>A tibble: 4 × 10</caption>\n",
       "<thead>\n",
       "\t<tr><th scope=col>Type</th><th scope=col>count</th><th scope=col>mean_comment</th><th scope=col>median_comment</th><th scope=col>mean_like</th><th scope=col>median_like</th><th scope=col>mean_Total_Interactions</th><th scope=col>median_Total_Interactions</th><th scope=col>mean_share</th><th scope=col>median_share</th></tr>\n",
       "\t<tr><th scope=col>&lt;fct&gt;</th><th scope=col>&lt;int&gt;</th><th scope=col>&lt;dbl&gt;</th><th scope=col>&lt;dbl&gt;</th><th scope=col>&lt;dbl&gt;</th><th scope=col>&lt;dbl&gt;</th><th scope=col>&lt;dbl&gt;</th><th scope=col>&lt;dbl&gt;</th><th scope=col>&lt;dbl&gt;</th><th scope=col>&lt;dbl&gt;</th></tr>\n",
       "</thead>\n",
       "<tbody>\n",
       "\t<tr><td>Link  </td><td> 6</td><td> 4.000000</td><td> 5</td><td> 56.66667</td><td> 33.5</td><td> 71.0000</td><td> 51</td><td>10.33333</td><td>10.5</td></tr>\n",
       "\t<tr><td>Photo </td><td>82</td><td> 7.317073</td><td> 4</td><td>202.14634</td><td>127.0</td><td>235.2683</td><td>155</td><td>25.80488</td><td>19.0</td></tr>\n",
       "\t<tr><td>Status</td><td> 6</td><td>13.166667</td><td>14</td><td>281.16667</td><td>274.0</td><td>353.8333</td><td>339</td><td>59.50000</td><td>52.5</td></tr>\n",
       "\t<tr><td>Video </td><td> 3</td><td>12.333333</td><td>17</td><td>276.33333</td><td>315.0</td><td>346.6667</td><td>409</td><td>58.00000</td><td>76.0</td></tr>\n",
       "</tbody>\n",
       "</table>\n"
      ],
      "text/latex": [
       "A tibble: 4 × 10\n",
       "\\begin{tabular}{llllllllll}\n",
       " Type & count & mean\\_comment & median\\_comment & mean\\_like & median\\_like & mean\\_Total\\_Interactions & median\\_Total\\_Interactions & mean\\_share & median\\_share\\\\\n",
       " <fct> & <int> & <dbl> & <dbl> & <dbl> & <dbl> & <dbl> & <dbl> & <dbl> & <dbl>\\\\\n",
       "\\hline\n",
       "\t Link   &  6 &  4.000000 &  5 &  56.66667 &  33.5 &  71.0000 &  51 & 10.33333 & 10.5\\\\\n",
       "\t Photo  & 82 &  7.317073 &  4 & 202.14634 & 127.0 & 235.2683 & 155 & 25.80488 & 19.0\\\\\n",
       "\t Status &  6 & 13.166667 & 14 & 281.16667 & 274.0 & 353.8333 & 339 & 59.50000 & 52.5\\\\\n",
       "\t Video  &  3 & 12.333333 & 17 & 276.33333 & 315.0 & 346.6667 & 409 & 58.00000 & 76.0\\\\\n",
       "\\end{tabular}\n"
      ],
      "text/markdown": [
       "\n",
       "A tibble: 4 × 10\n",
       "\n",
       "| Type &lt;fct&gt; | count &lt;int&gt; | mean_comment &lt;dbl&gt; | median_comment &lt;dbl&gt; | mean_like &lt;dbl&gt; | median_like &lt;dbl&gt; | mean_Total_Interactions &lt;dbl&gt; | median_Total_Interactions &lt;dbl&gt; | mean_share &lt;dbl&gt; | median_share &lt;dbl&gt; |\n",
       "|---|---|---|---|---|---|---|---|---|---|\n",
       "| Link   |  6 |  4.000000 |  5 |  56.66667 |  33.5 |  71.0000 |  51 | 10.33333 | 10.5 |\n",
       "| Photo  | 82 |  7.317073 |  4 | 202.14634 | 127.0 | 235.2683 | 155 | 25.80488 | 19.0 |\n",
       "| Status |  6 | 13.166667 | 14 | 281.16667 | 274.0 | 353.8333 | 339 | 59.50000 | 52.5 |\n",
       "| Video  |  3 | 12.333333 | 17 | 276.33333 | 315.0 | 346.6667 | 409 | 58.00000 | 76.0 |\n",
       "\n"
      ],
      "text/plain": [
       "  Type   count mean_comment median_comment mean_like median_like\n",
       "1 Link    6     4.000000     5              56.66667  33.5      \n",
       "2 Photo  82     7.317073     4             202.14634 127.0      \n",
       "3 Status  6    13.166667    14             281.16667 274.0      \n",
       "4 Video   3    12.333333    17             276.33333 315.0      \n",
       "  mean_Total_Interactions median_Total_Interactions mean_share median_share\n",
       "1  71.0000                 51                       10.33333   10.5        \n",
       "2 235.2683                155                       25.80488   19.0        \n",
       "3 353.8333                339                       59.50000   52.5        \n",
       "4 346.6667                409                       58.00000   76.0        "
      ]
     },
     "metadata": {},
     "output_type": "display_data"
    }
   ],
   "source": [
    "summ_train_df_paid <- train_set_paid %>% group_by(Type) %>%  summarise(\n",
    "    count = n(),\n",
    "    mean_comment = mean(comment), \n",
    "    median_comment = median(comment), \n",
    "    mean_like = mean(like),\n",
    "    median_like = median(like),\n",
    "    mean_Total_Interactions = mean(Total_Interactions),\n",
    "    median_Total_Interactions = median(Total_Interactions),\n",
    "    mean_share = mean(share),\n",
    "    median_share = median(share),\n",
    "    \n",
    ")\n",
    "summ_train_df_paid"
   ]
  },
  {
   "cell_type": "markdown",
   "metadata": {},
   "source": [
    "---------------------------------------------------------------------------------------------------------"
   ]
  },
  {
   "cell_type": "code",
   "execution_count": 217,
   "metadata": {},
   "outputs": [
    {
     "data": {
      "image/png": "[encoded data removed]",
      "text/plain": [
       "plot without title"
      ]
     },
     "metadata": {
      "image/png": {
       "height": 360,
       "width": 480
      }
     },
     "output_type": "display_data"
    }
   ],
   "source": [
    "test_plot <- facebook %>% ggplot(aes(x = Lifetime_Post_Total_Reach, y = Lifetime_Post_Total_Impressions)) + geom_point()\n",
    "test_plot"
   ]
  },
  {
   "cell_type": "code",
   "execution_count": 218,
   "metadata": {},
   "outputs": [
    {
     "name": "stderr",
     "output_type": "stream",
     "text": [
      "`summarise()` ungrouping output (override with `.groups` argument)\n",
      "\n"
     ]
    },
    {
     "data": {
      "text/html": [
       "<table>\n",
       "<caption>A tibble: 4 × 2</caption>\n",
       "<thead>\n",
       "\t<tr><th scope=col>Type</th><th scope=col>total_likes</th></tr>\n",
       "\t<tr><th scope=col>&lt;fct&gt;</th><th scope=col>&lt;dbl&gt;</th></tr>\n",
       "</thead>\n",
       "<tbody>\n",
       "\t<tr><td>Link  </td><td> 1613</td></tr>\n",
       "\t<tr><td>Photo </td><td>77610</td></tr>\n",
       "\t<tr><td>Status</td><td> 7952</td></tr>\n",
       "\t<tr><td>Video </td><td> 1620</td></tr>\n",
       "</tbody>\n",
       "</table>\n"
      ],
      "text/latex": [
       "A tibble: 4 × 2\n",
       "\\begin{tabular}{ll}\n",
       " Type & total\\_likes\\\\\n",
       " <fct> & <dbl>\\\\\n",
       "\\hline\n",
       "\t Link   &  1613\\\\\n",
       "\t Photo  & 77610\\\\\n",
       "\t Status &  7952\\\\\n",
       "\t Video  &  1620\\\\\n",
       "\\end{tabular}\n"
      ],
      "text/markdown": [
       "\n",
       "A tibble: 4 × 2\n",
       "\n",
       "| Type &lt;fct&gt; | total_likes &lt;dbl&gt; |\n",
       "|---|---|\n",
       "| Link   |  1613 |\n",
       "| Photo  | 77610 |\n",
       "| Status |  7952 |\n",
       "| Video  |  1620 |\n",
       "\n"
      ],
      "text/plain": [
       "  Type   total_likes\n",
       "1 Link    1613      \n",
       "2 Photo  77610      \n",
       "3 Status  7952      \n",
       "4 Video   1620      "
      ]
     },
     "metadata": {},
     "output_type": "display_data"
    }
   ],
   "source": [
    "likes_by_type <- facebook %>%\n",
    "group_by(Type) %>%\n",
    "summarise(total_likes = sum(like, na.rm = TRUE))\n",
    "\n",
    "likes_by_type"
   ]
  },
  {
   "cell_type": "code",
   "execution_count": 219,
   "metadata": {},
   "outputs": [
    {
     "data": {
      "image/png": "[encoded data removed]",
      "text/plain": [
       "plot without title"
      ]
     },
     "metadata": {
      "image/png": {
       "height": 360,
       "width": 480
      }
     },
     "output_type": "display_data"
    }
   ],
   "source": [
    "options(repr.plot.width = 8, repr.plot.height = 6) \n",
    "\n",
    "likes_bar <- ggplot(likes_by_type, aes(x = Type, y = total_likes)) +\n",
    "geom_bar(stat = \"identity\") +\n",
    "labs(x = \"Post Type\", y = \"Number of Likes\") +\n",
    "theme(text = element_text(size = 18)) \n",
    "\n",
    "likes_bar"
   ]
  },
  {
   "cell_type": "code",
   "execution_count": null,
   "metadata": {},
   "outputs": [],
   "source": []
  },
  {
   "cell_type": "code",
   "execution_count": null,
   "metadata": {},
   "outputs": [],
   "source": []
  }
 ],
 "metadata": {
  "kernelspec": {
   "display_name": "R",
   "language": "R",
   "name": "ir"
  },
  "language_info": {
   "codemirror_mode": "r",
   "file_extension": ".r",
   "mimetype": "text/x-r-source",
   "name": "R",
   "pygments_lexer": "r",
   "version": "4.0.0"
  }
 },
 "nbformat": 4,
 "nbformat_minor": 4
}
